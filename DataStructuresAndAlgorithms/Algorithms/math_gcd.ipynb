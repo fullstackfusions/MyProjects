{
 "cells": [
  {
   "cell_type": "markdown",
   "metadata": {},
   "source": [
    "Greatest Common Divisor (GCD) can be very useful. Let's look at a couple of real-world examples where GCD is applied.\n",
    "\n",
    "## Example 1: Reducing Material Waste in Manufacturing\n",
    "\n",
    "**Problem Statement:**\n",
    "A manufacturing company produces rectangular metal sheets. They need to cut these sheets into smaller, square panels without any waste. The dimensions of the rectangular sheets vary, but they need to find the largest possible square size that can be used to cut any given sheet completely without leaving any material unused.\n",
    "\n",
    "**Use of GCD:**\n",
    "The largest square size that can fit into a rectangle without any waste is determined by the GCD of the rectangle's length and width. The GCD represents the largest square dimension that can divide both the length and width evenly."
   ]
  },
  {
   "cell_type": "code",
   "execution_count": null,
   "metadata": {},
   "outputs": [],
   "source": [
    "import math\n",
    "\n",
    "def largest_square_size(length, width):\n",
    "    return math.gcd(length, width)\n",
    "\n",
    "# Example usage\n",
    "length_of_sheet = 240\n",
    "width_of_sheet = 180\n",
    "max_square_size = largest_square_size(length_of_sheet, width_of_sheet)\n",
    "print(f\"The largest square size for cutting is: {max_square_size} units\")"
   ]
  },
  {
   "cell_type": "markdown",
   "metadata": {},
   "source": [
    "## Example 2: Coordinating Group Activities\n",
    "\n",
    "**Problem Statement:**\n",
    "In a school, two groups of students practice different activities. One group practices every 6 days, and the other every 8 days. The school wants to organize a special event when both groups practice on the same day. They need to find out after how many days such an event can occur, starting from the same day.\n",
    "\n",
    "**Use of GCD:**\n",
    "This problem can be solved by finding the GCD of the two intervals (6 and 8 days). The GCD will give the number of days after which both groups will practice on the same day again.\n"
   ]
  },
  {
   "cell_type": "markdown",
   "metadata": {},
   "source": [
    "## Example 3: GCD (મહત્તમ સામાન્ય વિભાજક) રેશિયોનું સરળીકરણ\n",
    "\n",
    "**સમસ્યા નિવારણ:**\n",
    "રસોઈમાં વાનગીઓના પ્રમાણોને સરળ બનાવવા માટે, જો તમે બે ઘટકોના પ્રમાણોને તેમના GCD થી વહેંચો, તો તમે સરળ અને સંતુલિત રેશિયો મેળવી શકો છો."
   ]
  },
  {
   "cell_type": "code",
   "execution_count": null,
   "metadata": {},
   "outputs": [],
   "source": [
    "def days_until_joint_activity(group1_interval, group2_interval):\n",
    "    return math.gcd(group1_interval, group2_interval)\n",
    "\n",
    "# Example usage\n",
    "group1_practice_days = 6\n",
    "group2_practice_days = 8\n",
    "days_until_event = days_until_joint_activity(group1_practice_days, group2_practice_days)\n",
    "print(f\"The groups will practice together every {days_until_event} days.\")\n"
   ]
  },
  {
   "cell_type": "markdown",
   "metadata": {},
   "source": [
    "## GCD in Machine Learning/Data Science:\n",
    "\n",
    "**Example: Optimizing Batch Processing**\n",
    "\n",
    "In machine learning, especially when dealing with large datasets, it's common to use batch processing for training models. Suppose you have a dataset with a number of samples that is not evenly divisible by your preferred batch size. In such a case, finding the GCD of the dataset size and different potential batch sizes can help you choose the most efficient batch size that minimizes the number of unused data points.\n",
    "\n",
    "For instance, if your dataset has 10,000 samples, and you're considering batch sizes of 32, 64, and 128, the GCD can help determine the most efficient batch size for processing the entire dataset without leaving out any samples."
   ]
  },
  {
   "cell_type": "code",
   "execution_count": null,
   "metadata": {},
   "outputs": [],
   "source": [
    "import math\n",
    "\n",
    "def optimal_batch_size(dataset_size, potential_batch_sizes):\n",
    "    gcd_values = [math.gcd(dataset_size, batch_size) for batch_size in potential_batch_sizes]\n",
    "    optimal_size = potential_batch_sizes[gcd_values.index(max(gcd_values))]\n",
    "    return optimal_size\n",
    "\n",
    "# Dataset size and potential batch sizes\n",
    "dataset_size = 10000\n",
    "potential_batch_sizes = [32, 64, 128]\n",
    "\n",
    "# Find the optimal batch size\n",
    "optimal_size = optimal_batch_size(dataset_size, potential_batch_sizes)\n",
    "print(f\"Optimal batch size: {optimal_size}\")\n"
   ]
  },
  {
   "cell_type": "code",
   "execution_count": null,
   "metadata": {},
   "outputs": [],
   "source": [
    "# Given a numerator and denominator of a fraction, simplify it to its lowest terms.\n",
    "\n",
    "import math\n",
    "\n",
    "def simplify_fraction(numerator, denominator):\n",
    "    gcd = math.gcd(numerator, denominator)\n",
    "    return numerator // gcd, denominator // gcd\n",
    "\n",
    "# Example usage\n",
    "num, denom = simplify_fraction(150, 100)\n",
    "print(f\"Simplified Fraction: {num}/{denom}\")\n"
   ]
  },
  {
   "cell_type": "code",
   "execution_count": null,
   "metadata": {},
   "outputs": [],
   "source": [
    "# Find the Least Common Multiple (LCM) of two numbers.\n",
    "# LCM is a practical application of GCD.\n",
    "# LCM of two numbers is the smallest number that is a multiple of both.\n",
    "\n",
    "def lcm(a, b):\n",
    "    return abs(a*b) // math.gcd(a, b)\n",
    "\n",
    "# Example usage\n",
    "result = lcm(15, 20)\n",
    "print(f\"LCM: {result}\")\n"
   ]
  },
  {
   "cell_type": "code",
   "execution_count": null,
   "metadata": {},
   "outputs": [],
   "source": [
    "# You have a certain number of objects and want to arrange them\n",
    "# into rows so that each row has an equal number of objects without any left over.\n",
    "# Find the maximum number of objects that can be in each row.\n",
    "\n",
    "def max_objects_per_row(total_objects, rows):\n",
    "    return math.gcd(total_objects, rows)\n",
    "\n",
    "# Example usage\n",
    "objects = 120\n",
    "rows = 45\n",
    "print(f\"Maximum objects per row: {max_objects_per_row(objects, rows)}\")\n"
   ]
  },
  {
   "cell_type": "code",
   "execution_count": null,
   "metadata": {},
   "outputs": [],
   "source": [
    "# Given two events that occur repeatedly at regular intervals, find the time interval at which they will coincide.\n",
    "\n",
    "def time_to_coincide(interval1, interval2):\n",
    "    return lcm(interval1, interval2)\n",
    "\n",
    "# Example usage\n",
    "interval1 = 6\n",
    "interval2 = 8\n",
    "print(f\"Time to coincide: {time_to_coincide(interval1, interval2)} minutes\")"
   ]
  },
  {
   "cell_type": "code",
   "execution_count": null,
   "metadata": {},
   "outputs": [],
   "source": [
    "a = int(input(\"enter a:\"))\n",
    "b = int(input(\"enter b:\"))\n",
    "small = min(a, b)\n",
    "for i in range(1, small+1):\n",
    "    if (a%i == 0 and b%i == 0):\n",
    "        gcd = i\n",
    "print(gcd)"
   ]
  }
 ],
 "metadata": {
  "kernelspec": {
   "display_name": "Python 3",
   "language": "python",
   "name": "python3"
  },
  "language_info": {
   "codemirror_mode": {
    "name": "ipython",
    "version": 3
   },
   "file_extension": ".py",
   "mimetype": "text/x-python",
   "name": "python",
   "nbconvert_exporter": "python",
   "pygments_lexer": "ipython3",
   "version": "3.11.3"
  }
 },
 "nbformat": 4,
 "nbformat_minor": 2
}
