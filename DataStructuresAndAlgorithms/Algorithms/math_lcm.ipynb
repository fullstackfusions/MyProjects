{
 "cells": [
  {
   "cell_type": "markdown",
   "metadata": {},
   "source": [
    "## Question: Scheduling Multiple Recurring Events\n",
    "\n",
    "Suppose you are an event coordinator responsible for scheduling multiple recurring activities in a community center. You have three different classes - a dance class, a yoga class, and a painting class. Each class is held at different intervals:\n",
    "\n",
    "The dance class is held every 4 days.\n",
    "The yoga class is held every 6 days.\n",
    "The painting class is held every 9 days.\n",
    "You want to organize a special event where all three classes can be held on the same day for a combined mega-session. You need to find out after how many days this special event can take place, where all three classes align on the same day.\n",
    "\n",
    "**Use of LCM**:\n",
    "\n",
    "To solve this, you can use the Least Common Multiple (LCM) to find out the earliest day when all three classes can be scheduled together. The LCM will give you the smallest number that is a multiple of 4, 6, and 9, which is the interval at which all three classes will coincide."
   ]
  },
  {
   "cell_type": "code",
   "execution_count": null,
   "metadata": {},
   "outputs": [],
   "source": [
    "import math\n",
    "\n",
    "def lcm(a, b):\n",
    "    return abs(a * b) // math.gcd(a, b)\n",
    "\n",
    "def find_special_event_day(dance_interval, yoga_interval, painting_interval):\n",
    "    # First, find the LCM of the first two intervals\n",
    "    lcm_first_two = lcm(dance_interval, yoga_interval)\n",
    "    # Then, find the LCM of the result with the third interval\n",
    "    return lcm(lcm_first_two, painting_interval)\n",
    "\n",
    "# Intervals for each class\n",
    "dance_class_interval = 4\n",
    "yoga_class_interval = 6\n",
    "painting_class_interval = 9\n",
    "\n",
    "# Calculate the day for the special event\n",
    "special_event_day = find_special_event_day(dance_class_interval, yoga_class_interval, painting_class_interval)\n",
    "\n",
    "print(f\"The special event where all classes align will be on day: {special_event_day}\")\n"
   ]
  },
  {
   "cell_type": "markdown",
   "metadata": {},
   "source": [
    "## Question: Coordinating Traffic Lights\n",
    "\n",
    "Imagine you are a city planner tasked with synchronizing traffic lights at an intersection. There are three traffic lights, each cycling at different intervals:\n",
    "\n",
    "- The first light changes every 40 seconds.\n",
    "- The second light changes every 30 seconds.\n",
    "- The third light changes every 45 seconds.\n",
    "\n",
    "Your goal is to synchronize these lights so that they all turn green at the same time at regular intervals, to improve traffic flow. You need to find out after how many seconds all three lights will be green simultaneously.\n",
    "\n",
    "**Use of LCM:**\n",
    "\n",
    "To solve this, you can use the Least Common Multiple (LCM) to determine the smallest time interval at which all three traffic lights will be green at the same time. The LCM will give you the shortest duration that is a multiple of 40, 30, and 45 seconds, indicating when all lights will align on green.\n"
   ]
  },
  {
   "cell_type": "code",
   "execution_count": null,
   "metadata": {},
   "outputs": [],
   "source": [
    "import math\n",
    "\n",
    "def lcm(a, b):\n",
    "    return abs(a * b) // math.gcd(a, b)\n",
    "\n",
    "def find_sync_time(light1_interval, light2_interval, light3_interval):\n",
    "    # First, find the LCM of the first two light intervals\n",
    "    lcm_first_two = lcm(light1_interval, light2_interval)\n",
    "    # Then, find the LCM of the result with the third light interval\n",
    "    return lcm(lcm_first_two, light3_interval)\n",
    "\n",
    "# Intervals for each traffic light\n",
    "light1_interval = 40  # seconds\n",
    "light2_interval = 30  # seconds\n",
    "light3_interval = 45  # seconds\n",
    "\n",
    "# Calculate the time for synchronization\n",
    "sync_time = find_sync_time(light1_interval, light2_interval, light3_interval)\n",
    "\n",
    "print(f\"All traffic lights will be green simultaneously every {sync_time} seconds.\")\n"
   ]
  },
  {
   "cell_type": "markdown",
   "metadata": {},
   "source": [
    "## LCM (લઘુત્તમ સામાન્ય ગુણાકાર) માટેનું બીજું ઉદાહરણ: પ્રોજેક્ટ શેડ્યૂલિંગ\n",
    "\n",
    "**સમસ્યા નિવારણ:**\n",
    "એક કંપનીમાં ત્રણ પ્રોજેક્ટ્સ છે, જેમની રિવ્યુ મિટિંગ્સ અલગ અલગ સમય અંતરાલે યોજાય છે: પ્રથમ પ્રોજેક્ટ દર 10 દિવસે, બીજો પ્રોજેક્ટ દર 15 દિવસે અને ત્રીજો પ્રોજેક્ટ દર 20 દિવસે. LCM નો ઉપયોગ કરીને, તમે જાણી શકો છો કે બધા પ્રોજેક્ટ્સની મિટિંગ્સ એક જ દિવસે ક્યારે યોજાઈ શકે."
   ]
  },
  {
   "cell_type": "markdown",
   "metadata": {},
   "source": [
    "## LCM in Machine Learning/Data Science:\n",
    "\n",
    "**Example: Synchronizing Multiple Data Streams**\n",
    "\n",
    "In data science, especially in time-series analysis or when dealing with IoT (Internet of Things) data, you might have multiple sensors sending data at different intervals. If you need to analyze this data in a synchronized manner, LCM can be used to determine the optimal time intervals for data collection or analysis.\n",
    "\n",
    "For instance, if you have one sensor sending data every 5 minutes and another every 3 minutes, using the LCM, you can synchronize your data analysis process to occur every 15 minutes, which is the time interval where both sets of data will be available.\n",
    "\n",
    "These examples illustrate how mathematical concepts like GCD and LCM can be applied in practical scenarios within machine learning and data science, aiding in optimization and synchronization tasks."
   ]
  },
  {
   "cell_type": "code",
   "execution_count": null,
   "metadata": {},
   "outputs": [],
   "source": [
    "def lcm(a, b):\n",
    "    return abs(a * b) // math.gcd(a, b)\n",
    "\n",
    "def optimal_sync_interval(intervals):\n",
    "    sync_interval = intervals[0]\n",
    "    for interval in intervals[1:]:\n",
    "        sync_interval = lcm(sync_interval, interval)\n",
    "    return sync_interval\n",
    "\n",
    "# Sensor data intervals\n",
    "sensor_intervals = [5, 3]  # minutes\n",
    "\n",
    "# Find the optimal synchronization interval\n",
    "sync_interval = optimal_sync_interval(sensor_intervals)\n",
    "print(f\"Optimal synchronization interval: {sync_interval} minutes\")\n"
   ]
  }
 ],
 "metadata": {
  "language_info": {
   "name": "python"
  }
 },
 "nbformat": 4,
 "nbformat_minor": 2
}
