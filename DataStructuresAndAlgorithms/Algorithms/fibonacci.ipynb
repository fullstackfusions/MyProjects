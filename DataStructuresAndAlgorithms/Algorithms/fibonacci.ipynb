{
 "cells": [
  {
   "cell_type": "markdown",
   "metadata": {},
   "source": [
    "## Fibonacci Example:\n",
    "The Fibonacci series is used in the financial industry, particularly in technical analysis for trading stocks, commodities, and other financial instruments. Traders use Fibonacci retracement levels as a tool to predict potential support and resistance levels for an asset's price. These levels are derived from the Fibonacci sequence and can indicate where prices might pause or reverse."
   ]
  },
  {
   "cell_type": "code",
   "execution_count": null,
   "metadata": {},
   "outputs": [],
   "source": [
    "# Fibonacci Example:\n",
    "def fibonacci(n):\n",
    "    a, b = 0, 1\n",
    "    for _ in range(n):\n",
    "        yield a\n",
    "        a, b = b, a + b\n",
    "\n",
    "# Generate first 10 Fibonacci numbers\n",
    "for num in fibonacci(8):\n",
    "    print(num)\n"
   ]
  },
  {
   "cell_type": "markdown",
   "metadata": {},
   "source": [
    "### Recursive Approach"
   ]
  },
  {
   "cell_type": "code",
   "execution_count": null,
   "metadata": {},
   "outputs": [],
   "source": [
    "# Find nth Fibonacci number using recursive approach:\n",
    "def fibonacci_recursive(n):\n",
    "    if n <= 0:\n",
    "        return 0\n",
    "    elif n == 1:\n",
    "        return 1\n",
    "    else:\n",
    "        return fibonacci_recursive(n-1) + fibonacci_recursive(n-2)"
   ]
  },
  {
   "cell_type": "markdown",
   "metadata": {},
   "source": [
    "### Iterative Approach"
   ]
  },
  {
   "cell_type": "code",
   "execution_count": null,
   "metadata": {},
   "outputs": [],
   "source": [
    "# Find nth Fibonacci number using iterative approach: recommended for large numbers\n",
    "def fibonacci_iterative(n):\n",
    "    if n <= 0:\n",
    "        return 0\n",
    "    elif n == 1:\n",
    "        return 1\n",
    "    a, b = 0, 1\n",
    "    for _ in range(2, n+1):\n",
    "        a, b = b, a + b\n",
    "    return b"
   ]
  },
  {
   "cell_type": "markdown",
   "metadata": {},
   "source": [
    "### Dynamic Memoization"
   ]
  },
  {
   "cell_type": "code",
   "execution_count": null,
   "metadata": {},
   "outputs": [],
   "source": [
    "# Find nth Fibonacci number using dynamic memoization: recommended for large numbers\n",
    "def fibonacci_memoization(n, computed={0: 0, 1: 1}):\n",
    "    if n not in computed:\n",
    "        computed[n] = fibonacci_memoization(n-1, computed) + fibonacci_memoization(n-2, computed)\n",
    "    return computed[n]"
   ]
  },
  {
   "cell_type": "markdown",
   "metadata": {},
   "source": [
    "### Matrix Exponentiation"
   ]
  },
  {
   "cell_type": "code",
   "execution_count": null,
   "metadata": {},
   "outputs": [],
   "source": [
    "# Find nth Fibonacci number using Matrix exponentiation: recommended for large numbers\n",
    "def matrix_power(matrix, n):\n",
    "    if n == 1:\n",
    "        return matrix\n",
    "    if n % 2 == 0:\n",
    "        half_power = matrix_power(matrix, n // 2)\n",
    "        return multiply_matrices(half_power, half_power)\n",
    "    else:\n",
    "        return multiply_matrices(matrix, matrix_power(matrix, n - 1))\n",
    "\n",
    "def multiply_matrices(a, b):\n",
    "    return [[sum(x * y for x, y in zip(row, col)) for col in zip(*b)] for row in a]\n",
    "\n",
    "def fibonacci_matrix(n):\n",
    "    base_matrix = [[1, 1], [1, 0]]\n",
    "    if n <= 0:\n",
    "        return 0\n",
    "    elif n == 1:\n",
    "        return 1\n",
    "    else:\n",
    "        result_matrix = matrix_power(base_matrix, n-1)\n",
    "        return result_matrix[0][0]"
   ]
  },
  {
   "cell_type": "code",
   "execution_count": null,
   "metadata": {},
   "outputs": [],
   "source": [
    "# Fibonacci Example:\n",
    "# The key Fibonacci retracement levels are usually 23.6%, 38.2%, 50%, 61.8%, and 100%.\n",
    "# These are calculated from numbers in the Fibonacci sequence.\n",
    "# The retracement levels represent potential support or resistance levels where\n",
    "# the price might pause or reverse.\n",
    "def fibonacci_retracement_levels(low_price, high_price):\n",
    "    difference = high_price - low_price\n",
    "    levels = {\n",
    "        '23.6%': high_price - difference * 0.236,\n",
    "        '38.2%': high_price - difference * 0.382,\n",
    "        '50.0%': high_price - difference * 0.500,\n",
    "        '61.8%': high_price - difference * 0.618,\n",
    "        '100%': low_price,\n",
    "    }\n",
    "    return levels\n",
    "\n",
    "# Example: A stock rose from $100 to $200\n",
    "low_price = 100\n",
    "high_price = 200\n",
    "\n",
    "retracement_levels = fibonacci_retracement_levels(low_price, high_price)\n",
    "\n",
    "for level, price in retracement_levels.items():\n",
    "    print(f\"Fibonacci Retracement Level {level}: ${price:.2f}\")\n"
   ]
  }
 ],
 "metadata": {
  "kernelspec": {
   "display_name": "Python 3",
   "language": "python",
   "name": "python3"
  },
  "language_info": {
   "codemirror_mode": {
    "name": "ipython",
    "version": 3
   },
   "file_extension": ".py",
   "mimetype": "text/x-python",
   "name": "python",
   "nbconvert_exporter": "python",
   "pygments_lexer": "ipython3",
   "version": "3.11.3"
  }
 },
 "nbformat": 4,
 "nbformat_minor": 2
}
