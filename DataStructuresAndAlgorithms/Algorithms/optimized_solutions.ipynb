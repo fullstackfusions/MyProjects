{
 "cells": [
  {
   "cell_type": "code",
   "execution_count": 1,
   "metadata": {},
   "outputs": [
    {
     "name": "stdout",
     "output_type": "stream",
     "text": [
      "{1, 2, 1600216385731, 13685418082, 1637, 3200432771462, 7, 11459, 22918, 22403029400234, 3274, 977529863, 14, 1955059726, 6842709041, 11201514700117}\n"
     ]
    }
   ],
   "source": [
    "# Optimized solution to find all divisors of a number:\n",
    "n = 22403029400234  #int(input(\"Enter a number: \"))\n",
    "x = 1\n",
    "divisors = set()\n",
    "while x*x <= n:\n",
    "    if n % x == 0:\n",
    "        divisors.add(x)\n",
    "        divisors.add(int(n/x))\n",
    "    x = x + 1\n",
    "print(divisors)"
   ]
  },
  {
   "cell_type": "code",
   "execution_count": null,
   "metadata": {},
   "outputs": [],
   "source": [
    "# Optimized solution for prime number (Not much change compared to original code):\n",
    "n = 22403029400234  #int(input(\"Enter a number: \"))\n",
    "if n <= 1:\n",
    "    print(\"No\")\n",
    "else:\n",
    "    x = 2\n",
    "    while x*x <= n:\n",
    "        if n%x == 0:\n",
    "            print(\"No\")\n",
    "            break\n",
    "        x = x + 1\n",
    "    else:\n",
    "        print(\"Yes\")"
   ]
  },
  {
   "cell_type": "code",
   "execution_count": 6,
   "metadata": {},
   "outputs": [
    {
     "name": "stdout",
     "output_type": "stream",
     "text": [
      "32390314590136245\n"
     ]
    }
   ],
   "source": [
    "# Add n numbers\n",
    "# here we will use a formula which saves computational time\n",
    "\n",
    "def get_sum(n):\n",
    "    sum = n * (n+1)/2     # this process takes 0 seconds\n",
    "    return sum\n",
    "\n",
    "# def get_sum(n):\n",
    "#     total = 0\n",
    "#     for i in range(n+1):\n",
    "#         total += i      # this process takes 13 seconds\n",
    "#     return total\n",
    "\n",
    "s = get_sum(254520390)\n",
    "print(s)"
   ]
  },
  {
   "cell_type": "code",
   "execution_count": null,
   "metadata": {},
   "outputs": [],
   "source": [
    "# Find factorials\n",
    "def fact(n):\n",
    "    if n == 0:\n",
    "        return 1\n",
    "    return n * fact(n-1)\n",
    "\n",
    "d = fact(10)\n",
    "print(d)\n",
    "\n",
    "# time complexity: T(n) = T(n-1) + θ(1)"
   ]
  },
  {
   "cell_type": "code",
   "execution_count": 10,
   "metadata": {},
   "outputs": [
    {
     "name": "stdout",
     "output_type": "stream",
     "text": [
      "3\n"
     ]
    }
   ],
   "source": [
    "# optimized gcd finding\n",
    "def gcd(a, b):\n",
    "    if b == 0:\n",
    "        return a\n",
    "    return gcd(b, a%b)\n",
    "\n",
    "print(gcd(12, 15))"
   ]
  }
 ],
 "metadata": {
  "kernelspec": {
   "display_name": "Python 3",
   "language": "python",
   "name": "python3"
  },
  "language_info": {
   "codemirror_mode": {
    "name": "ipython",
    "version": 3
   },
   "file_extension": ".py",
   "mimetype": "text/x-python",
   "name": "python",
   "nbconvert_exporter": "python",
   "pygments_lexer": "ipython3",
   "version": "3.11.3"
  }
 },
 "nbformat": 4,
 "nbformat_minor": 2
}
