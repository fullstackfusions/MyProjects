{
 "cells": [
  {
   "cell_type": "code",
   "execution_count": null,
   "metadata": {},
   "outputs": [],
   "source": [
    "n = 22403029400234  #int(input(\"Enter a number: \"))\n",
    "if n <= 1:\n",
    "    print(\"No\")\n",
    "else:\n",
    "    for i in range(2,n):\n",
    "        if n % i == 0:\n",
    "            print(\"No\")\n",
    "            break\n",
    "    else:\n",
    "        print(\"Yes\")"
   ]
  },
  {
   "cell_type": "code",
   "execution_count": null,
   "metadata": {},
   "outputs": [],
   "source": [
    "def nextPrime(n):\n",
    "\n",
    "    # code here to find next prime number\n",
    "    if n < 2:\n",
    "        return 2\n",
    "    else:\n",
    "        prime = n\n",
    "        found = False\n",
    "        while not found:\n",
    "            prime += 1  # Increment the number to check for prime\n",
    "            found = True  # Assume it is prime until a divisor is found\n",
    "            for i in range(2, int(prime ** 0.5) + 1):  # Check for factors\n",
    "                if prime % i == 0:  # If a divisor is found, it's not prime\n",
    "                    found = False\n",
    "                    break  # Exit the loop and check the next number\n",
    "        return prime\n",
    "nextPrime(15)"
   ]
  },
  {
   "cell_type": "code",
   "execution_count": null,
   "metadata": {},
   "outputs": [],
   "source": [
    "# Optimized solution for prime number:\n",
    "n = 22403029400234  #int(input(\"Enter a number: \"))\n",
    "if n <= 1:\n",
    "    print(\"No\")\n",
    "else:\n",
    "    x = 2\n",
    "    while x*x <= n:\n",
    "        if n%x == 0:\n",
    "            print(\"No\")\n",
    "            break\n",
    "        x = x + 1\n",
    "    else:\n",
    "        print(\"Yes\")"
   ]
  }
 ],
 "metadata": {
  "kernelspec": {
   "display_name": "Python 3",
   "language": "python",
   "name": "python3"
  },
  "language_info": {
   "codemirror_mode": {
    "name": "ipython",
    "version": 3
   },
   "file_extension": ".py",
   "mimetype": "text/x-python",
   "name": "python",
   "nbconvert_exporter": "python",
   "pygments_lexer": "ipython3",
   "version": "3.11.3"
  }
 },
 "nbformat": 4,
 "nbformat_minor": 2
}
