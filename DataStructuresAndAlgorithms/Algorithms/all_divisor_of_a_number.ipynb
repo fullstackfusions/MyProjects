{
 "cells": [
  {
   "cell_type": "code",
   "execution_count": null,
   "metadata": {},
   "outputs": [],
   "source": [
    "def find_divisors(n):\n",
    "    divisors = [i for i in range(1, n + 1) if n % i == 0]\n",
    "    return divisors"
   ]
  },
  {
   "cell_type": "code",
   "execution_count": null,
   "metadata": {},
   "outputs": [],
   "source": [
    "# For system engineering:\n",
    "number_of_tasks = 24  # Suppose you have 24 tasks\n",
    "servers = find_divisors(number_of_tasks)\n",
    "\n",
    "print(f\"Possible ways to evenly distribute {number_of_tasks} tasks: {servers}\")\n",
    "# This will output divisors of 24, indicating how you can evenly distribute tasks"
   ]
  },
  {
   "cell_type": "code",
   "execution_count": null,
   "metadata": {},
   "outputs": [],
   "source": [
    "# Signal processing field:\n",
    "signal_length = 60  # Length of the signal\n",
    "segment_lengths = find_divisors(signal_length)\n",
    "\n",
    "print(f\"Possible even segment lengths for a signal of length {signal_length}: {segment_lengths}\")\n",
    "# This will give you divisors of 60, indicating possible segment lengths for even division"
   ]
  },
  {
   "cell_type": "code",
   "execution_count": null,
   "metadata": {},
   "outputs": [],
   "source": [
    "# General problem solving:\n",
    "# For example, you might need to find all possible square dimensions for a given area:\n",
    "area = 36  # Area of a square\n",
    "possible_sides = [d for d in find_divisors(area) if d*d == area]\n",
    "\n",
    "print(f\"Possible side lengths for a square with area {area}: {possible_sides}\")"
   ]
  },
  {
   "cell_type": "code",
   "execution_count": null,
   "metadata": {},
   "outputs": [],
   "source": [
    "# Optimized solution to find al divisors:\n",
    "n = 22403029400234  #int(input(\"Enter a number: \"))\n",
    "x = 1\n",
    "divisors = set()\n",
    "while x*x <= n:\n",
    "    if n % x == 0:\n",
    "        divisors.add(x)\n",
    "        divisors.add(int(n/x))\n",
    "    x = x + 1\n",
    "print(divisors)"
   ]
  }
 ],
 "metadata": {
  "kernelspec": {
   "display_name": "Python 3",
   "language": "python",
   "name": "python3"
  },
  "language_info": {
   "codemirror_mode": {
    "name": "ipython",
    "version": 3
   },
   "file_extension": ".py",
   "mimetype": "text/x-python",
   "name": "python",
   "nbconvert_exporter": "python",
   "pygments_lexer": "ipython3",
   "version": "3.11.3"
  }
 },
 "nbformat": 4,
 "nbformat_minor": 2
}
