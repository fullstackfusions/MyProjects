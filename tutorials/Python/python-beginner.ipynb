{
 "cells": [
  {
   "cell_type": "code",
   "execution_count": 2,
   "metadata": {},
   "outputs": [],
   "source": [
    "import sys\n",
    "import keyword\n",
    "import operator\n",
    "from datetime import datetime\n",
    "import os"
   ]
  },
  {
   "cell_type": "code",
   "execution_count": 480,
   "metadata": {},
   "outputs": [
    {
     "name": "stdout",
     "output_type": "stream",
     "text": [
      "Requirement already satisfied: pip in c:\\users\\patel\\appdata\\local\\programs\\python\\python311\\lib\\site-packages (23.3.1)\n",
      "Collecting pip\n",
      "  Downloading pip-23.3.2-py3-none-any.whl.metadata (3.5 kB)\n",
      "Downloading pip-23.3.2-py3-none-any.whl (2.1 MB)\n",
      "   ---------------------------------------- 0.0/2.1 MB ? eta -:--:--\n",
      "   - -------------------------------------- 0.1/2.1 MB ? eta -:--:--\n",
      "   --- ------------------------------------ 0.2/2.1 MB 3.0 MB/s eta 0:00:01\n",
      "   ----- ---------------------------------- 0.3/2.1 MB 2.5 MB/s eta 0:00:01\n",
      "   ------- -------------------------------- 0.4/2.1 MB 2.4 MB/s eta 0:00:01\n",
      "   --------- ------------------------------ 0.5/2.1 MB 2.3 MB/s eta 0:00:01\n",
      "   ------------ --------------------------- 0.6/2.1 MB 2.3 MB/s eta 0:00:01\n",
      "   ------------- -------------------------- 0.7/2.1 MB 2.4 MB/s eta 0:00:01\n",
      "   ---------------- ----------------------- 0.9/2.1 MB 2.4 MB/s eta 0:00:01\n",
      "   ------------------ --------------------- 1.0/2.1 MB 2.5 MB/s eta 0:00:01\n",
      "   --------------------- ------------------ 1.1/2.1 MB 2.5 MB/s eta 0:00:01\n",
      "   ------------------------ --------------- 1.3/2.1 MB 2.8 MB/s eta 0:00:01\n",
      "   --------------------------- ------------ 1.4/2.1 MB 2.7 MB/s eta 0:00:01\n",
      "   ------------------------------ --------- 1.6/2.1 MB 2.8 MB/s eta 0:00:01\n",
      "   ---------------------------------- ----- 1.8/2.1 MB 2.9 MB/s eta 0:00:01\n",
      "   ------------------------------------- -- 2.0/2.1 MB 2.9 MB/s eta 0:00:01\n",
      "   ---------------------------------------  2.1/2.1 MB 3.0 MB/s eta 0:00:01\n",
      "   ---------------------------------------- 2.1/2.1 MB 2.9 MB/s eta 0:00:00\n",
      "Installing collected packages: pip\n",
      "  Attempting uninstall: pip\n",
      "    Found existing installation: pip 23.3.1\n",
      "    Uninstalling pip-23.3.1:\n",
      "      Successfully uninstalled pip-23.3.1\n",
      "Successfully installed pip-23.3.2\n"
     ]
    }
   ],
   "source": [
    "!python.exe -m pip install --upgrade pip"
   ]
  },
  {
   "cell_type": "markdown",
   "metadata": {},
   "source": [
    "## Keywords\n",
    "Keywords are the reserved words in Python and can't be used as an identifier"
   ]
  },
  {
   "cell_type": "code",
   "execution_count": 3,
   "metadata": {},
   "outputs": [
    {
     "name": "stdout",
     "output_type": "stream",
     "text": [
      "['False', 'None', 'True', 'and', 'as', 'assert', 'async', 'await', 'break', 'class', 'continue', 'def', 'del', 'elif', 'else', 'except', 'finally', 'for', 'from', 'global', 'if', 'import', 'in', 'is', 'lambda', 'nonlocal', 'not', 'or', 'pass', 'raise', 'return', 'try', 'while', 'with', 'yield']\n"
     ]
    }
   ],
   "source": [
    "print(keyword.kwlist)   # List all Python Keywords"
   ]
  },
  {
   "cell_type": "code",
   "execution_count": 4,
   "metadata": {},
   "outputs": [
    {
     "ename": "SyntaxError",
     "evalue": "invalid decimal literal (2087397812.py, line 1)",
     "output_type": "error",
     "traceback": [
      "\u001b[1;36m  Cell \u001b[1;32mIn[4], line 1\u001b[1;36m\u001b[0m\n\u001b[1;33m    1var = 10 # Identifier can't start with a digit\u001b[0m\n\u001b[1;37m    ^\u001b[0m\n\u001b[1;31mSyntaxError\u001b[0m\u001b[1;31m:\u001b[0m invalid decimal literal\n"
     ]
    }
   ],
   "source": [
    "1var = 10 # Identifier can't start with a digit"
   ]
  },
  {
   "cell_type": "code",
   "execution_count": 6,
   "metadata": {},
   "outputs": [
    {
     "ename": "SyntaxError",
     "evalue": "invalid syntax (4171662607.py, line 1)",
     "output_type": "error",
     "traceback": [
      "\u001b[1;36m  Cell \u001b[1;32mIn[6], line 1\u001b[1;36m\u001b[0m\n\u001b[1;33m    var12@ = 35 #Identifier can't use special symbols\u001b[0m\n\u001b[1;37m           ^\u001b[0m\n\u001b[1;31mSyntaxError\u001b[0m\u001b[1;31m:\u001b[0m invalid syntax\n"
     ]
    }
   ],
   "source": [
    "var12@ = 35 #Identifier can't use special symbols"
   ]
  },
  {
   "cell_type": "code",
   "execution_count": 7,
   "metadata": {},
   "outputs": [
    {
     "ename": "SyntaxError",
     "evalue": "invalid syntax (3943580876.py, line 1)",
     "output_type": "error",
     "traceback": [
      "\u001b[1;36m  Cell \u001b[1;32mIn[7], line 1\u001b[1;36m\u001b[0m\n\u001b[1;33m    import = 125 # keywords can't be used as identifiers\u001b[0m\n\u001b[1;37m           ^\u001b[0m\n\u001b[1;31mSyntaxError\u001b[0m\u001b[1;31m:\u001b[0m invalid syntax\n"
     ]
    }
   ],
   "source": [
    "import = 125 # keywords can't be used as identifiers"
   ]
  },
  {
   "cell_type": "code",
   "execution_count": 8,
   "metadata": {},
   "outputs": [],
   "source": [
    "# correct way to define identifiers\n",
    "var = 10\n",
    "var2 = 10\n",
    "var_2 = 10\n",
    "_var = 10"
   ]
  },
  {
   "cell_type": "markdown",
   "metadata": {},
   "source": [
    "## Comments\n",
    "Comments can be used to explain the code for more readabilty"
   ]
  },
  {
   "cell_type": "code",
   "execution_count": 9,
   "metadata": {},
   "outputs": [],
   "source": [
    "# single line comment\n",
    "var = 10"
   ]
  },
  {
   "cell_type": "code",
   "execution_count": 10,
   "metadata": {},
   "outputs": [],
   "source": [
    "# Multi\n",
    "# line\n",
    "# comment\n",
    "var = 10"
   ]
  },
  {
   "cell_type": "code",
   "execution_count": 11,
   "metadata": {},
   "outputs": [
    {
     "data": {
      "text/plain": [
       "'multiline comment'"
      ]
     },
     "execution_count": 11,
     "metadata": {},
     "output_type": "execute_result"
    }
   ],
   "source": [
    "'''Multi\n",
    "line\n",
    "comment'''\n",
    "\n",
    "# or\n",
    "\n",
    "'''multiline comment'''"
   ]
  },
  {
   "cell_type": "code",
   "execution_count": 12,
   "metadata": {},
   "outputs": [
    {
     "data": {
      "text/plain": [
       "'multi line comment'"
      ]
     },
     "execution_count": 12,
     "metadata": {},
     "output_type": "execute_result"
    }
   ],
   "source": [
    "\"\"\"multi\n",
    "line comment\"\"\"\n",
    "\n",
    "# or\n",
    "\n",
    "\"\"\"multi line comment\"\"\""
   ]
  },
  {
   "cell_type": "markdown",
   "metadata": {},
   "source": [
    "## Statements\n",
    "\n",
    "Instructions that python interpreter can execute"
   ]
  },
  {
   "cell_type": "code",
   "execution_count": 14,
   "metadata": {},
   "outputs": [
    {
     "data": {
      "text/plain": [
       "30"
      ]
     },
     "execution_count": 14,
     "metadata": {},
     "output_type": "execute_result"
    }
   ],
   "source": [
    "# single line statement\n",
    "x = 10 + 20\n",
    "x"
   ]
  },
  {
   "cell_type": "code",
   "execution_count": 15,
   "metadata": {},
   "outputs": [
    {
     "data": {
      "text/plain": [
       "['a', 'b', 'c', 'd']"
      ]
     },
     "execution_count": 15,
     "metadata": {},
     "output_type": "execute_result"
    }
   ],
   "source": [
    "# single line statement\n",
    "y = ['a','b','c','d']\n",
    "y"
   ]
  },
  {
   "cell_type": "code",
   "execution_count": 16,
   "metadata": {},
   "outputs": [
    {
     "data": {
      "text/plain": [
       "150"
      ]
     },
     "execution_count": 16,
     "metadata": {},
     "output_type": "execute_result"
    }
   ],
   "source": [
    "# multiline statement\n",
    "x = 10 + 20 \\\n",
    "    + 30 + 40 \\\n",
    "        + 50\n",
    "x"
   ]
  },
  {
   "cell_type": "code",
   "execution_count": 17,
   "metadata": {},
   "outputs": [
    {
     "data": {
      "text/plain": [
       "['a', 'b', 'c', 'd']"
      ]
     },
     "execution_count": 17,
     "metadata": {},
     "output_type": "execute_result"
    }
   ],
   "source": [
    "# multiline statement\n",
    "y = ['a',\n",
    "    'b',\n",
    "    'c',\n",
    "    'd'\n",
    "    ]\n",
    "y"
   ]
  },
  {
   "cell_type": "markdown",
   "metadata": {},
   "source": [
    "## Indentation\n",
    "\n",
    "Indentation refers to the spaces at the beginning of a code line. It is very important as Python usesindentation to indicate a block of code. If the indentation is not correct we will endup with IndentationError error."
   ]
  },
  {
   "cell_type": "code",
   "execution_count": 18,
   "metadata": {},
   "outputs": [
    {
     "name": "stdout",
     "output_type": "stream",
     "text": [
      "p is equal to 10\n"
     ]
    }
   ],
   "source": [
    "p = 10\n",
    "if p == 10:\n",
    "    print(\"p is equal to 10\")   # correct indentation"
   ]
  },
  {
   "cell_type": "code",
   "execution_count": 19,
   "metadata": {},
   "outputs": [
    {
     "ename": "IndentationError",
     "evalue": "expected an indented block after 'if' statement on line 3 (3923632487.py, line 4)",
     "output_type": "error",
     "traceback": [
      "\u001b[1;36m  Cell \u001b[1;32mIn[19], line 4\u001b[1;36m\u001b[0m\n\u001b[1;33m    print('P is equal to 10')\u001b[0m\n\u001b[1;37m    ^\u001b[0m\n\u001b[1;31mIndentationError\u001b[0m\u001b[1;31m:\u001b[0m expected an indented block after 'if' statement on line 3\n"
     ]
    }
   ],
   "source": [
    "# if indentation is skipped we will encounter \"IndentationError: expected an indented block after 'if' statement on line x\n",
    "p = 10\n",
    "if p == 10:\n",
    "print('P is equal to 10')"
   ]
  },
  {
   "cell_type": "code",
   "execution_count": 20,
   "metadata": {},
   "outputs": [
    {
     "name": "stdout",
     "output_type": "stream",
     "text": [
      "0\n",
      "1\n",
      "2\n",
      "3\n",
      "4\n"
     ]
    }
   ],
   "source": [
    "for i in range(5):\n",
    "    print(i)    # correct indentation"
   ]
  },
  {
   "cell_type": "code",
   "execution_count": 21,
   "metadata": {},
   "outputs": [
    {
     "ename": "IndentationError",
     "evalue": "expected an indented block after 'for' statement on line 2 (3420822794.py, line 3)",
     "output_type": "error",
     "traceback": [
      "\u001b[1;36m  Cell \u001b[1;32mIn[21], line 3\u001b[1;36m\u001b[0m\n\u001b[1;33m    print(i)\u001b[0m\n\u001b[1;37m    ^\u001b[0m\n\u001b[1;31mIndentationError\u001b[0m\u001b[1;31m:\u001b[0m expected an indented block after 'for' statement on line 2\n"
     ]
    }
   ],
   "source": [
    "# if indentation is skipped we will encounter \"IndentationError: expected an indented block after 'if' statement on line x\n",
    "for i in range(5):\n",
    "print(i)"
   ]
  },
  {
   "cell_type": "code",
   "execution_count": 22,
   "metadata": {},
   "outputs": [
    {
     "name": "stdout",
     "output_type": "stream",
     "text": [
      "0\n",
      "1\n",
      "2\n",
      "3\n",
      "4\n"
     ]
    }
   ],
   "source": [
    "for i in range(5): print(i)     # correct indentation but less readable"
   ]
  },
  {
   "cell_type": "code",
   "execution_count": 23,
   "metadata": {},
   "outputs": [
    {
     "name": "stdout",
     "output_type": "stream",
     "text": [
      "0\n",
      "1\n",
      "2\n",
      "3\n",
      "4\n",
      "20\n"
     ]
    }
   ],
   "source": [
    "j=20\n",
    "for i in range(0,5):\n",
    "    print(i)    # inside of for loop\n",
    "print(j)    # outside of for loop"
   ]
  },
  {
   "cell_type": "markdown",
   "metadata": {},
   "source": [
    "## Docstrings\n",
    "\n",
    "1. Docstrings provide a convenient way of associating documentation with functions, classes, methods or modules\n",
    "2. They appear right after the definition of a function, method, class or module."
   ]
  },
  {
   "cell_type": "code",
   "execution_count": 24,
   "metadata": {},
   "outputs": [
    {
     "data": {
      "text/plain": [
       "4"
      ]
     },
     "execution_count": 24,
     "metadata": {},
     "output_type": "execute_result"
    }
   ],
   "source": [
    "def square(num):\n",
    "    '''Square Function :- This function will return the sqaure of a number'''\n",
    "    return num**2\n",
    "square(2)"
   ]
  },
  {
   "cell_type": "code",
   "execution_count": 25,
   "metadata": {},
   "outputs": [
    {
     "data": {
      "text/plain": [
       "'Square Function :- This function will return the sqaure of a number'"
      ]
     },
     "execution_count": 25,
     "metadata": {},
     "output_type": "execute_result"
    }
   ],
   "source": [
    "square.__doc__ # We can access the Docstring using __doc__ method"
   ]
  },
  {
   "cell_type": "code",
   "execution_count": 26,
   "metadata": {},
   "outputs": [
    {
     "name": "stdout",
     "output_type": "stream",
     "text": [
      "number is odd\n",
      "number is even\n"
     ]
    },
    {
     "data": {
      "text/plain": [
       "'evenodd Function :- This function will test whether number is even or odd'"
      ]
     },
     "execution_count": 26,
     "metadata": {},
     "output_type": "execute_result"
    }
   ],
   "source": [
    "def evenodd(num):\n",
    "    '''evenodd Function :- This function will test whether number is even or odd'''\n",
    "    if num % 2 == 0:\n",
    "        print('number is even')\n",
    "    else:\n",
    "        print('number is odd')\n",
    "evenodd(3)\n",
    "evenodd(10)\n",
    "evenodd.__doc__"
   ]
  },
  {
   "cell_type": "markdown",
   "metadata": {},
   "source": [
    "## Variables\n",
    "\n",
    "A python variable is a reserved memory location to store values. A variable is created the moment you assign a value to it."
   ]
  },
  {
   "cell_type": "code",
   "execution_count": 28,
   "metadata": {},
   "outputs": [
    {
     "data": {
      "text/plain": [
       "140730901063368"
      ]
     },
     "execution_count": 28,
     "metadata": {},
     "output_type": "execute_result"
    }
   ],
   "source": [
    "p = 30\n",
    "\n",
    "'''id() function returns the \"identity\" of the object.\n",
    "The identity of an object - Is a integer\n",
    "                            - Guranteed to be unique\n",
    "                            - Constant for this object during its lifetime.\n",
    "'''\n",
    "id(p)   # to know the identity of p object\n"
   ]
  },
  {
   "cell_type": "code",
   "execution_count": 29,
   "metadata": {},
   "outputs": [
    {
     "data": {
      "text/plain": [
       "'0x7ffe775de6c8'"
      ]
     },
     "execution_count": 29,
     "metadata": {},
     "output_type": "execute_result"
    }
   ],
   "source": [
    "hex(id(p))  # will return memory address of the variable"
   ]
  },
  {
   "cell_type": "code",
   "execution_count": 30,
   "metadata": {},
   "outputs": [
    {
     "data": {
      "text/plain": [
       "(20, int, '0x7ffe775de588')"
      ]
     },
     "execution_count": 30,
     "metadata": {},
     "output_type": "execute_result"
    }
   ],
   "source": [
    "p = 20  # create an integer object with value 20 and assign the variable p\n",
    "q = 20  # create new reference q which will point to value 20. p & q will be point to id(p)\n",
    "r = q   # variable r will also pointing to the same location where p & q are pointing\n",
    "p, type(p), hex(id(p))"
   ]
  },
  {
   "cell_type": "code",
   "execution_count": 31,
   "metadata": {},
   "outputs": [
    {
     "data": {
      "text/plain": [
       "(20, int, '0x7ffe775de588')"
      ]
     },
     "execution_count": 31,
     "metadata": {},
     "output_type": "execute_result"
    }
   ],
   "source": [
    "q, type(q), hex(id(q))"
   ]
  },
  {
   "cell_type": "code",
   "execution_count": 32,
   "metadata": {},
   "outputs": [
    {
     "data": {
      "text/plain": [
       "(20, int, '0x7ffe775de588')"
      ]
     },
     "execution_count": 32,
     "metadata": {},
     "output_type": "execute_result"
    }
   ],
   "source": [
    "r, type(r), hex(id(r))"
   ]
  },
  {
   "cell_type": "code",
   "execution_count": 33,
   "metadata": {},
   "outputs": [
    {
     "data": {
      "text/plain": [
       "30"
      ]
     },
     "execution_count": 33,
     "metadata": {},
     "output_type": "execute_result"
    }
   ],
   "source": [
    "# variable overwriting\n",
    "p = 20\n",
    "p = p + 10\n",
    "p"
   ]
  },
  {
   "cell_type": "markdown",
   "metadata": {},
   "source": [
    "## variable assignment"
   ]
  },
  {
   "cell_type": "code",
   "execution_count": 34,
   "metadata": {},
   "outputs": [
    {
     "name": "stdout",
     "output_type": "stream",
     "text": [
      "10\n",
      "2.57\n",
      "Python Language\n"
     ]
    }
   ],
   "source": [
    "intvar = 10 # Integer variable\n",
    "floatvar = 2.57 # Float Variable\n",
    "strvar = \"Python Language\"  # String variable\n",
    "\n",
    "print(intvar)\n",
    "print(floatvar)\n",
    "print(strvar)"
   ]
  },
  {
   "cell_type": "markdown",
   "metadata": {},
   "source": [
    "## Multiple Assignments"
   ]
  },
  {
   "cell_type": "code",
   "execution_count": 35,
   "metadata": {},
   "outputs": [
    {
     "name": "stdout",
     "output_type": "stream",
     "text": [
      "10\n",
      "2.57\n",
      "Python Language\n"
     ]
    }
   ],
   "source": [
    "intvar, floatvar, strvar=10, 2.57, \"Python Language\"    # Using commas to separat\n",
    "print(intvar)\n",
    "print(floatvar)\n",
    "print(strvar)"
   ]
  },
  {
   "cell_type": "code",
   "execution_count": 36,
   "metadata": {},
   "outputs": [
    {
     "name": "stdout",
     "output_type": "stream",
     "text": [
      "44 44 44 44\n"
     ]
    }
   ],
   "source": [
    "p1 = p2 = p3 = p4 = 44  # All variables pointing to same value\n",
    "print(p1, p2, p3, p4)"
   ]
  },
  {
   "cell_type": "markdown",
   "metadata": {},
   "source": [
    "## Datatypes"
   ]
  },
  {
   "cell_type": "markdown",
   "metadata": {},
   "source": [
    "### Numeric"
   ]
  },
  {
   "cell_type": "code",
   "execution_count": 37,
   "metadata": {},
   "outputs": [
    {
     "name": "stdout",
     "output_type": "stream",
     "text": [
      "10\n",
      "<class 'int'>\n",
      "28\n",
      "10 is Integer? True\n"
     ]
    }
   ],
   "source": [
    "val1 = 10   # integer data type\n",
    "print(val1)\n",
    "print(type(val1))   # type of object\n",
    "print(sys.getsizeof(val1))  # size of integer object in bytes\n",
    "print(val1, \"is Integer?\", isinstance(val1, int))   # val1 is a instance of integer"
   ]
  },
  {
   "cell_type": "code",
   "execution_count": 39,
   "metadata": {},
   "outputs": [
    {
     "name": "stdout",
     "output_type": "stream",
     "text": [
      "98.72\n",
      "<class 'float'>\n",
      "24\n",
      "10 is float? True\n"
     ]
    }
   ],
   "source": [
    "val2 = 98.72   # float data type\n",
    "print(val2)\n",
    "print(type(val2))   # type of object\n",
    "print(sys.getsizeof(val2))  # size of integer object in bytes\n",
    "print(val1, \"is float?\", isinstance(val2, float))   # val2 is a instance of integer"
   ]
  },
  {
   "cell_type": "code",
   "execution_count": 40,
   "metadata": {},
   "outputs": [
    {
     "name": "stdout",
     "output_type": "stream",
     "text": [
      "(25+72j)\n",
      "<class 'complex'>\n",
      "32\n",
      "10 is complex? True\n"
     ]
    }
   ],
   "source": [
    "val3 = 25 + 72j   # float data type\n",
    "print(val3)\n",
    "print(type(val3))   # type of object\n",
    "print(sys.getsizeof(val3))  # size of integer object in bytes\n",
    "print(val1, \"is complex?\", isinstance(val3, complex))   # val3 is a instance of integer"
   ]
  },
  {
   "cell_type": "code",
   "execution_count": 43,
   "metadata": {},
   "outputs": [
    {
     "data": {
      "text/plain": [
       "28"
      ]
     },
     "execution_count": 43,
     "metadata": {},
     "output_type": "execute_result"
    }
   ],
   "source": [
    "sys.getsizeof(int())     # size of integer object in bytes"
   ]
  },
  {
   "cell_type": "code",
   "execution_count": 44,
   "metadata": {},
   "outputs": [
    {
     "data": {
      "text/plain": [
       "24"
      ]
     },
     "execution_count": 44,
     "metadata": {},
     "output_type": "execute_result"
    }
   ],
   "source": [
    "sys.getsizeof(float())     # size of float object in bytes"
   ]
  },
  {
   "cell_type": "code",
   "execution_count": 45,
   "metadata": {},
   "outputs": [
    {
     "data": {
      "text/plain": [
       "32"
      ]
     },
     "execution_count": 45,
     "metadata": {},
     "output_type": "execute_result"
    }
   ],
   "source": [
    "sys.getsizeof(complex())     # size of complex object in bytes"
   ]
  },
  {
   "cell_type": "markdown",
   "metadata": {},
   "source": [
    "### Boolean"
   ]
  },
  {
   "cell_type": "code",
   "execution_count": 47,
   "metadata": {},
   "outputs": [
    {
     "name": "stdout",
     "output_type": "stream",
     "text": [
      "type of bool1 <class 'bool'>\n",
      "type of bool2 <class 'bool'>\n"
     ]
    }
   ],
   "source": [
    "bool1 = True\n",
    "bool2 = False\n",
    "print(\"type of bool1\",type(bool1))\n",
    "print(\"type of bool2\",type(bool2))"
   ]
  },
  {
   "cell_type": "code",
   "execution_count": 48,
   "metadata": {},
   "outputs": [
    {
     "data": {
      "text/plain": [
       "True"
      ]
     },
     "execution_count": 48,
     "metadata": {},
     "output_type": "execute_result"
    }
   ],
   "source": [
    "isinstance(bool1, bool)\n",
    "isinstance(bool2, bool)"
   ]
  },
  {
   "cell_type": "code",
   "execution_count": 49,
   "metadata": {},
   "outputs": [
    {
     "data": {
      "text/plain": [
       "False"
      ]
     },
     "execution_count": 49,
     "metadata": {},
     "output_type": "execute_result"
    }
   ],
   "source": [
    "bool(0)"
   ]
  },
  {
   "cell_type": "code",
   "execution_count": 50,
   "metadata": {},
   "outputs": [
    {
     "data": {
      "text/plain": [
       "True"
      ]
     },
     "execution_count": 50,
     "metadata": {},
     "output_type": "execute_result"
    }
   ],
   "source": [
    "bool(1)"
   ]
  },
  {
   "cell_type": "code",
   "execution_count": 51,
   "metadata": {},
   "outputs": [
    {
     "data": {
      "text/plain": [
       "False"
      ]
     },
     "execution_count": 51,
     "metadata": {},
     "output_type": "execute_result"
    }
   ],
   "source": [
    "bool(None)"
   ]
  },
  {
   "cell_type": "code",
   "execution_count": 52,
   "metadata": {},
   "outputs": [
    {
     "data": {
      "text/plain": [
       "False"
      ]
     },
     "execution_count": 52,
     "metadata": {},
     "output_type": "execute_result"
    }
   ],
   "source": [
    "bool(False)"
   ]
  },
  {
   "cell_type": "markdown",
   "metadata": {},
   "source": [
    "### String"
   ]
  },
  {
   "cell_type": "markdown",
   "metadata": {},
   "source": [
    "#### String Creation"
   ]
  },
  {
   "cell_type": "code",
   "execution_count": 53,
   "metadata": {},
   "outputs": [
    {
     "name": "stdout",
     "output_type": "stream",
     "text": [
      "HELLO PYTHON\n"
     ]
    }
   ],
   "source": [
    "str1 = \"HELLO PYTHON\"\n",
    "print(str1)"
   ]
  },
  {
   "cell_type": "code",
   "execution_count": 54,
   "metadata": {},
   "outputs": [
    {
     "name": "stdout",
     "output_type": "stream",
     "text": [
      "Hello World\n"
     ]
    }
   ],
   "source": [
    "mystr = 'Hello World'   # Define string using single quotes\n",
    "print(mystr)"
   ]
  },
  {
   "cell_type": "code",
   "execution_count": 55,
   "metadata": {},
   "outputs": [
    {
     "name": "stdout",
     "output_type": "stream",
     "text": [
      "Hello World\n"
     ]
    }
   ],
   "source": [
    "mystr = \"Hello World\"   # Define string using double quotes\n",
    "print(mystr)"
   ]
  },
  {
   "cell_type": "code",
   "execution_count": 56,
   "metadata": {},
   "outputs": [
    {
     "name": "stdout",
     "output_type": "stream",
     "text": [
      "Hello World\n"
     ]
    }
   ],
   "source": [
    "mystr = '''Hello World'''   # Define string using triple quotes\n",
    "print(mystr)"
   ]
  },
  {
   "cell_type": "code",
   "execution_count": 57,
   "metadata": {},
   "outputs": [
    {
     "name": "stdout",
     "output_type": "stream",
     "text": [
      "Hello World\n"
     ]
    }
   ],
   "source": [
    "mystr = \"\"\"Hello World\"\"\"   # Define string using triple quotes\n",
    "print(mystr)"
   ]
  },
  {
   "cell_type": "code",
   "execution_count": 59,
   "metadata": {},
   "outputs": [
    {
     "name": "stdout",
     "output_type": "stream",
     "text": [
      "Woohoo Woohoo Woohoo Woohoo Woohoo \n"
     ]
    }
   ],
   "source": [
    "str1 = 'Woohoo '\n",
    "str2 = str1 * 5\n",
    "print(str2)"
   ]
  },
  {
   "cell_type": "code",
   "execution_count": 60,
   "metadata": {},
   "outputs": [
    {
     "data": {
      "text/plain": [
       "35"
      ]
     },
     "execution_count": 60,
     "metadata": {},
     "output_type": "execute_result"
    }
   ],
   "source": [
    "len(str2)"
   ]
  },
  {
   "cell_type": "markdown",
   "metadata": {},
   "source": [
    "#### String indexing"
   ]
  },
  {
   "cell_type": "code",
   "execution_count": 61,
   "metadata": {},
   "outputs": [
    {
     "data": {
      "text/plain": [
       "'HELLO PYTHON'"
      ]
     },
     "execution_count": 61,
     "metadata": {},
     "output_type": "execute_result"
    }
   ],
   "source": [
    "str1 = 'HELLO PYTHON'\n",
    "str1"
   ]
  },
  {
   "cell_type": "code",
   "execution_count": 62,
   "metadata": {},
   "outputs": [
    {
     "data": {
      "text/plain": [
       "'H'"
      ]
     },
     "execution_count": 62,
     "metadata": {},
     "output_type": "execute_result"
    }
   ],
   "source": [
    "str1[0] # First character in string \"str1\""
   ]
  },
  {
   "cell_type": "code",
   "execution_count": 63,
   "metadata": {},
   "outputs": [
    {
     "data": {
      "text/plain": [
       "'N'"
      ]
     },
     "execution_count": 63,
     "metadata": {},
     "output_type": "execute_result"
    }
   ],
   "source": [
    "str1[len(str1)-1]   # Last character in string using len function"
   ]
  },
  {
   "cell_type": "code",
   "execution_count": 64,
   "metadata": {},
   "outputs": [
    {
     "data": {
      "text/plain": [
       "'P'"
      ]
     },
     "execution_count": 64,
     "metadata": {},
     "output_type": "execute_result"
    }
   ],
   "source": [
    "str1[6] #Fetch 7th element of the string"
   ]
  },
  {
   "cell_type": "code",
   "execution_count": 65,
   "metadata": {},
   "outputs": [
    {
     "data": {
      "text/plain": [
       "' '"
      ]
     },
     "execution_count": 65,
     "metadata": {},
     "output_type": "execute_result"
    }
   ],
   "source": [
    "str1[5]"
   ]
  },
  {
   "cell_type": "markdown",
   "metadata": {},
   "source": [
    "#### String slicing"
   ]
  },
  {
   "cell_type": "code",
   "execution_count": 66,
   "metadata": {},
   "outputs": [
    {
     "data": {
      "text/plain": [
       "'HELLO'"
      ]
     },
     "execution_count": 66,
     "metadata": {},
     "output_type": "execute_result"
    }
   ],
   "source": [
    "str1[0:5]   # String slicing - Fetch all characters from 0 to 5 index"
   ]
  },
  {
   "cell_type": "code",
   "execution_count": 67,
   "metadata": {},
   "outputs": [
    {
     "data": {
      "text/plain": [
       "'PYTHON'"
      ]
     },
     "execution_count": 67,
     "metadata": {},
     "output_type": "execute_result"
    }
   ],
   "source": [
    "str1[6:12]  # string slicing - retreive all characters between 6-12 index"
   ]
  },
  {
   "cell_type": "code",
   "execution_count": 68,
   "metadata": {},
   "outputs": [
    {
     "data": {
      "text/plain": [
       "'THON'"
      ]
     },
     "execution_count": 68,
     "metadata": {},
     "output_type": "execute_result"
    }
   ],
   "source": [
    "str1[-4:]   # retreive last four characters of the string"
   ]
  },
  {
   "cell_type": "code",
   "execution_count": 69,
   "metadata": {},
   "outputs": [
    {
     "data": {
      "text/plain": [
       "'PYTHON'"
      ]
     },
     "execution_count": 69,
     "metadata": {},
     "output_type": "execute_result"
    }
   ],
   "source": [
    "str1[-6:]   #Retreive last six characters of the string"
   ]
  },
  {
   "cell_type": "code",
   "execution_count": 70,
   "metadata": {},
   "outputs": [
    {
     "data": {
      "text/plain": [
       "'HELL'"
      ]
     },
     "execution_count": 70,
     "metadata": {},
     "output_type": "execute_result"
    }
   ],
   "source": [
    "str1[:4]    # Retreive first four characters of the string"
   ]
  },
  {
   "cell_type": "code",
   "execution_count": 71,
   "metadata": {},
   "outputs": [
    {
     "data": {
      "text/plain": [
       "'HELLO '"
      ]
     },
     "execution_count": 71,
     "metadata": {},
     "output_type": "execute_result"
    }
   ],
   "source": [
    "str1[:6]    # Retreive first six characters of the string"
   ]
  },
  {
   "cell_type": "markdown",
   "metadata": {},
   "source": [
    "#### Update and Delete string"
   ]
  },
  {
   "cell_type": "code",
   "execution_count": 72,
   "metadata": {},
   "outputs": [
    {
     "data": {
      "text/plain": [
       "'HELLO PYTHON'"
      ]
     },
     "execution_count": 72,
     "metadata": {},
     "output_type": "execute_result"
    }
   ],
   "source": [
    "str1"
   ]
  },
  {
   "cell_type": "code",
   "execution_count": 73,
   "metadata": {},
   "outputs": [
    {
     "ename": "TypeError",
     "evalue": "'str' object does not support item assignment",
     "output_type": "error",
     "traceback": [
      "\u001b[1;31m---------------------------------------------------------------------------\u001b[0m",
      "\u001b[1;31mTypeError\u001b[0m                                 Traceback (most recent call last)",
      "Cell \u001b[1;32mIn[73], line 2\u001b[0m\n\u001b[0;32m      1\u001b[0m \u001b[38;5;66;03m# Strings are immutable which means elements of a string cannot be changed once they have been assigned\u001b[39;00m\n\u001b[1;32m----> 2\u001b[0m \u001b[43mstr1\u001b[49m\u001b[43m[\u001b[49m\u001b[38;5;241;43m0\u001b[39;49m\u001b[43m:\u001b[49m\u001b[38;5;241;43m5\u001b[39;49m\u001b[43m]\u001b[49m \u001b[38;5;241m=\u001b[39m \u001b[38;5;124m'\u001b[39m\u001b[38;5;124mHOLAA\u001b[39m\u001b[38;5;124m'\u001b[39m\n",
      "\u001b[1;31mTypeError\u001b[0m: 'str' object does not support item assignment"
     ]
    }
   ],
   "source": [
    "# Strings are immutable which means elements of a string cannot be changed once they have been assigned\n",
    "str1[0:5] = 'HOLAA'"
   ]
  },
  {
   "cell_type": "code",
   "execution_count": 74,
   "metadata": {},
   "outputs": [
    {
     "ename": "NameError",
     "evalue": "name 'str1' is not defined",
     "output_type": "error",
     "traceback": [
      "\u001b[1;31m---------------------------------------------------------------------------\u001b[0m",
      "\u001b[1;31mNameError\u001b[0m                                 Traceback (most recent call last)",
      "Cell \u001b[1;32mIn[74], line 2\u001b[0m\n\u001b[0;32m      1\u001b[0m \u001b[38;5;28;01mdel\u001b[39;00m str1    \u001b[38;5;66;03m# deleting the string\u001b[39;00m\n\u001b[1;32m----> 2\u001b[0m \u001b[38;5;28mprint\u001b[39m(\u001b[43mstr1\u001b[49m)\n",
      "\u001b[1;31mNameError\u001b[0m: name 'str1' is not defined"
     ]
    }
   ],
   "source": [
    "del str1    # deleting the string\n",
    "print(str1)"
   ]
  },
  {
   "cell_type": "markdown",
   "metadata": {},
   "source": [
    "#### string concatenation"
   ]
  },
  {
   "cell_type": "code",
   "execution_count": 76,
   "metadata": {},
   "outputs": [
    {
     "name": "stdout",
     "output_type": "stream",
     "text": [
      "Hello World!\n"
     ]
    }
   ],
   "source": [
    "s1 = 'Hello'\n",
    "s2 = ' World!'\n",
    "s = s1 + s2\n",
    "print(s)"
   ]
  },
  {
   "cell_type": "code",
   "execution_count": 77,
   "metadata": {},
   "outputs": [
    {
     "name": "stdout",
     "output_type": "stream",
     "text": [
      "Hello World!\n"
     ]
    }
   ],
   "source": [
    "s1 = 'Hello'\n",
    "s2 = 'World!'   # removed the space and added separately\n",
    "s = s1 + \" \" + s2\n",
    "print(s)"
   ]
  },
  {
   "cell_type": "markdown",
   "metadata": {},
   "source": [
    "#### Iterating through string"
   ]
  },
  {
   "cell_type": "code",
   "execution_count": 78,
   "metadata": {},
   "outputs": [
    {
     "name": "stdout",
     "output_type": "stream",
     "text": [
      "H\n",
      "e\n",
      "l\n",
      "l\n",
      "o\n",
      " \n",
      "W\n",
      "o\n",
      "r\n",
      "l\n",
      "d\n",
      "!\n"
     ]
    }
   ],
   "source": [
    "# iteration\n",
    "for i in s:\n",
    "    print(i)"
   ]
  },
  {
   "cell_type": "code",
   "execution_count": 79,
   "metadata": {},
   "outputs": [
    {
     "name": "stdout",
     "output_type": "stream",
     "text": [
      "(0, 'H')\n",
      "(1, 'e')\n",
      "(2, 'l')\n",
      "(3, 'l')\n",
      "(4, 'o')\n",
      "(5, ' ')\n",
      "(6, 'W')\n",
      "(7, 'o')\n",
      "(8, 'r')\n",
      "(9, 'l')\n",
      "(10, 'd')\n",
      "(11, '!')\n"
     ]
    }
   ],
   "source": [
    "for i in enumerate(s):\n",
    "    print(i)"
   ]
  },
  {
   "cell_type": "code",
   "execution_count": 80,
   "metadata": {},
   "outputs": [
    {
     "data": {
      "text/plain": [
       "[(0, 'H'),\n",
       " (1, 'e'),\n",
       " (2, 'l'),\n",
       " (3, 'l'),\n",
       " (4, 'o'),\n",
       " (5, ' '),\n",
       " (6, 'W'),\n",
       " (7, 'o'),\n",
       " (8, 'r'),\n",
       " (9, 'l'),\n",
       " (10, 'd'),\n",
       " (11, '!')]"
      ]
     },
     "execution_count": 80,
     "metadata": {},
     "output_type": "execute_result"
    }
   ],
   "source": [
    "list(enumerate(s))  # Enumerate method adds a counter to an iterable and return list"
   ]
  },
  {
   "cell_type": "markdown",
   "metadata": {},
   "source": [
    "#### String membership"
   ]
  },
  {
   "cell_type": "code",
   "execution_count": 81,
   "metadata": {},
   "outputs": [
    {
     "name": "stdout",
     "output_type": "stream",
     "text": [
      "True\n",
      "False\n",
      "True\n"
     ]
    }
   ],
   "source": [
    "# String membership\n",
    "mystr1 = \"Hello Everyone\"\n",
    "print('Hello' in mystr1)\n",
    "print('hi' in mystr1)\n",
    "print('Everyone' in mystr1)"
   ]
  },
  {
   "cell_type": "markdown",
   "metadata": {},
   "source": [
    "#### String partitioning"
   ]
  },
  {
   "cell_type": "code",
   "execution_count": 82,
   "metadata": {},
   "outputs": [
    {
     "name": "stdout",
     "output_type": "stream",
     "text": [
      "('Natural language processing with Python ', 'and', ' R and Java')\n"
     ]
    }
   ],
   "source": [
    "\"\"\"\n",
    "partition(sep) method: Splits the string at the first occurrence of the separator sep.\n",
    "It returns a tuple containing the part before the separator, the separator itself (if found),\n",
    "and the part after the separator. If the separator is not found, the tuple will contain\n",
    "the entire string in the first element, with the other two elements being empty strings.\n",
    "\"\"\"\n",
    "str5 = \"Natural language processing with Python and R and Java\"\n",
    "L = str5.partition(\"and\")\n",
    "print(L)"
   ]
  },
  {
   "cell_type": "code",
   "execution_count": 83,
   "metadata": {},
   "outputs": [
    {
     "name": "stdout",
     "output_type": "stream",
     "text": [
      "('Natural language processing with Python and R ', 'and', ' Java')\n"
     ]
    }
   ],
   "source": [
    "\"\"\"\n",
    "partition(sep) method :- Splits the string at the last occurrence of the separator sep.\n",
    "Similar to partition(), it returns a tuple with the part before the separator,\n",
    "the separator itself, and the part after the separator. If the separator is not found,\n",
    "the first element of the tuple will be an empty string, and the entire string will be in the third element.\n",
    "\"\"\"\n",
    "str5 = \"Natural language processing with Python and R and Java\"\n",
    "L = str5.rpartition(\"and\")\n",
    "print(L)"
   ]
  },
  {
   "cell_type": "code",
   "execution_count": 84,
   "metadata": {},
   "outputs": [
    {
     "name": "stdout",
     "output_type": "stream",
     "text": [
      "('foo', '_', 'bar_baz')\n",
      "('foo_bar', '_', 'baz')\n"
     ]
    }
   ],
   "source": [
    "text = \"foo_bar_baz\"\n",
    "\n",
    "# Using partition()\n",
    "print(text.partition('_'))  # Output: ('foo', '_', 'bar_baz')\n",
    "\n",
    "# Using rpartition()\n",
    "print(text.rpartition('_'))  # Output: ('foo_bar', '_', 'baz')"
   ]
  },
  {
   "cell_type": "markdown",
   "metadata": {},
   "source": [
    "#### String functions"
   ]
  },
  {
   "cell_type": "code",
   "execution_count": 87,
   "metadata": {},
   "outputs": [
    {
     "name": "stdout",
     "output_type": "stream",
     "text": [
      "   Hello, World!   \n",
      "strip example: Hello, World!\n",
      "   Hello, World!   \n",
      "lstrip example: Hello, World!   \n",
      "   Hello, World!   \n",
      "rstrip example:    Hello, World!\n",
      "one two three\n",
      "split example: ['one', 'two', 'three']\n",
      ", \n",
      "join example: one, two, three\n",
      "Hello, World!\n",
      "replace example: Hello, Python!\n",
      "Hello, World!\n",
      "upper example: HELLO, WORLD!\n",
      "Hello, World!\n",
      "lower example: hello, world!\n",
      "hello, world!\n",
      "capitalize example: Hello, world!\n",
      "hello, world!\n",
      "title example: Hello, World!\n",
      "Hello, World!\n",
      "find example: 7\n",
      "Hello, World!\n",
      "index example: 7\n",
      "Hello, World!\n",
      "count example: 3\n",
      "Hello, World!\n",
      "startwith example: True\n",
      "Hello, World!\n",
      "endswith example: True\n",
      "HelloWorld\n",
      "isalpha example: True\n",
      "123456\n",
      "isdigit example: True\n",
      "   \n",
      "isspace example: True\n",
      "hello world!\n",
      "islower example: True\n",
      "HELLO WORLD!\n",
      "isupper example: True\n",
      "Hello World!\n",
      "istitle example: True\n",
      "42\n",
      "zfill example: 00042\n",
      "Hello\n",
      "center example: ---Hello---\n",
      "Hello\n",
      "ljust example: Hello-----\n",
      "Hello\n",
      "rjust example: -----Hello\n",
      "Hello, World!\n",
      "encode example: b'Hello, World!'\n",
      "The number is: {}\n",
      "format example: The number is: 42\n"
     ]
    }
   ],
   "source": [
    "# Python provides a rich set of string methods that perform various operations on string objects. Here's a non-exhaustive list of some commonly used string methods, along with examples for each:\n",
    "\n",
    "# `strip()`\n",
    "# Removes leading and trailing whitespace, including spaces, tabs, and newlines.\n",
    "\n",
    "s = \"   Hello, World!   \"\n",
    "print(s)\n",
    "print(f\"strip example: {s.strip()}\")  # Output: \"Hello, World!\"\n",
    "\n",
    "\n",
    "# `lstrip()`\n",
    "# Removes leading (left-side) whitespace.\n",
    "\n",
    "s = \"   Hello, World!   \"\n",
    "print(s)\n",
    "print(f\"lstrip example: {s.lstrip()}\")  # Output: \"Hello, World!   \"\n",
    "\n",
    "# `rstrip()`\n",
    "# Removes trailing (right-side) whitespace.\n",
    "\n",
    "s = \"   Hello, World!   \"\n",
    "print(s)\n",
    "print(f\"rstrip example: {s.rstrip()}\")  # Output: \"   Hello, World!\"\n",
    "\n",
    "\n",
    "# `split()`\n",
    "# Splits a string into a list where each word is a list item.\n",
    "\n",
    "s = \"one two three\"\n",
    "print(s)\n",
    "print(f\"split example: {s.split()}\")  # Output: ['one', 'two', 'three']\n",
    "\n",
    "# `join()`\n",
    "# Joins the elements of an iterable to the end of the string.\n",
    "\n",
    "s = \", \"\n",
    "print(s)\n",
    "print(f\"join example: {s.join(['one', 'two', 'three'])}\")  # Output: \"one, two, three\"\n",
    "\n",
    "# `replace()`\n",
    "# Replaces a string with another string.\n",
    "\n",
    "s = \"Hello, World!\"\n",
    "print(s)\n",
    "print(f\"replace example: {s.replace('World', 'Python')}\")  # Output: \"Hello, Python!\"\n",
    "\n",
    "# `upper()`\n",
    "# Converts a string to uppercase.\n",
    "\n",
    "s = \"Hello, World!\"\n",
    "print(s)\n",
    "print(f\"upper example: {s.upper()}\")  # Output: \"HELLO, WORLD!\"\n",
    "\n",
    "# `lower()`\n",
    "# Converts a string to lowercase.\n",
    "\n",
    "s = \"Hello, World!\"\n",
    "print(s)\n",
    "print(f\"lower example: {s.lower()}\")  # Output: \"hello, world!\"\n",
    "\n",
    "# `capitalize()`\n",
    "# Converts the first character to uppercase.\n",
    "\n",
    "s = \"hello, world!\"\n",
    "print(s)\n",
    "print(f\"capitalize example: {s.capitalize()}\")  # Output: \"Hello, world!\"\n",
    "\n",
    "# `title()`\n",
    "# Converts the first character of each word to uppercase.\n",
    "\n",
    "s = \"hello, world!\"\n",
    "print(s)\n",
    "print(f\"title example: {s.title()}\")  # Output: \"Hello, World!\"\n",
    "\n",
    "# `find()`\n",
    "# Returns the lowest index of the substring if it is found.\n",
    "\n",
    "s = \"Hello, World!\"\n",
    "print(s)\n",
    "print(f\"find example: {s.find('World')}\")  # Output: 7\n",
    "\n",
    "# `index()`\n",
    "# Similar to `find()`, but raises a `ValueError` if the substring is not found.\n",
    "\n",
    "s = \"Hello, World!\"\n",
    "print(s)\n",
    "print(f\"index example: {s.index('World')}\")  # Output: 7\n",
    "\n",
    "# `count()`\n",
    "# Returns the number of times a substring occurs in the string.\n",
    "\n",
    "s = \"Hello, World!\"\n",
    "print(s)\n",
    "print(f\"count example: {s.count('l')}\")  # Output: 3\n",
    "\n",
    "# `startswith()`\n",
    "# Returns `True` if the string starts with the specified prefix.\n",
    "\n",
    "s = \"Hello, World!\"\n",
    "print(s)\n",
    "print(f\"startwith example: {s.startswith('Hello')}\")  # Output: True\n",
    "\n",
    "# `endswith()`\n",
    "# Returns `True` if the string ends with the specified suffix.\n",
    "\n",
    "s = \"Hello, World!\"\n",
    "print(s)\n",
    "print(f\"endswith example: {s.endswith('World!')}\")  # Output: True\n",
    "\n",
    "\n",
    "# `isalpha()`\n",
    "# Checks if all characters in the string are alphabetic.\n",
    "\n",
    "s = \"HelloWorld\"\n",
    "print(s)\n",
    "print(f\"isalpha example: {s.isalpha()}\")  # Output: True\n",
    "\n",
    "\n",
    "# `isdigit()`\n",
    "# Checks if all characters in the string are digits.\n",
    "\n",
    "s = \"123456\"\n",
    "print(s)\n",
    "print(f\"isdigit example: {s.isdigit()}\")  # Output: True\n",
    "\n",
    "\n",
    "# `isspace()`\n",
    "# Checks if all characters in the string are whitespace.\n",
    "\n",
    "s = \"   \"\n",
    "print(s)\n",
    "print(f\"isspace example: {s.isspace()}\")  # Output: True\n",
    "\n",
    "# `islower()`\n",
    "# Checks if all characters in the string are lowercase.\n",
    "\n",
    "s = \"hello world!\"\n",
    "print(s)\n",
    "print(f\"islower example: {s.islower()}\")  # Output: True\n",
    "\n",
    "# `isupper()`\n",
    "# Checks if all characters in the string are uppercase.\n",
    "\n",
    "s = \"HELLO WORLD!\"\n",
    "print(s)\n",
    "print(f\"isupper example: {s.isupper()}\")  # Output: True\n",
    "\n",
    "# `istitle()`\n",
    "# Checks if the string is titled (if each word starts with an uppercase letter).\n",
    "\n",
    "s = \"Hello World!\"\n",
    "print(s)\n",
    "print(f\"istitle example: {s.istitle()}\")  # Output: True\n",
    "\n",
    "# `zfill()`\n",
    "# Fills the string with a specified number of zeros at the beginning.\n",
    "\n",
    "s = \"42\"\n",
    "print(s)\n",
    "print(f\"zfill example: {s.zfill(5)}\")  # Output: \"00042\"\n",
    "\n",
    "# `center()`\n",
    "# Centers the string, padding it with specified characters.\n",
    "\n",
    "s = \"Hello\"\n",
    "print(s)\n",
    "print(f\"center example: {s.center(11, '-')}\")  # Output: \"---Hello---\"\n",
    "\n",
    "# `ljust()`\n",
    "# Left-justifies the string, padding it with specified characters.\n",
    "\n",
    "s = \"Hello\"\n",
    "print(s)\n",
    "print(f\"ljust example: {s.ljust(10, '-')}\")  # Output: \"Hello-----\"\n",
    "\n",
    "# `rjust()`\n",
    "# Right-justifies the string, padding it with specified characters.\n",
    "\n",
    "s = \"Hello\"\n",
    "print(s)\n",
    "print(f\"rjust example: {s.rjust(10, '-')}\")  # Output: \"-----Hello\"\n",
    "\n",
    "\n",
    "# `encode()`\n",
    "# Encodes the string to the specified encoding.\n",
    "\n",
    "s = \"Hello, World!\"\n",
    "print(s)\n",
    "print(f\"encode example: {s.encode('utf-8')}\")  # Output: b'Hello, World!'\n",
    "\n",
    "# `format()`\n",
    "# Formats the string using a format specification.\n",
    "\n",
    "s = \"The number is: {}\"\n",
    "print(s)\n",
    "print(f\"format example: {s.format(42)}\")  # Output: \"The number is: 42\"\n"
   ]
  },
  {
   "cell_type": "code",
   "execution_count": 88,
   "metadata": {},
   "outputs": [
    {
     "name": "stdout",
     "output_type": "stream",
     "text": [
      "True\n",
      "False\n",
      "True\n",
      "True\n",
      "True\n"
     ]
    }
   ],
   "source": [
    "mystr2 = \"123456\"\n",
    "print(mystr2.isdigit())\n",
    "print(mystr2.isalpha())\n",
    "print(mystr2.isalnum())\n",
    "print(mystr2.isdecimal())\n",
    "print(mystr2.isnumeric())"
   ]
  },
  {
   "cell_type": "code",
   "execution_count": 89,
   "metadata": {},
   "outputs": [
    {
     "name": "stdout",
     "output_type": "stream",
     "text": [
      "False\n",
      "True\n",
      "True\n",
      "False\n",
      "False\n"
     ]
    }
   ],
   "source": [
    "mystr2 = \"abcde\"\n",
    "print(mystr2.isdigit())\n",
    "print(mystr2.isalpha())\n",
    "print(mystr2.isalnum())\n",
    "print(mystr2.isdecimal())\n",
    "print(mystr2.isnumeric())"
   ]
  },
  {
   "cell_type": "code",
   "execution_count": 90,
   "metadata": {},
   "outputs": [
    {
     "name": "stdout",
     "output_type": "stream",
     "text": [
      "False\n",
      "False\n",
      "True\n",
      "False\n",
      "False\n"
     ]
    }
   ],
   "source": [
    "mystr2 = \"abcd4569\"\n",
    "print(mystr2.isdigit())\n",
    "print(mystr2.isalpha())\n",
    "print(mystr2.isalnum())\n",
    "print(mystr2.isdecimal())\n",
    "print(mystr2.isnumeric())"
   ]
  },
  {
   "cell_type": "markdown",
   "metadata": {},
   "source": [
    "#### Using escape character"
   ]
  },
  {
   "cell_type": "code",
   "execution_count": 93,
   "metadata": {},
   "outputs": [
    {
     "ename": "SyntaxError",
     "evalue": "invalid syntax (818447417.py, line 2)",
     "output_type": "error",
     "traceback": [
      "\u001b[1;36m  Cell \u001b[1;32mIn[93], line 2\u001b[1;36m\u001b[0m\n\u001b[1;33m    mystr = \"My favourite TV Series is \"GameofThrones\"\"\u001b[0m\n\u001b[1;37m                                        ^\u001b[0m\n\u001b[1;31mSyntaxError\u001b[0m\u001b[1;31m:\u001b[0m invalid syntax\n"
     ]
    }
   ],
   "source": [
    "#Using double quotes in the string is not allowed.\n",
    "mystr = \"My favourite TV Series is \"GameofThrones\"\""
   ]
  },
  {
   "cell_type": "code",
   "execution_count": 94,
   "metadata": {},
   "outputs": [
    {
     "name": "stdout",
     "output_type": "stream",
     "text": [
      "My favourite series is \"Game of Thrones\"\n"
     ]
    }
   ],
   "source": [
    "# Using escape character to allow illegal characters\n",
    "mystr = \"My favourite series is \\\"Game of Thrones\\\"\"\n",
    "print(mystr)"
   ]
  },
  {
   "cell_type": "markdown",
   "metadata": {},
   "source": [
    "### List\n",
    "\n",
    "1. list is an ordered sequence of an item\n",
    "2. We can have different datatypes under a list. E.g. we can have integer, float, string, dictionary, list, tuple in a same list."
   ]
  },
  {
   "cell_type": "markdown",
   "metadata": {},
   "source": [
    "#### List creation"
   ]
  },
  {
   "cell_type": "code",
   "execution_count": 95,
   "metadata": {},
   "outputs": [
    {
     "name": "stdout",
     "output_type": "stream",
     "text": [
      "<class 'list'>\n",
      "<class 'list'>\n"
     ]
    }
   ],
   "source": [
    "list1 = []  # empty list\n",
    "list2 = list()  # empty list\n",
    "print(type(list1))\n",
    "print(type(list2))"
   ]
  },
  {
   "cell_type": "code",
   "execution_count": 96,
   "metadata": {},
   "outputs": [
    {
     "data": {
      "text/plain": [
       "4"
      ]
     },
     "execution_count": 96,
     "metadata": {},
     "output_type": "execute_result"
    }
   ],
   "source": [
    "list2 = [2,3,4]     # list of integers\n",
    "list3 = [10.2, 23.2, 49.5]  # list of floats\n",
    "list4 = [2+3j, 4-5j, -3j, 4]    # list of complex numbers\n",
    "list5 = ['a', 'hello', '23 address']    # list of string\n",
    "list6 = [['a','b','c'],[1,2,3,4], 'hello']  # nested list\n",
    "list7 = [{'key1':'value1', 'key2':'value2'}, ['hey', 'hello'], (1,2,3,4), {'red', 'blue', 'green'}] #list of mix instances of data types\n",
    "len(list7)  # answer 4 as there are 1 dictionary, 1 list, 1 tuple and 1 set inside main list"
   ]
  },
  {
   "cell_type": "markdown",
   "metadata": {},
   "source": [
    "#### List Indexing"
   ]
  },
  {
   "cell_type": "code",
   "execution_count": 97,
   "metadata": {},
   "outputs": [
    {
     "data": {
      "text/plain": [
       "2"
      ]
     },
     "execution_count": 97,
     "metadata": {},
     "output_type": "execute_result"
    }
   ],
   "source": [
    "list2[0]    # retreive first element of list2"
   ]
  },
  {
   "cell_type": "code",
   "execution_count": 98,
   "metadata": {},
   "outputs": [
    {
     "data": {
      "text/plain": [
       "(-0-3j)"
      ]
     },
     "execution_count": 98,
     "metadata": {},
     "output_type": "execute_result"
    }
   ],
   "source": [
    "list4[2]    # Note: complex numbers are returned in tuple"
   ]
  },
  {
   "cell_type": "code",
   "execution_count": 99,
   "metadata": {},
   "outputs": [
    {
     "data": {
      "text/plain": [
       "'23 address'"
      ]
     },
     "execution_count": 99,
     "metadata": {},
     "output_type": "execute_result"
    }
   ],
   "source": [
    "list5[-1]   # last element of list 5"
   ]
  },
  {
   "cell_type": "code",
   "execution_count": 100,
   "metadata": {},
   "outputs": [
    {
     "data": {
      "text/plain": [
       "[4]"
      ]
     },
     "execution_count": 100,
     "metadata": {},
     "output_type": "execute_result"
    }
   ],
   "source": [
    "# list2 = [2,3,4]\n",
    "list2[2:4]      # as in list there is no 3rd or 4th index so our call will only return the value of 2nd index"
   ]
  },
  {
   "cell_type": "code",
   "execution_count": 101,
   "metadata": {},
   "outputs": [
    {
     "data": {
      "text/plain": [
       "[4, 5]"
      ]
     },
     "execution_count": 101,
     "metadata": {},
     "output_type": "execute_result"
    }
   ],
   "source": [
    "list1 = [1,2,4,5,6,3,2,6,3]\n",
    "list1[2:4]          # Note: when you call a range, it will return n-1 indexed value. In example 2nd and 3rd index were returned"
   ]
  },
  {
   "cell_type": "code",
   "execution_count": 102,
   "metadata": {},
   "outputs": [
    {
     "data": {
      "text/plain": [
       "[4, 5, 6, 3, 2]"
      ]
     },
     "execution_count": 102,
     "metadata": {},
     "output_type": "execute_result"
    }
   ],
   "source": [
    "list1 = [1,2,4,5,6,3,2,6,3]\n",
    "list1[2:7]"
   ]
  },
  {
   "cell_type": "code",
   "execution_count": 103,
   "metadata": {},
   "outputs": [
    {
     "data": {
      "text/plain": [
       "[1, 2, 4, 5]"
      ]
     },
     "execution_count": 103,
     "metadata": {},
     "output_type": "execute_result"
    }
   ],
   "source": [
    "list1 = [1,2,4,5,6,3,2,6,3]\n",
    "list1[:4]           # return values upto 4th index (n-1), so it will not cover 4th index"
   ]
  },
  {
   "cell_type": "code",
   "execution_count": 104,
   "metadata": {},
   "outputs": [
    {
     "data": {
      "text/plain": [
       "[6, 3, 2, 6, 3]"
      ]
     },
     "execution_count": 104,
     "metadata": {},
     "output_type": "execute_result"
    }
   ],
   "source": [
    "list1 = [1,2,4,5,6,3,2,6,3]\n",
    "list1[4:]          # return values from 4th index"
   ]
  },
  {
   "cell_type": "code",
   "execution_count": 105,
   "metadata": {},
   "outputs": [
    {
     "data": {
      "text/plain": [
       "[2, 6, 3]"
      ]
     },
     "execution_count": 105,
     "metadata": {},
     "output_type": "execute_result"
    }
   ],
   "source": [
    "list1 = [1,2,4,5,6,3,2,6,3]\n",
    "list1[-3:]          # return last to 3rd index.\n",
    "\n",
    "# Note: when we write (-) negative value then the index starts from back side and last index starts with -1."
   ]
  },
  {
   "cell_type": "code",
   "execution_count": 110,
   "metadata": {},
   "outputs": [
    {
     "name": "stdout",
     "output_type": "stream",
     "text": [
      "[1, 2, 4, 5, 6, 3, 2, 6, 3]\n",
      "[1, 2, 4, 5, 6, 3, 2, 6, 3]\n"
     ]
    }
   ],
   "source": [
    "# how to get whole list:\n",
    "list1 = [1,2,4,5,6,3,2,6,3]\n",
    "list1[:] # or\n",
    "print(list1[:]) # or\n",
    "print(list1)"
   ]
  },
  {
   "cell_type": "markdown",
   "metadata": {},
   "source": [
    "#### Add, Remove, Change and Copy items in list"
   ]
  },
  {
   "cell_type": "code",
   "execution_count": 111,
   "metadata": {},
   "outputs": [
    {
     "name": "stdout",
     "output_type": "stream",
     "text": [
      "Here is mylist: ['apple', 'banana', 'oranges', 'pineapple']\n"
     ]
    }
   ],
   "source": [
    "mylist = ['apple', 'banana', 'oranges', 'pineapple']\n",
    "print(f\"Here is mylist: {mylist}\")"
   ]
  },
  {
   "cell_type": "code",
   "execution_count": 112,
   "metadata": {},
   "outputs": [
    {
     "data": {
      "text/plain": [
       "['apple', 'banana', 'oranges', 'pineapple', 'grapes']"
      ]
     },
     "execution_count": 112,
     "metadata": {},
     "output_type": "execute_result"
    }
   ],
   "source": [
    "mylist.append('grapes')\n",
    "mylist"
   ]
  },
  {
   "cell_type": "code",
   "execution_count": 114,
   "metadata": {},
   "outputs": [
    {
     "name": "stdout",
     "output_type": "stream",
     "text": [
      "5\n"
     ]
    }
   ],
   "source": [
    "# insert method requires two arguments: index number and value\n",
    "mylist.insert(7, 'olives')\n",
    "mylist\n",
    "print(mylist.index('olives'))   # answer 5, even if we have defined 'olives' at index 7, because by that time index 7 was not there."
   ]
  },
  {
   "cell_type": "code",
   "execution_count": 115,
   "metadata": {},
   "outputs": [
    {
     "data": {
      "text/plain": [
       "[1, 2, 3, 45, 4, 5, 6, 7, 8, 9]"
      ]
     },
     "execution_count": 115,
     "metadata": {},
     "output_type": "execute_result"
    }
   ],
   "source": [
    "mylist = [1,2,3,4,5,6,7,8,9]\n",
    "mylist.insert(3, 45)\n",
    "mylist"
   ]
  },
  {
   "cell_type": "code",
   "execution_count": 118,
   "metadata": {},
   "outputs": [
    {
     "data": {
      "text/plain": [
       "[1, 2, 3, 4, 5, 6, 7, 8, 9]"
      ]
     },
     "execution_count": 118,
     "metadata": {},
     "output_type": "execute_result"
    }
   ],
   "source": [
    "mylist.remove(45)   # will remove that particular value\n",
    "mylist"
   ]
  },
  {
   "cell_type": "code",
   "execution_count": 120,
   "metadata": {},
   "outputs": [
    {
     "name": "stdout",
     "output_type": "stream",
     "text": [
      "[1, 2, 3, 4, 5, 6, 7, 8]\n",
      "[1, 3, 4, 5, 6, 7, 8]\n"
     ]
    }
   ],
   "source": [
    "# pop method\n",
    "mylist = [1,2,3,4,5,6,7,8,9]\n",
    "mylist.pop()    # will remove last item\n",
    "print(mylist)\n",
    "mylist.pop(1)   # will remove value from index 1\n",
    "print(mylist)"
   ]
  },
  {
   "cell_type": "code",
   "execution_count": 121,
   "metadata": {},
   "outputs": [
    {
     "name": "stdout",
     "output_type": "stream",
     "text": [
      "[3, 4, 5, 6, 7, 8]\n"
     ]
    }
   ],
   "source": [
    "del mylist[0]   # remove 0th indexed value\n",
    "print(mylist)"
   ]
  },
  {
   "cell_type": "code",
   "execution_count": 122,
   "metadata": {},
   "outputs": [
    {
     "name": "stdout",
     "output_type": "stream",
     "text": [
      "[1, 4, 52, 6, 7, 75]\n"
     ]
    }
   ],
   "source": [
    "# change value using index\n",
    "mylist[0] = 1\n",
    "mylist[2] = 52\n",
    "mylist[5] = 75\n",
    "print(mylist)"
   ]
  },
  {
   "cell_type": "code",
   "execution_count": 123,
   "metadata": {},
   "outputs": [
    {
     "name": "stdout",
     "output_type": "stream",
     "text": [
      "[]\n"
     ]
    }
   ],
   "source": [
    "# clear the list or empty it\n",
    "mylist.clear()\n",
    "print(mylist)"
   ]
  },
  {
   "cell_type": "code",
   "execution_count": 124,
   "metadata": {},
   "outputs": [
    {
     "ename": "NameError",
     "evalue": "name 'mylist' is not defined",
     "output_type": "error",
     "traceback": [
      "\u001b[1;31m---------------------------------------------------------------------------\u001b[0m",
      "\u001b[1;31mNameError\u001b[0m                                 Traceback (most recent call last)",
      "Cell \u001b[1;32mIn[124], line 3\u001b[0m\n\u001b[0;32m      1\u001b[0m \u001b[38;5;66;03m# delete the whole list. Note: not equal to empty it\u001b[39;00m\n\u001b[0;32m      2\u001b[0m \u001b[38;5;28;01mdel\u001b[39;00m mylist\n\u001b[1;32m----> 3\u001b[0m \u001b[38;5;28mprint\u001b[39m(\u001b[43mmylist\u001b[49m)\n",
      "\u001b[1;31mNameError\u001b[0m: name 'mylist' is not defined"
     ]
    }
   ],
   "source": [
    "# delete the whole list. Note: not equal to empty it\n",
    "del mylist\n",
    "print(mylist)"
   ]
  },
  {
   "cell_type": "code",
   "execution_count": 126,
   "metadata": {},
   "outputs": [],
   "source": [
    "# copy list\n",
    "mylist = ['one', 'two', 'three', 'four', 'five', 'six', 'seven']\n",
    "mylist2 = mylist    # this will create new reference of mylist, it is not copying the list"
   ]
  },
  {
   "cell_type": "code",
   "execution_count": 127,
   "metadata": {},
   "outputs": [
    {
     "data": {
      "text/plain": [
       "(2164281868480, 2164281868480)"
      ]
     },
     "execution_count": 127,
     "metadata": {},
     "output_type": "execute_result"
    }
   ],
   "source": [
    "id(mylist), id(mylist2) # both addresses are same, as it is refering to same address"
   ]
  },
  {
   "cell_type": "code",
   "execution_count": 128,
   "metadata": {},
   "outputs": [
    {
     "data": {
      "text/plain": [
       "(2164281868480, 2164281897856)"
      ]
     },
     "execution_count": 128,
     "metadata": {},
     "output_type": "execute_result"
    }
   ],
   "source": [
    "mylist2 = mylist.copy()\n",
    "mylist2\n",
    "id(mylist), id(mylist2) # this is actually copied the items so, now they have different id"
   ]
  },
  {
   "cell_type": "markdown",
   "metadata": {},
   "source": [
    "#### join list"
   ]
  },
  {
   "cell_type": "code",
   "execution_count": 131,
   "metadata": {},
   "outputs": [
    {
     "name": "stdout",
     "output_type": "stream",
     "text": [
      "['one', 'two', 'three', 'four', 'five', 'six', 'seven', 'eight']\n",
      "list1 before the extension with list2 ['one', 'two', 'three', 'four']\n",
      "list1 after list2 extension ['one', 'two', 'three', 'four', 'five', 'six', 'seven', 'eight']\n"
     ]
    }
   ],
   "source": [
    "list1 = ['one', 'two', 'three', 'four']\n",
    "list2 = ['five', 'six', 'seven', 'eight']\n",
    "\n",
    "list3 = list1 + list2\n",
    "print(list3)\n",
    "\n",
    "print(f\"list1 before the extension with list2 {list1}\")\n",
    "\n",
    "list1.extend(list2)\n",
    "print(f\"list1 after list2 extension {list1}\")"
   ]
  },
  {
   "cell_type": "markdown",
   "metadata": {},
   "source": [
    "#### list membership"
   ]
  },
  {
   "cell_type": "code",
   "execution_count": 132,
   "metadata": {},
   "outputs": [
    {
     "data": {
      "text/plain": [
       "['one', 'two', 'three', 'four', 'five', 'six', 'seven', 'eight']"
      ]
     },
     "execution_count": 132,
     "metadata": {},
     "output_type": "execute_result"
    }
   ],
   "source": [
    "list1"
   ]
  },
  {
   "cell_type": "code",
   "execution_count": 133,
   "metadata": {},
   "outputs": [
    {
     "name": "stdout",
     "output_type": "stream",
     "text": [
      "True\n"
     ]
    }
   ],
   "source": [
    "print('one' in list1)"
   ]
  },
  {
   "cell_type": "code",
   "execution_count": 134,
   "metadata": {},
   "outputs": [
    {
     "data": {
      "text/plain": [
       "False"
      ]
     },
     "execution_count": 134,
     "metadata": {},
     "output_type": "execute_result"
    }
   ],
   "source": [
    "'ten' in list1"
   ]
  },
  {
   "cell_type": "code",
   "execution_count": 135,
   "metadata": {},
   "outputs": [
    {
     "name": "stdout",
     "output_type": "stream",
     "text": [
      "operation with three\n"
     ]
    }
   ],
   "source": [
    "if 'three' in list1:\n",
    "    print('operation with three')\n",
    "else:\n",
    "    print('operation without three')"
   ]
  },
  {
   "cell_type": "markdown",
   "metadata": {},
   "source": [
    "#### reverse & sort list"
   ]
  },
  {
   "cell_type": "code",
   "execution_count": 136,
   "metadata": {},
   "outputs": [
    {
     "data": {
      "text/plain": [
       "['one', 'two', 'three', 'four', 'five', 'six', 'seven', 'eight']"
      ]
     },
     "execution_count": 136,
     "metadata": {},
     "output_type": "execute_result"
    }
   ],
   "source": [
    "list1"
   ]
  },
  {
   "cell_type": "code",
   "execution_count": 139,
   "metadata": {},
   "outputs": [
    {
     "data": {
      "text/plain": [
       "['eight', 'seven', 'six', 'five', 'four', 'three', 'two', 'one']"
      ]
     },
     "execution_count": 139,
     "metadata": {},
     "output_type": "execute_result"
    }
   ],
   "source": [
    "list1.reverse()\n",
    "list1"
   ]
  },
  {
   "cell_type": "code",
   "execution_count": 142,
   "metadata": {},
   "outputs": [
    {
     "data": {
      "text/plain": [
       "['one', 'two', 'three', 'four', 'five', 'six', 'seven', 'eight']"
      ]
     },
     "execution_count": 142,
     "metadata": {},
     "output_type": "execute_result"
    }
   ],
   "source": [
    "list1 = list1[::-1]\n",
    "list1"
   ]
  },
  {
   "cell_type": "code",
   "execution_count": 144,
   "metadata": {},
   "outputs": [
    {
     "data": {
      "text/plain": [
       "[1, 2, 3, 4, 5, 6, 7]"
      ]
     },
     "execution_count": 144,
     "metadata": {},
     "output_type": "execute_result"
    }
   ],
   "source": [
    "mylist = [1,3,5,2,6,7,4]\n",
    "mylist.sort()\n",
    "mylist"
   ]
  },
  {
   "cell_type": "code",
   "execution_count": 145,
   "metadata": {},
   "outputs": [
    {
     "data": {
      "text/plain": [
       "[7, 6, 5, 4, 3, 2, 1]"
      ]
     },
     "execution_count": 145,
     "metadata": {},
     "output_type": "execute_result"
    }
   ],
   "source": [
    "mylist = [1,3,5,2,6,7,4]\n",
    "mylist.sort(reverse=True)\n",
    "mylist"
   ]
  },
  {
   "cell_type": "code",
   "execution_count": 147,
   "metadata": {},
   "outputs": [
    {
     "data": {
      "text/plain": [
       "[15, 22, 23, 45, 60, 63, 67]"
      ]
     },
     "execution_count": 147,
     "metadata": {},
     "output_type": "execute_result"
    }
   ],
   "source": [
    "mylist4 = [45, 23, 67, 22, 60, 63, 15]\n",
    "sorted(mylist4)"
   ]
  },
  {
   "cell_type": "markdown",
   "metadata": {},
   "source": [
    "#### loop through a list"
   ]
  },
  {
   "cell_type": "code",
   "execution_count": 148,
   "metadata": {},
   "outputs": [
    {
     "data": {
      "text/plain": [
       "['one', 'two', 'three', 'four', 'five', 'six', 'seven', 'eight']"
      ]
     },
     "execution_count": 148,
     "metadata": {},
     "output_type": "execute_result"
    }
   ],
   "source": [
    "list1"
   ]
  },
  {
   "cell_type": "code",
   "execution_count": 149,
   "metadata": {},
   "outputs": [
    {
     "name": "stdout",
     "output_type": "stream",
     "text": [
      "one\n",
      "two\n",
      "three\n",
      "four\n",
      "five\n",
      "six\n",
      "seven\n",
      "eight\n"
     ]
    }
   ],
   "source": [
    "for i in list1:\n",
    "    print(i)"
   ]
  },
  {
   "cell_type": "code",
   "execution_count": 150,
   "metadata": {},
   "outputs": [
    {
     "name": "stdout",
     "output_type": "stream",
     "text": [
      "(0, 'one')\n",
      "(1, 'two')\n",
      "(2, 'three')\n",
      "(3, 'four')\n",
      "(4, 'five')\n",
      "(5, 'six')\n",
      "(6, 'seven')\n",
      "(7, 'eight')\n"
     ]
    }
   ],
   "source": [
    "for i in enumerate(list1):\n",
    "    print(i)"
   ]
  },
  {
   "cell_type": "markdown",
   "metadata": {},
   "source": [
    "#### count"
   ]
  },
  {
   "cell_type": "code",
   "execution_count": 151,
   "metadata": {},
   "outputs": [
    {
     "data": {
      "text/plain": [
       "3"
      ]
     },
     "execution_count": 151,
     "metadata": {},
     "output_type": "execute_result"
    }
   ],
   "source": [
    "list10 = [1, 3, 5, 2, 6, 2, 4, 6, 2, 9]\n",
    "list10.count(2) # note that integer value"
   ]
  },
  {
   "cell_type": "code",
   "execution_count": 153,
   "metadata": {},
   "outputs": [
    {
     "data": {
      "text/plain": [
       "4"
      ]
     },
     "execution_count": 153,
     "metadata": {},
     "output_type": "execute_result"
    }
   ],
   "source": [
    "list3 = ['one', 'two', 'three', 'two', 'two', 'six', 'two', 'eight']\n",
    "list3.count('two')  # note that string value"
   ]
  },
  {
   "cell_type": "markdown",
   "metadata": {},
   "source": [
    "#### All or Any\n",
    "\n",
    "**The all() method returns**:\n",
    "`True` - If all elements in a list are true\n",
    "`False` - If any element in a list is false\n",
    "\n",
    "**The any() function returns**: `True` if any element in the list is True. If not, any() returns `False`."
   ]
  },
  {
   "cell_type": "code",
   "execution_count": 154,
   "metadata": {},
   "outputs": [
    {
     "data": {
      "text/plain": [
       "False"
      ]
     },
     "execution_count": 154,
     "metadata": {},
     "output_type": "execute_result"
    }
   ],
   "source": [
    "l1 = [1,2, 6, 9, 0]\n",
    "all(l1)     # will return false as we have one 0 value"
   ]
  },
  {
   "cell_type": "code",
   "execution_count": 155,
   "metadata": {},
   "outputs": [
    {
     "data": {
      "text/plain": [
       "True"
      ]
     },
     "execution_count": 155,
     "metadata": {},
     "output_type": "execute_result"
    }
   ],
   "source": [
    "any(l1)     # will return true because we have not zero value or not null value in list"
   ]
  },
  {
   "cell_type": "code",
   "execution_count": 157,
   "metadata": {},
   "outputs": [
    {
     "data": {
      "text/plain": [
       "True"
      ]
     },
     "execution_count": 157,
     "metadata": {},
     "output_type": "execute_result"
    }
   ],
   "source": [
    "l1 = [1,2, 6, 9, True, False]\n",
    "any(l1)"
   ]
  },
  {
   "cell_type": "code",
   "execution_count": 158,
   "metadata": {},
   "outputs": [
    {
     "data": {
      "text/plain": [
       "False"
      ]
     },
     "execution_count": 158,
     "metadata": {},
     "output_type": "execute_result"
    }
   ],
   "source": [
    "all(l1)"
   ]
  },
  {
   "cell_type": "markdown",
   "metadata": {},
   "source": [
    "#### List comprehension"
   ]
  },
  {
   "cell_type": "code",
   "execution_count": 159,
   "metadata": {},
   "outputs": [
    {
     "name": "stdout",
     "output_type": "stream",
     "text": [
      "[1, 4, 9, 16, 25]\n"
     ]
    }
   ],
   "source": [
    "numbers = [1, 2, 3, 4, 5]\n",
    "squared = [x ** 2 for x in numbers]\n",
    "print(squared)"
   ]
  },
  {
   "cell_type": "code",
   "execution_count": 160,
   "metadata": {},
   "outputs": [
    {
     "name": "stdout",
     "output_type": "stream",
     "text": [
      "[1, 2, 3]\n"
     ]
    }
   ],
   "source": [
    "# Using list comprehension to iterate through loop\n",
    "List = [character for character in [1, 2, 3]]\n",
    "# Displaying list\n",
    "print(List)"
   ]
  },
  {
   "cell_type": "code",
   "execution_count": 161,
   "metadata": {},
   "outputs": [
    {
     "name": "stdout",
     "output_type": "stream",
     "text": [
      "[0, 2, 4, 6, 8, 10]\n"
     ]
    }
   ],
   "source": [
    "list = [i for i in range(11) if i % 2 == 0]\n",
    "print(list)"
   ]
  },
  {
   "cell_type": "code",
   "execution_count": 162,
   "metadata": {},
   "outputs": [
    {
     "name": "stdout",
     "output_type": "stream",
     "text": [
      "[[0, 1, 2], [0, 1, 2], [0, 1, 2]]\n"
     ]
    }
   ],
   "source": [
    "matrix = [[j for j in range(3)] for i in range(3)]\n",
    "\n",
    "print(matrix)"
   ]
  },
  {
   "cell_type": "code",
   "execution_count": 163,
   "metadata": {},
   "outputs": [
    {
     "name": "stdout",
     "output_type": "stream",
     "text": [
      "['G', 'e', 'e', 'k', 's', ' ', '4', ' ', 'G', 'e', 'e', 'k', 's', '!']\n"
     ]
    }
   ],
   "source": [
    "# Using list comprehension to iterate through loop\n",
    "List = [character for character in 'Geeks 4 Geeks!']\n",
    "\n",
    "# Displaying list\n",
    "print(List)"
   ]
  },
  {
   "cell_type": "code",
   "execution_count": 167,
   "metadata": {},
   "outputs": [
    {
     "ename": "TypeError",
     "evalue": "'list' object is not callable",
     "output_type": "error",
     "traceback": [
      "\u001b[1;31m---------------------------------------------------------------------------\u001b[0m",
      "\u001b[1;31mTypeError\u001b[0m                                 Traceback (most recent call last)",
      "Cell \u001b[1;32mIn[167], line 3\u001b[0m\n\u001b[0;32m      1\u001b[0m \u001b[38;5;66;03m# using lambda to print table of 10\u001b[39;00m\n\u001b[0;32m      2\u001b[0m \u001b[38;5;66;03m# numbers = list(map(lambda i: i*10, [i for i in range(1, 6)]))\u001b[39;00m\n\u001b[1;32m----> 3\u001b[0m numbers \u001b[38;5;241m=\u001b[39m \u001b[38;5;28;43mlist\u001b[39;49m\u001b[43m(\u001b[49m\u001b[38;5;28;43mmap\u001b[39;49m\u001b[43m(\u001b[49m\u001b[38;5;28;43;01mlambda\u001b[39;49;00m\u001b[43m \u001b[49m\u001b[43mi\u001b[49m\u001b[43m:\u001b[49m\u001b[43m \u001b[49m\u001b[43mi\u001b[49m\u001b[38;5;241;43m*\u001b[39;49m\u001b[38;5;241;43m10\u001b[39;49m\u001b[43m,\u001b[49m\u001b[43m \u001b[49m\u001b[43m[\u001b[49m\u001b[43mi\u001b[49m\u001b[43m \u001b[49m\u001b[38;5;28;43;01mfor\u001b[39;49;00m\u001b[43m \u001b[49m\u001b[43mi\u001b[49m\u001b[43m \u001b[49m\u001b[38;5;129;43;01min\u001b[39;49;00m\u001b[43m \u001b[49m\u001b[38;5;28;43mrange\u001b[39;49m\u001b[43m(\u001b[49m\u001b[38;5;241;43m1\u001b[39;49m\u001b[43m,\u001b[49m\u001b[43m \u001b[49m\u001b[38;5;241;43m6\u001b[39;49m\u001b[43m)\u001b[49m\u001b[43m]\u001b[49m\u001b[43m)\u001b[49m\u001b[43m)\u001b[49m\n\u001b[0;32m      5\u001b[0m \u001b[38;5;28mprint\u001b[39m(numbers)\n",
      "\u001b[1;31mTypeError\u001b[0m: 'list' object is not callable"
     ]
    }
   ],
   "source": [
    "# using lambda to print table of 10\n",
    "numbers = list(map(lambda i: i*10, [i for i in range(1, 6)]))\n",
    "\n",
    "print(numbers)  # the result will be [10, 20, 30, 40, 50], somehow jupyter notebook giving Type error at list()"
   ]
  },
  {
   "cell_type": "code",
   "execution_count": 168,
   "metadata": {},
   "outputs": [
    {
     "name": "stdout",
     "output_type": "stream",
     "text": [
      "['Even number', 'Odd number', 'Even number', 'Odd number', 'Even number', 'Odd number', 'Even number', 'Odd number']\n"
     ]
    }
   ],
   "source": [
    "lis = [\"Even number\" if i % 2 == 0 else \"Odd number\" for i in range(8)]\n",
    "print(lis)"
   ]
  },
  {
   "cell_type": "code",
   "execution_count": 169,
   "metadata": {},
   "outputs": [
    {
     "name": "stdout",
     "output_type": "stream",
     "text": [
      "[0, 10, 20, 30, 40, 50, 60, 70, 80, 90]\n"
     ]
    }
   ],
   "source": [
    "lis = [num for num in range(100) if num % 5 == 0 if num % 10 == 0]\n",
    "print(lis)"
   ]
  },
  {
   "cell_type": "code",
   "execution_count": 170,
   "metadata": {},
   "outputs": [
    {
     "name": "stdout",
     "output_type": "stream",
     "text": [
      "[[10, 40, 70], [20, 50, 80], [30, 60, 90]]\n"
     ]
    }
   ],
   "source": [
    "# Assign matrix\n",
    "twoDMatrix = [[10, 20, 30],\n",
    "\t\t\t[40, 50, 60],\n",
    "\t\t\t[70, 80, 90]]\n",
    "\n",
    "# Generate transpose\n",
    "trans = [[i[j] for i in twoDMatrix] for j in range(len(twoDMatrix[0]))]\n",
    "\n",
    "print(trans)"
   ]
  },
  {
   "cell_type": "code",
   "execution_count": 171,
   "metadata": {},
   "outputs": [
    {
     "name": "stdout",
     "output_type": "stream",
     "text": [
      "['skeeG', 'rof', 'skeeG']\n"
     ]
    }
   ],
   "source": [
    "# Reverse each string in tuple\n",
    "List = [string[::-1] for string in ('Geeks', 'for', 'Geeks')]\n",
    "\n",
    "# Display list\n",
    "print(List)"
   ]
  },
  {
   "cell_type": "code",
   "execution_count": 172,
   "metadata": {},
   "outputs": [
    {
     "name": "stdout",
     "output_type": "stream",
     "text": [
      "[('G', 25), ('G', 30), ('g', 35)]\n"
     ]
    }
   ],
   "source": [
    "# Creating a list of Tuples from two separate Lists\n",
    "names = [\"G\", \"G\", \"g\"]\n",
    "ages = [25, 30, 35]\n",
    "person_tuples = [(name, age) for name, age in zip(names, ages)]\n",
    "print(person_tuples)"
   ]
  },
  {
   "cell_type": "markdown",
   "metadata": {},
   "source": [
    "### Tuple\n",
    "\n",
    "1. Tuple is similar to List except the objects in tuple are `immutable` which means we cannot change the elements of a tuple once assigned.\n",
    "2. When we do not want to change the data over time, tuple is a preferred data type.\n",
    "3. Iterating over the elements of a tuple is faster compared to iterating over a list."
   ]
  },
  {
   "cell_type": "markdown",
   "metadata": {},
   "source": [
    "#### Tuple creation"
   ]
  },
  {
   "cell_type": "code",
   "execution_count": 174,
   "metadata": {},
   "outputs": [],
   "source": [
    "tup1 = ()   # empty tuple\n",
    "tup2 = (10, 30, 50) # tuple of integer numbers\n",
    "tup3 = (10.3, 30.4, 50.5)   # tuple of float numbers\n",
    "tup4 = ('one','two', 'three')   # tuple of strings\n",
    "tup5 = ('Asia', 34, (10,30), 20)    # nested tuple\n",
    "tup6 = ('Asia', 34, 20.5)   # mixed data types\n",
    "tup7 = ('Asif', 25, [50,100], [150,90], {'John','David'}, (99,22,3))"
   ]
  },
  {
   "cell_type": "code",
   "execution_count": 175,
   "metadata": {},
   "outputs": [
    {
     "data": {
      "text/plain": [
       "6"
      ]
     },
     "execution_count": 175,
     "metadata": {},
     "output_type": "execute_result"
    }
   ],
   "source": [
    "len(tup7)"
   ]
  },
  {
   "cell_type": "markdown",
   "metadata": {},
   "source": [
    "#### Tuple indexing"
   ]
  },
  {
   "cell_type": "code",
   "execution_count": 176,
   "metadata": {},
   "outputs": [
    {
     "data": {
      "text/plain": [
       "10"
      ]
     },
     "execution_count": 176,
     "metadata": {},
     "output_type": "execute_result"
    }
   ],
   "source": [
    "tup2[0]     # retreive first element of tuple"
   ]
  },
  {
   "cell_type": "code",
   "execution_count": 177,
   "metadata": {},
   "outputs": [
    {
     "data": {
      "text/plain": [
       "'one'"
      ]
     },
     "execution_count": 177,
     "metadata": {},
     "output_type": "execute_result"
    }
   ],
   "source": [
    "tup4[0]"
   ]
  },
  {
   "cell_type": "code",
   "execution_count": 178,
   "metadata": {},
   "outputs": [
    {
     "data": {
      "text/plain": [
       "'o'"
      ]
     },
     "execution_count": 178,
     "metadata": {},
     "output_type": "execute_result"
    }
   ],
   "source": [
    "tup4[0][0]  # Nested indexing - Access the first character of the first tuple index"
   ]
  },
  {
   "cell_type": "code",
   "execution_count": 179,
   "metadata": {},
   "outputs": [
    {
     "data": {
      "text/plain": [
       "'three'"
      ]
     },
     "execution_count": 179,
     "metadata": {},
     "output_type": "execute_result"
    }
   ],
   "source": [
    "tup4[-1]    # retreive last element of tuple"
   ]
  },
  {
   "cell_type": "code",
   "execution_count": 181,
   "metadata": {},
   "outputs": [
    {
     "data": {
      "text/plain": [
       "(10, 30)"
      ]
     },
     "execution_count": 181,
     "metadata": {},
     "output_type": "execute_result"
    }
   ],
   "source": [
    "tup5[-2]"
   ]
  },
  {
   "cell_type": "markdown",
   "metadata": {},
   "source": [
    "#### Tuple slicing"
   ]
  },
  {
   "cell_type": "code",
   "execution_count": 182,
   "metadata": {},
   "outputs": [],
   "source": [
    "mytuple = ('one', 'two', 'three', 'four', 'five', 'six', 'seven', 'eight')"
   ]
  },
  {
   "cell_type": "code",
   "execution_count": 183,
   "metadata": {},
   "outputs": [
    {
     "data": {
      "text/plain": [
       "('one', 'two', 'three')"
      ]
     },
     "execution_count": 183,
     "metadata": {},
     "output_type": "execute_result"
    }
   ],
   "source": [
    "mytuple[0:3]    # list all items from 0th to 3rd index"
   ]
  },
  {
   "cell_type": "code",
   "execution_count": 184,
   "metadata": {},
   "outputs": [
    {
     "data": {
      "text/plain": [
       "('three', 'four', 'five')"
      ]
     },
     "execution_count": 184,
     "metadata": {},
     "output_type": "execute_result"
    }
   ],
   "source": [
    "mytuple[2:5]    # list all items from 2nd to 5th index"
   ]
  },
  {
   "cell_type": "code",
   "execution_count": 185,
   "metadata": {},
   "outputs": [
    {
     "data": {
      "text/plain": [
       "('one', 'two', 'three')"
      ]
     },
     "execution_count": 185,
     "metadata": {},
     "output_type": "execute_result"
    }
   ],
   "source": [
    "mytuple[:3]     # list all items upto 3rd index"
   ]
  },
  {
   "cell_type": "code",
   "execution_count": 186,
   "metadata": {},
   "outputs": [
    {
     "data": {
      "text/plain": [
       "('six', 'seven', 'eight')"
      ]
     },
     "execution_count": 186,
     "metadata": {},
     "output_type": "execute_result"
    }
   ],
   "source": [
    "mytuple[-3:]    # list all items starting from last 3rd index to end"
   ]
  },
  {
   "cell_type": "code",
   "execution_count": 187,
   "metadata": {},
   "outputs": [
    {
     "data": {
      "text/plain": [
       "('eight',)"
      ]
     },
     "execution_count": 187,
     "metadata": {},
     "output_type": "execute_result"
    }
   ],
   "source": [
    "mytuple[-1:]    # list all items starting from last index to end"
   ]
  },
  {
   "cell_type": "code",
   "execution_count": 188,
   "metadata": {},
   "outputs": [
    {
     "data": {
      "text/plain": [
       "'eight'"
      ]
     },
     "execution_count": 188,
     "metadata": {},
     "output_type": "execute_result"
    }
   ],
   "source": [
    "mytuple[-1]     # list only last item"
   ]
  },
  {
   "cell_type": "code",
   "execution_count": 189,
   "metadata": {},
   "outputs": [
    {
     "data": {
      "text/plain": [
       "('one', 'two', 'three', 'four', 'five', 'six', 'seven', 'eight')"
      ]
     },
     "execution_count": 189,
     "metadata": {},
     "output_type": "execute_result"
    }
   ],
   "source": [
    "mytuple[:]      # return whole tuple"
   ]
  },
  {
   "cell_type": "markdown",
   "metadata": {},
   "source": [
    "#### Remove and change items"
   ]
  },
  {
   "cell_type": "code",
   "execution_count": 190,
   "metadata": {},
   "outputs": [
    {
     "data": {
      "text/plain": [
       "('one', 'two', 'three', 'four', 'five', 'six', 'seven', 'eight')"
      ]
     },
     "execution_count": 190,
     "metadata": {},
     "output_type": "execute_result"
    }
   ],
   "source": [
    "mytuple"
   ]
  },
  {
   "cell_type": "code",
   "execution_count": 191,
   "metadata": {},
   "outputs": [
    {
     "ename": "TypeError",
     "evalue": "'tuple' object doesn't support item deletion",
     "output_type": "error",
     "traceback": [
      "\u001b[1;31m---------------------------------------------------------------------------\u001b[0m",
      "\u001b[1;31mTypeError\u001b[0m                                 Traceback (most recent call last)",
      "Cell \u001b[1;32mIn[191], line 1\u001b[0m\n\u001b[1;32m----> 1\u001b[0m \u001b[38;5;28;01mdel\u001b[39;00m \u001b[43mmytuple\u001b[49m\u001b[43m[\u001b[49m\u001b[38;5;241;43m0\u001b[39;49m\u001b[43m]\u001b[49m\n",
      "\u001b[1;31mTypeError\u001b[0m: 'tuple' object doesn't support item deletion"
     ]
    }
   ],
   "source": [
    "del mytuple[0]  # tuples are immutable so we cannot delete tuple items"
   ]
  },
  {
   "cell_type": "code",
   "execution_count": 192,
   "metadata": {},
   "outputs": [
    {
     "ename": "TypeError",
     "evalue": "'tuple' object does not support item assignment",
     "output_type": "error",
     "traceback": [
      "\u001b[1;31m---------------------------------------------------------------------------\u001b[0m",
      "\u001b[1;31mTypeError\u001b[0m                                 Traceback (most recent call last)",
      "Cell \u001b[1;32mIn[192], line 1\u001b[0m\n\u001b[1;32m----> 1\u001b[0m \u001b[43mmytuple\u001b[49m\u001b[43m[\u001b[49m\u001b[38;5;241;43m0\u001b[39;49m\u001b[43m]\u001b[49m \u001b[38;5;241m=\u001b[39m \u001b[38;5;241m1\u001b[39m\n",
      "\u001b[1;31mTypeError\u001b[0m: 'tuple' object does not support item assignment"
     ]
    }
   ],
   "source": [
    "mytuple[0] = 1  # tuples are immutable so we cannot edit or change tuple items"
   ]
  },
  {
   "cell_type": "code",
   "execution_count": null,
   "metadata": {},
   "outputs": [],
   "source": [
    "del mytuple     # deleting entire tuple object is possible"
   ]
  },
  {
   "cell_type": "markdown",
   "metadata": {},
   "source": [
    "#### Loop through tuple"
   ]
  },
  {
   "cell_type": "code",
   "execution_count": 193,
   "metadata": {},
   "outputs": [
    {
     "data": {
      "text/plain": [
       "('one', 'two', 'three', 'four', 'five', 'six', 'seven', 'eight')"
      ]
     },
     "execution_count": 193,
     "metadata": {},
     "output_type": "execute_result"
    }
   ],
   "source": [
    "mytuple"
   ]
  },
  {
   "cell_type": "code",
   "execution_count": 198,
   "metadata": {},
   "outputs": [
    {
     "name": "stdout",
     "output_type": "stream",
     "text": [
      "one\n",
      "two\n",
      "three\n",
      "four\n",
      "five\n",
      "six\n",
      "seven\n",
      "eight\n"
     ]
    }
   ],
   "source": [
    "for i in mytuple:\n",
    "    print(i)"
   ]
  },
  {
   "cell_type": "code",
   "execution_count": 199,
   "metadata": {},
   "outputs": [
    {
     "name": "stdout",
     "output_type": "stream",
     "text": [
      "(0, 'one')\n",
      "(1, 'two')\n",
      "(2, 'three')\n",
      "(3, 'four')\n",
      "(4, 'five')\n",
      "(5, 'six')\n",
      "(6, 'seven')\n",
      "(7, 'eight')\n"
     ]
    }
   ],
   "source": [
    "for i in enumerate(mytuple):\n",
    "    print(i)"
   ]
  },
  {
   "cell_type": "markdown",
   "metadata": {},
   "source": [
    "#### Concatination in tuple"
   ]
  },
  {
   "cell_type": "code",
   "execution_count": 194,
   "metadata": {},
   "outputs": [
    {
     "name": "stdout",
     "output_type": "stream",
     "text": [
      "(0, 1, 2, 3, 'python', 'geek')\n"
     ]
    }
   ],
   "source": [
    "# Code for concatenating 2 tuples\n",
    "tuple1 = (0, 1, 2, 3)\n",
    "tuple2 = ('python', 'geek')\n",
    "\n",
    "# Concatenating above two\n",
    "print(tuple1 + tuple2)"
   ]
  },
  {
   "cell_type": "markdown",
   "metadata": {},
   "source": [
    "#### Nesting in tuple"
   ]
  },
  {
   "cell_type": "code",
   "execution_count": 195,
   "metadata": {},
   "outputs": [
    {
     "name": "stdout",
     "output_type": "stream",
     "text": [
      "((0, 1, 2, 3), ('python', 'geek'))\n"
     ]
    }
   ],
   "source": [
    "# Code for creating nested tuples\n",
    "tuple1 = (0, 1, 2, 3)\n",
    "tuple2 = ('python', 'geek')\n",
    "\n",
    "tuple3 = (tuple1, tuple2)\n",
    "print(tuple3)"
   ]
  },
  {
   "cell_type": "markdown",
   "metadata": {},
   "source": [
    "#### Repetition of tuple"
   ]
  },
  {
   "cell_type": "code",
   "execution_count": 196,
   "metadata": {},
   "outputs": [
    {
     "name": "stdout",
     "output_type": "stream",
     "text": [
      "('python', 'python', 'python')\n"
     ]
    }
   ],
   "source": [
    "# Code to create a tuple with repetition\n",
    "tuple3 = ('python',)*3\n",
    "print(tuple3)"
   ]
  },
  {
   "cell_type": "markdown",
   "metadata": {},
   "source": [
    "#### Converting a list to tuple"
   ]
  },
  {
   "cell_type": "code",
   "execution_count": 197,
   "metadata": {},
   "outputs": [
    {
     "name": "stdout",
     "output_type": "stream",
     "text": [
      "(0, 1, 2)\n",
      "('p', 'y', 't', 'h', 'o', 'n')\n"
     ]
    }
   ],
   "source": [
    "# Code for converting a list and a string into a tuple\n",
    "list1 = [0, 1, 2]\n",
    "\n",
    "print(tuple(list1))\n",
    "\n",
    "# string 'python'\n",
    "print(tuple('python'))"
   ]
  },
  {
   "cell_type": "markdown",
   "metadata": {},
   "source": [
    "#### Count in tuple"
   ]
  },
  {
   "cell_type": "code",
   "execution_count": 201,
   "metadata": {},
   "outputs": [
    {
     "data": {
      "text/plain": [
       "3"
      ]
     },
     "execution_count": 201,
     "metadata": {},
     "output_type": "execute_result"
    }
   ],
   "source": [
    "mytuple = ('one', 'two', 'three', 'two', 'five', 'six', 'two', 'eight')\n",
    "mytuple.count('two')"
   ]
  },
  {
   "cell_type": "markdown",
   "metadata": {},
   "source": [
    "#### Tuple membership"
   ]
  },
  {
   "cell_type": "code",
   "execution_count": 202,
   "metadata": {},
   "outputs": [
    {
     "data": {
      "text/plain": [
       "('one', 'two', 'three', 'two', 'five', 'six', 'two', 'eight')"
      ]
     },
     "execution_count": 202,
     "metadata": {},
     "output_type": "execute_result"
    }
   ],
   "source": [
    "mytuple"
   ]
  },
  {
   "cell_type": "code",
   "execution_count": 203,
   "metadata": {},
   "outputs": [
    {
     "data": {
      "text/plain": [
       "True"
      ]
     },
     "execution_count": 203,
     "metadata": {},
     "output_type": "execute_result"
    }
   ],
   "source": [
    "'one' in mytuple"
   ]
  },
  {
   "cell_type": "code",
   "execution_count": 204,
   "metadata": {},
   "outputs": [
    {
     "data": {
      "text/plain": [
       "False"
      ]
     },
     "execution_count": 204,
     "metadata": {},
     "output_type": "execute_result"
    }
   ],
   "source": [
    "'four' in mytuple"
   ]
  },
  {
   "cell_type": "markdown",
   "metadata": {},
   "source": [
    "#### Index position"
   ]
  },
  {
   "cell_type": "code",
   "execution_count": 205,
   "metadata": {},
   "outputs": [
    {
     "data": {
      "text/plain": [
       "0"
      ]
     },
     "execution_count": 205,
     "metadata": {},
     "output_type": "execute_result"
    }
   ],
   "source": [
    "mytuple.index('one')"
   ]
  },
  {
   "cell_type": "code",
   "execution_count": 208,
   "metadata": {},
   "outputs": [
    {
     "name": "stdout",
     "output_type": "stream",
     "text": [
      "('one', 'two', 'three', 'two', 'five', 'six', 'two', 'eight')\n"
     ]
    },
    {
     "data": {
      "text/plain": [
       "1"
      ]
     },
     "execution_count": 208,
     "metadata": {},
     "output_type": "execute_result"
    }
   ],
   "source": [
    "print(mytuple)\n",
    "mytuple.index('two')    # two is in multiple location but index method will return the first index of the value found in tuple"
   ]
  },
  {
   "cell_type": "markdown",
   "metadata": {},
   "source": [
    "#### Sorting"
   ]
  },
  {
   "cell_type": "code",
   "execution_count": 209,
   "metadata": {},
   "outputs": [
    {
     "data": {
      "text/plain": [
       "('one', 'two', 'three', 'two', 'five', 'six', 'two', 'eight')"
      ]
     },
     "execution_count": 209,
     "metadata": {},
     "output_type": "execute_result"
    }
   ],
   "source": [
    "mytuple"
   ]
  },
  {
   "cell_type": "code",
   "execution_count": 210,
   "metadata": {},
   "outputs": [
    {
     "data": {
      "text/plain": [
       "['eight', 'five', 'one', 'six', 'three', 'two', 'two', 'two']"
      ]
     },
     "execution_count": 210,
     "metadata": {},
     "output_type": "execute_result"
    }
   ],
   "source": [
    "sorted(mytuple)     # tuple has only sorted method to sort the values"
   ]
  },
  {
   "cell_type": "markdown",
   "metadata": {},
   "source": [
    "### Sets\n",
    "\n",
    "1) Unordered & Unindexed collection of items.\n",
    "2) Set elements are `unique`. Duplicate elements are not allowed.\n",
    "3) Set elements are immutable (cannot be changed).\n",
    "4) Set itself is mutable. We can add or remove items from it."
   ]
  },
  {
   "cell_type": "markdown",
   "metadata": {},
   "source": [
    "#### Set creation"
   ]
  },
  {
   "cell_type": "markdown",
   "metadata": {},
   "source": [
    "A set is an unordered collection of items where every element is unique and must be immutable, but set is mutable. You cannot access an element of set using indexing or slicing, but you can update the set.\n",
    "\n",
    "Some important functions in Set in Python:\n",
    "- add(): Adds an element to the set.\n",
    "- clear(): Removes all elements from the set\n",
    "- discard(): Removes an element from the set if present.\n",
    "- remove(): Removes an element from the set. If the element is not present, it raises error.\n",
    "- pop(): Removes and returns an arbitary set element. Raise error if the set is empty.\n",
    "- union(): Returns the union of sets in a new set\n",
    "- update(): Updates the set with the union of itself and others\n",
    "- len(): Return the length of set.\n",
    "- sorted(): Return a new sorted list from elements in the set.\n",
    "- sum(): Return the sum of all elements in the set.\n",
    "\n",
    "Let's implement these methods through a question. Given Q queries to do some operation on Set, the task is to perform all the queries in the Set as given below:\n",
    "a. i element: Adds element to the set.\n",
    "b. r element: Remove element from set.\n",
    "c. s: Find sum of elements in set. Returns the sum of elements in Set."
   ]
  },
  {
   "cell_type": "code",
   "execution_count": 211,
   "metadata": {},
   "outputs": [
    {
     "data": {
      "text/plain": [
       "{1, 2, 3, 5}"
      ]
     },
     "execution_count": 211,
     "metadata": {},
     "output_type": "execute_result"
    }
   ],
   "source": [
    "myset = {1,2,3,5}\n",
    "myset"
   ]
  },
  {
   "cell_type": "code",
   "execution_count": 212,
   "metadata": {},
   "outputs": [
    {
     "data": {
      "text/plain": [
       "4"
      ]
     },
     "execution_count": 212,
     "metadata": {},
     "output_type": "execute_result"
    }
   ],
   "source": [
    "len(myset)"
   ]
  },
  {
   "cell_type": "code",
   "execution_count": 213,
   "metadata": {},
   "outputs": [
    {
     "data": {
      "text/plain": [
       "{1, 2, 3, 4, 5, 6, 7, 8}"
      ]
     },
     "execution_count": 213,
     "metadata": {},
     "output_type": "execute_result"
    }
   ],
   "source": [
    "myset = {1,2,3,5, 3,4, 6, 7, 2, 8, 1, 1, 1, 8}  # look what happens to repeated items, duplicates are not allowed\n",
    "myset"
   ]
  },
  {
   "cell_type": "code",
   "execution_count": 214,
   "metadata": {},
   "outputs": [
    {
     "data": {
      "text/plain": [
       "{1.79, 2.08, 3.99, 4.56, 5.45}"
      ]
     },
     "execution_count": 214,
     "metadata": {},
     "output_type": "execute_result"
    }
   ],
   "source": [
    "myset_float = {1.79,2.08,3.99,4.56,5.45}    # set of float\n",
    "myset_float"
   ]
  },
  {
   "cell_type": "code",
   "execution_count": 215,
   "metadata": {},
   "outputs": [
    {
     "data": {
      "text/plain": [
       "{'def', 'four', 'one', 'three', 'two'}"
      ]
     },
     "execution_count": 215,
     "metadata": {},
     "output_type": "execute_result"
    }
   ],
   "source": [
    "myset_string = {'one', 'two', 'three', 'four', 'def'}    # set of string\n",
    "myset_string"
   ]
  },
  {
   "cell_type": "code",
   "execution_count": 220,
   "metadata": {},
   "outputs": [
    {
     "name": "stdout",
     "output_type": "stream",
     "text": [
      "<class 'set'>\n"
     ]
    }
   ],
   "source": [
    "myset = set()\n",
    "print(type(myset))\n"
   ]
  },
  {
   "cell_type": "markdown",
   "metadata": {},
   "source": [
    "#### Set with mutable items like list"
   ]
  },
  {
   "cell_type": "code",
   "execution_count": 217,
   "metadata": {},
   "outputs": [
    {
     "data": {
      "text/plain": [
       "{(1, 2, 4), 10, 30.4, 'one'}"
      ]
     },
     "execution_count": 217,
     "metadata": {},
     "output_type": "execute_result"
    }
   ],
   "source": [
    "myset = {10, 'one', 30.4, (1,2,4)}\n",
    "myset"
   ]
  },
  {
   "cell_type": "code",
   "execution_count": 218,
   "metadata": {},
   "outputs": [
    {
     "ename": "TypeError",
     "evalue": "unhashable type: 'list'",
     "output_type": "error",
     "traceback": [
      "\u001b[1;31m---------------------------------------------------------------------------\u001b[0m",
      "\u001b[1;31mTypeError\u001b[0m                                 Traceback (most recent call last)",
      "Cell \u001b[1;32mIn[218], line 1\u001b[0m\n\u001b[1;32m----> 1\u001b[0m myset \u001b[38;5;241m=\u001b[39m {\u001b[38;5;241m10\u001b[39m, \u001b[38;5;124m'\u001b[39m\u001b[38;5;124mone\u001b[39m\u001b[38;5;124m'\u001b[39m, \u001b[38;5;241m30.4\u001b[39m, (\u001b[38;5;241m1\u001b[39m,\u001b[38;5;241m2\u001b[39m,\u001b[38;5;241m4\u001b[39m), [\u001b[38;5;241m1\u001b[39m,\u001b[38;5;241m2\u001b[39m,\u001b[38;5;241m3\u001b[39m,\u001b[38;5;241m4\u001b[39m]}\n\u001b[0;32m      2\u001b[0m myset\n",
      "\u001b[1;31mTypeError\u001b[0m: unhashable type: 'list'"
     ]
    }
   ],
   "source": [
    "myset = {10, 'one', 30.4, (1,2,4), [1,2,3,4]}   # set doesn't allow immutable items like list\n",
    "myset"
   ]
  },
  {
   "cell_type": "markdown",
   "metadata": {},
   "source": [
    "#### Loop through a set"
   ]
  },
  {
   "cell_type": "code",
   "execution_count": 221,
   "metadata": {},
   "outputs": [
    {
     "name": "stdout",
     "output_type": "stream",
     "text": [
      "two\n",
      "threefour\n",
      "one\n",
      "five\n"
     ]
    }
   ],
   "source": [
    "myset = {'one', 'two', 'three' 'four', 'five'}\n",
    "for i in myset:\n",
    "    print(i)"
   ]
  },
  {
   "cell_type": "code",
   "execution_count": 222,
   "metadata": {},
   "outputs": [
    {
     "name": "stdout",
     "output_type": "stream",
     "text": [
      "(0, 'two')\n",
      "(1, 'threefour')\n",
      "(2, 'one')\n",
      "(3, 'five')\n"
     ]
    }
   ],
   "source": [
    "for i in enumerate(myset):\n",
    "    print(i)"
   ]
  },
  {
   "cell_type": "markdown",
   "metadata": {},
   "source": [
    "#### Set membership"
   ]
  },
  {
   "cell_type": "code",
   "execution_count": 223,
   "metadata": {},
   "outputs": [
    {
     "data": {
      "text/plain": [
       "{'five', 'one', 'threefour', 'two'}"
      ]
     },
     "execution_count": 223,
     "metadata": {},
     "output_type": "execute_result"
    }
   ],
   "source": [
    "myset"
   ]
  },
  {
   "cell_type": "code",
   "execution_count": 224,
   "metadata": {},
   "outputs": [
    {
     "data": {
      "text/plain": [
       "True"
      ]
     },
     "execution_count": 224,
     "metadata": {},
     "output_type": "execute_result"
    }
   ],
   "source": [
    "'one' in myset"
   ]
  },
  {
   "cell_type": "code",
   "execution_count": 225,
   "metadata": {},
   "outputs": [
    {
     "data": {
      "text/plain": [
       "False"
      ]
     },
     "execution_count": 225,
     "metadata": {},
     "output_type": "execute_result"
    }
   ],
   "source": [
    "'four' in myset"
   ]
  },
  {
   "cell_type": "markdown",
   "metadata": {},
   "source": [
    "#### Add or remove items"
   ]
  },
  {
   "cell_type": "code",
   "execution_count": 226,
   "metadata": {},
   "outputs": [
    {
     "data": {
      "text/plain": [
       "{'five', 'one', 'threefour', 'two'}"
      ]
     },
     "execution_count": 226,
     "metadata": {},
     "output_type": "execute_result"
    }
   ],
   "source": [
    "myset"
   ]
  },
  {
   "cell_type": "code",
   "execution_count": 228,
   "metadata": {},
   "outputs": [
    {
     "data": {
      "text/plain": [
       "{'NINE', 'five', 'one', 'threefour', 'two'}"
      ]
     },
     "execution_count": 228,
     "metadata": {},
     "output_type": "execute_result"
    }
   ],
   "source": [
    "myset.add('NINE')\n",
    "myset"
   ]
  },
  {
   "cell_type": "code",
   "execution_count": 229,
   "metadata": {},
   "outputs": [
    {
     "data": {
      "text/plain": [
       "{'ELEVEN', 'NINE', 'TEN', 'TWELVE', 'five', 'one', 'threefour', 'two'}"
      ]
     },
     "execution_count": 229,
     "metadata": {},
     "output_type": "execute_result"
    }
   ],
   "source": [
    "myset.update(['TEN','ELEVEN','TWELVE'])\n",
    "myset"
   ]
  },
  {
   "cell_type": "code",
   "execution_count": 230,
   "metadata": {},
   "outputs": [
    {
     "data": {
      "text/plain": [
       "{'ELEVEN', 'TEN', 'TWELVE', 'five', 'one', 'threefour', 'two'}"
      ]
     },
     "execution_count": 230,
     "metadata": {},
     "output_type": "execute_result"
    }
   ],
   "source": [
    "myset.remove('NINE')\n",
    "myset"
   ]
  },
  {
   "cell_type": "code",
   "execution_count": 231,
   "metadata": {},
   "outputs": [
    {
     "data": {
      "text/plain": [
       "{'ELEVEN', 'TWELVE', 'five', 'one', 'threefour', 'two'}"
      ]
     },
     "execution_count": 231,
     "metadata": {},
     "output_type": "execute_result"
    }
   ],
   "source": [
    "myset.discard('TEN')\n",
    "myset"
   ]
  },
  {
   "cell_type": "code",
   "execution_count": 233,
   "metadata": {},
   "outputs": [
    {
     "data": {
      "text/plain": [
       "set()"
      ]
     },
     "execution_count": 233,
     "metadata": {},
     "output_type": "execute_result"
    }
   ],
   "source": [
    "myset.clear()    # will remove all items, or make empty set\n",
    "myset"
   ]
  },
  {
   "cell_type": "code",
   "execution_count": 234,
   "metadata": {},
   "outputs": [
    {
     "ename": "NameError",
     "evalue": "name 'myset' is not defined",
     "output_type": "error",
     "traceback": [
      "\u001b[1;31m---------------------------------------------------------------------------\u001b[0m",
      "\u001b[1;31mNameError\u001b[0m                                 Traceback (most recent call last)",
      "Cell \u001b[1;32mIn[234], line 2\u001b[0m\n\u001b[0;32m      1\u001b[0m \u001b[38;5;28;01mdel\u001b[39;00m myset\n\u001b[1;32m----> 2\u001b[0m \u001b[43mmyset\u001b[49m\n",
      "\u001b[1;31mNameError\u001b[0m: name 'myset' is not defined"
     ]
    }
   ],
   "source": [
    "del myset   # delete the set object\n",
    "myset"
   ]
  },
  {
   "cell_type": "markdown",
   "metadata": {},
   "source": [
    "#### Copy set"
   ]
  },
  {
   "cell_type": "code",
   "execution_count": 235,
   "metadata": {},
   "outputs": [
    {
     "data": {
      "text/plain": [
       "{'five', 'four', 'one', 'six', 'three', 'two'}"
      ]
     },
     "execution_count": 235,
     "metadata": {},
     "output_type": "execute_result"
    }
   ],
   "source": [
    "myset = {'one', 'two', 'three', 'four', 'five', 'six'}\n",
    "myset"
   ]
  },
  {
   "cell_type": "code",
   "execution_count": 236,
   "metadata": {},
   "outputs": [
    {
     "data": {
      "text/plain": [
       "{'five', 'four', 'one', 'six', 'three', 'two'}"
      ]
     },
     "execution_count": 236,
     "metadata": {},
     "output_type": "execute_result"
    }
   ],
   "source": [
    "myset1 = myset\n",
    "myset1"
   ]
  },
  {
   "cell_type": "code",
   "execution_count": 237,
   "metadata": {},
   "outputs": [
    {
     "data": {
      "text/plain": [
       "(2164282141024, 2164282141024)"
      ]
     },
     "execution_count": 237,
     "metadata": {},
     "output_type": "execute_result"
    }
   ],
   "source": [
    "id(myset1), id(myset)       # will show you that it is not copied, it is only refering to same object"
   ]
  },
  {
   "cell_type": "code",
   "execution_count": 239,
   "metadata": {},
   "outputs": [
    {
     "data": {
      "text/plain": [
       "{'five', 'four', 'one', 'six', 'three', 'two'}"
      ]
     },
     "execution_count": 239,
     "metadata": {},
     "output_type": "execute_result"
    }
   ],
   "source": [
    "myset1 = myset.copy()\n",
    "myset1"
   ]
  },
  {
   "cell_type": "code",
   "execution_count": 240,
   "metadata": {},
   "outputs": [
    {
     "data": {
      "text/plain": [
       "(2164282141696, 2164282141024)"
      ]
     },
     "execution_count": 240,
     "metadata": {},
     "output_type": "execute_result"
    }
   ],
   "source": [
    "id(myset1), id(myset)"
   ]
  },
  {
   "cell_type": "code",
   "execution_count": 241,
   "metadata": {},
   "outputs": [
    {
     "name": "stdout",
     "output_type": "stream",
     "text": [
      "myset1: {'three', 'nine', 'six', 'four', 'two', 'one', 'five'}\n",
      "myset: {'three', 'six', 'four', 'two', 'one', 'five'}\n"
     ]
    }
   ],
   "source": [
    "myset1.add('nine')\n",
    "print(f\"myset1: {myset1}\")\n",
    "print(f\"myset: {myset}\")"
   ]
  },
  {
   "cell_type": "markdown",
   "metadata": {},
   "source": [
    "#### Set operations\n",
    "\n",
    "1. `Union`\n",
    "2. `Intersection`\n",
    "3. `Difference`\n",
    "4. `Symmetric Difference`\n",
    "5. `Subset, Superset, Disjoint`"
   ]
  },
  {
   "cell_type": "code",
   "execution_count": 242,
   "metadata": {},
   "outputs": [],
   "source": [
    "A = {1,2,3,4,5}\n",
    "B = {4,5,6,7,8}\n",
    "C = {8,9,10}"
   ]
  },
  {
   "cell_type": "code",
   "execution_count": 243,
   "metadata": {},
   "outputs": [
    {
     "data": {
      "text/plain": [
       "{1, 2, 3, 4, 5, 6, 7, 8}"
      ]
     },
     "execution_count": 243,
     "metadata": {},
     "output_type": "execute_result"
    }
   ],
   "source": [
    "A|B      # Union of A and B (All elements from both sets. NO DUPLICATES)"
   ]
  },
  {
   "cell_type": "code",
   "execution_count": 244,
   "metadata": {},
   "outputs": [
    {
     "data": {
      "text/plain": [
       "{1, 2, 3, 4, 5, 6, 7, 8}"
      ]
     },
     "execution_count": 244,
     "metadata": {},
     "output_type": "execute_result"
    }
   ],
   "source": [
    "A.union(B)  # Union of A and B (All elements from both sets. NO DUPLICATES)"
   ]
  },
  {
   "cell_type": "code",
   "execution_count": 245,
   "metadata": {},
   "outputs": [
    {
     "data": {
      "text/plain": [
       "{1, 2, 3, 4, 5, 6, 7, 8, 9, 10}"
      ]
     },
     "execution_count": 245,
     "metadata": {},
     "output_type": "execute_result"
    }
   ],
   "source": [
    "A.union(B,C)    # Union of A, B and C (All elements from both sets. NO DUPLICATES)"
   ]
  },
  {
   "cell_type": "code",
   "execution_count": 246,
   "metadata": {},
   "outputs": [
    {
     "data": {
      "text/plain": [
       "{1, 2, 3, 4, 5, 6, 7, 8, 9, 10}"
      ]
     },
     "execution_count": 246,
     "metadata": {},
     "output_type": "execute_result"
    }
   ],
   "source": [
    "\"\"\"\n",
    "Updates the set calling the update() method with union of A , B & C.\n",
    "For below example Set A will be updated with union of A,B & C.\n",
    "\"\"\"\n",
    "A.update(B,C)\n",
    "A"
   ]
  },
  {
   "cell_type": "code",
   "execution_count": 247,
   "metadata": {},
   "outputs": [],
   "source": [
    "# Intersection\n",
    "A = {1,2,3,4,5}\n",
    "B = {4,5,6,7,8}"
   ]
  },
  {
   "cell_type": "code",
   "execution_count": 248,
   "metadata": {},
   "outputs": [
    {
     "data": {
      "text/plain": [
       "{4, 5}"
      ]
     },
     "execution_count": 248,
     "metadata": {},
     "output_type": "execute_result"
    }
   ],
   "source": [
    "A & B       # Intersection of A and B (Common items in both sets)"
   ]
  },
  {
   "cell_type": "code",
   "execution_count": 249,
   "metadata": {},
   "outputs": [
    {
     "data": {
      "text/plain": [
       "{4, 5}"
      ]
     },
     "execution_count": 249,
     "metadata": {},
     "output_type": "execute_result"
    }
   ],
   "source": [
    "A.intersection(B)       #Intersection of A and B"
   ]
  },
  {
   "cell_type": "code",
   "execution_count": 250,
   "metadata": {},
   "outputs": [
    {
     "data": {
      "text/plain": [
       "{4, 5}"
      ]
     },
     "execution_count": 250,
     "metadata": {},
     "output_type": "execute_result"
    }
   ],
   "source": [
    "\"\"\"\n",
    "Updates the set calling the intersection_update() method with the intersection of\n",
    "For below example Set A will be updated with the intersection of A & B.\n",
    "\"\"\"\n",
    "A.intersection_update(B)\n",
    "A"
   ]
  },
  {
   "cell_type": "code",
   "execution_count": 252,
   "metadata": {},
   "outputs": [],
   "source": [
    "# Difference\n",
    "A = {1,2,3,4,5}\n",
    "B = {4,5,6,7,8}"
   ]
  },
  {
   "cell_type": "code",
   "execution_count": 253,
   "metadata": {},
   "outputs": [
    {
     "data": {
      "text/plain": [
       "{1, 2, 3}"
      ]
     },
     "execution_count": 253,
     "metadata": {},
     "output_type": "execute_result"
    }
   ],
   "source": [
    "A-B     # set of elements that are only in A but not in B"
   ]
  },
  {
   "cell_type": "code",
   "execution_count": 254,
   "metadata": {},
   "outputs": [
    {
     "data": {
      "text/plain": [
       "{1, 2, 3}"
      ]
     },
     "execution_count": 254,
     "metadata": {},
     "output_type": "execute_result"
    }
   ],
   "source": [
    "A.difference(B) # set of elements that are only in A but not in B"
   ]
  },
  {
   "cell_type": "code",
   "execution_count": 255,
   "metadata": {},
   "outputs": [
    {
     "data": {
      "text/plain": [
       "{6, 7, 8}"
      ]
     },
     "execution_count": 255,
     "metadata": {},
     "output_type": "execute_result"
    }
   ],
   "source": [
    "B - A   # set of elements that are only in B but not in A"
   ]
  },
  {
   "cell_type": "code",
   "execution_count": 256,
   "metadata": {},
   "outputs": [
    {
     "data": {
      "text/plain": [
       "{1, 2, 3}"
      ]
     },
     "execution_count": 256,
     "metadata": {},
     "output_type": "execute_result"
    }
   ],
   "source": [
    "\"\"\"\n",
    "Updates the set calling the difference_update() method with the difference of set\n",
    "For below example Set B will be updated with the difference of B & A.\n",
    "\"\"\"\n",
    "A.difference_update(B)\n",
    "A"
   ]
  },
  {
   "cell_type": "code",
   "execution_count": 257,
   "metadata": {},
   "outputs": [
    {
     "data": {
      "text/plain": [
       "{1, 2, 3, 4, 5, 6, 7, 8}"
      ]
     },
     "execution_count": 257,
     "metadata": {},
     "output_type": "execute_result"
    }
   ],
   "source": [
    "A ^ B   # Symmetric difference (Set of elements in A and B but not in both. \"EXCLUDE Common\")"
   ]
  },
  {
   "cell_type": "code",
   "execution_count": 258,
   "metadata": {},
   "outputs": [
    {
     "data": {
      "text/plain": [
       "{1, 2, 3, 4, 5, 6, 7, 8}"
      ]
     },
     "execution_count": 258,
     "metadata": {},
     "output_type": "execute_result"
    }
   ],
   "source": [
    "A.symmetric_difference(B)"
   ]
  },
  {
   "cell_type": "code",
   "execution_count": 261,
   "metadata": {},
   "outputs": [
    {
     "data": {
      "text/plain": [
       "{1, 2, 3, 4, 5, 6, 7, 8}"
      ]
     },
     "execution_count": 261,
     "metadata": {},
     "output_type": "execute_result"
    }
   ],
   "source": [
    "A.symmetric_difference_update(B)\n",
    "A"
   ]
  },
  {
   "cell_type": "code",
   "execution_count": 262,
   "metadata": {},
   "outputs": [
    {
     "data": {
      "text/plain": [
       "True"
      ]
     },
     "execution_count": 262,
     "metadata": {},
     "output_type": "execute_result"
    }
   ],
   "source": [
    "# Subset\n",
    "B.issubset(A)"
   ]
  },
  {
   "cell_type": "code",
   "execution_count": 264,
   "metadata": {},
   "outputs": [
    {
     "data": {
      "text/plain": [
       "True"
      ]
     },
     "execution_count": 264,
     "metadata": {},
     "output_type": "execute_result"
    }
   ],
   "source": [
    "# Superset\n",
    "A.issuperset(B)"
   ]
  },
  {
   "cell_type": "code",
   "execution_count": 265,
   "metadata": {},
   "outputs": [
    {
     "data": {
      "text/plain": [
       "False"
      ]
     },
     "execution_count": 265,
     "metadata": {},
     "output_type": "execute_result"
    }
   ],
   "source": [
    "# Disjoint\n",
    "C.isdisjoint(A) # if they have no common element then True"
   ]
  },
  {
   "cell_type": "markdown",
   "metadata": {},
   "source": [
    "#### Built-in functions for set"
   ]
  },
  {
   "cell_type": "code",
   "execution_count": 266,
   "metadata": {},
   "outputs": [
    {
     "data": {
      "text/plain": [
       "{1, 2, 3, 4, 5, 6, 7, 8}"
      ]
     },
     "execution_count": 266,
     "metadata": {},
     "output_type": "execute_result"
    }
   ],
   "source": [
    "A"
   ]
  },
  {
   "cell_type": "code",
   "execution_count": 267,
   "metadata": {},
   "outputs": [
    {
     "data": {
      "text/plain": [
       "36"
      ]
     },
     "execution_count": 267,
     "metadata": {},
     "output_type": "execute_result"
    }
   ],
   "source": [
    "sum(A)"
   ]
  },
  {
   "cell_type": "code",
   "execution_count": 268,
   "metadata": {},
   "outputs": [
    {
     "data": {
      "text/plain": [
       "1"
      ]
     },
     "execution_count": 268,
     "metadata": {},
     "output_type": "execute_result"
    }
   ],
   "source": [
    "min(A)"
   ]
  },
  {
   "cell_type": "code",
   "execution_count": 269,
   "metadata": {},
   "outputs": [
    {
     "data": {
      "text/plain": [
       "8"
      ]
     },
     "execution_count": 269,
     "metadata": {},
     "output_type": "execute_result"
    }
   ],
   "source": [
    "max(A)"
   ]
  },
  {
   "cell_type": "code",
   "execution_count": 270,
   "metadata": {},
   "outputs": [
    {
     "data": {
      "text/plain": [
       "8"
      ]
     },
     "execution_count": 270,
     "metadata": {},
     "output_type": "execute_result"
    }
   ],
   "source": [
    "len(A)"
   ]
  },
  {
   "cell_type": "code",
   "execution_count": 271,
   "metadata": {},
   "outputs": [
    {
     "ename": "TypeError",
     "evalue": "'list' object is not callable",
     "output_type": "error",
     "traceback": [
      "\u001b[1;31m---------------------------------------------------------------------------\u001b[0m",
      "\u001b[1;31mTypeError\u001b[0m                                 Traceback (most recent call last)",
      "Cell \u001b[1;32mIn[271], line 1\u001b[0m\n\u001b[1;32m----> 1\u001b[0m \u001b[38;5;28;43mlist\u001b[39;49m\u001b[43m(\u001b[49m\u001b[38;5;28;43menumerate\u001b[39;49m\u001b[43m(\u001b[49m\u001b[43mA\u001b[49m\u001b[43m)\u001b[49m\u001b[43m)\u001b[49m\n",
      "\u001b[1;31mTypeError\u001b[0m: 'list' object is not callable"
     ]
    }
   ],
   "source": [
    "list(enumerate(A))"
   ]
  },
  {
   "cell_type": "code",
   "execution_count": 272,
   "metadata": {},
   "outputs": [
    {
     "data": {
      "text/plain": [
       "[8, 7, 6, 5, 4, 3, 2, 1]"
      ]
     },
     "execution_count": 272,
     "metadata": {},
     "output_type": "execute_result"
    }
   ],
   "source": [
    "D = sorted(A, reverse=True)\n",
    "D"
   ]
  },
  {
   "cell_type": "code",
   "execution_count": 273,
   "metadata": {},
   "outputs": [
    {
     "data": {
      "text/plain": [
       "[1, 2, 3, 4, 5, 6, 7, 8]"
      ]
     },
     "execution_count": 273,
     "metadata": {},
     "output_type": "execute_result"
    }
   ],
   "source": [
    "sorted(D)"
   ]
  },
  {
   "cell_type": "markdown",
   "metadata": {},
   "source": [
    "### Dictionary\n",
    "\n",
    "1. Dictionary is a mutable data type in Python.\n",
    "2. A python dictionary is a collection of key and value pairs separated by a colon (:) & enclosedin curly braces {}.\n",
    "3. `Keys` must be unique in a dictionary, duplicate values are allowed."
   ]
  },
  {
   "cell_type": "markdown",
   "metadata": {},
   "source": [
    "#### Create dictionary"
   ]
  },
  {
   "cell_type": "code",
   "execution_count": 274,
   "metadata": {},
   "outputs": [
    {
     "name": "stdout",
     "output_type": "stream",
     "text": [
      "<class 'dict'>\n"
     ]
    }
   ],
   "source": [
    "mydict = dict()\n",
    "print(type(mydict))"
   ]
  },
  {
   "cell_type": "code",
   "execution_count": 275,
   "metadata": {},
   "outputs": [
    {
     "name": "stdout",
     "output_type": "stream",
     "text": [
      "<class 'dict'>\n"
     ]
    }
   ],
   "source": [
    "mydict = {}\n",
    "print(type(mydict))"
   ]
  },
  {
   "cell_type": "code",
   "execution_count": 276,
   "metadata": {},
   "outputs": [
    {
     "data": {
      "text/plain": [
       "{1: 'one', 2: 'two', 3: 'three'}"
      ]
     },
     "execution_count": 276,
     "metadata": {},
     "output_type": "execute_result"
    }
   ],
   "source": [
    "mydict = {1:'one', 2:'two', 3:'three'}\n",
    "mydict"
   ]
  },
  {
   "cell_type": "code",
   "execution_count": 277,
   "metadata": {},
   "outputs": [
    {
     "data": {
      "text/plain": [
       "dict_keys([1, 2, 3])"
      ]
     },
     "execution_count": 277,
     "metadata": {},
     "output_type": "execute_result"
    }
   ],
   "source": [
    "mydict.keys()"
   ]
  },
  {
   "cell_type": "code",
   "execution_count": 278,
   "metadata": {},
   "outputs": [
    {
     "data": {
      "text/plain": [
       "dict_values(['one', 'two', 'three'])"
      ]
     },
     "execution_count": 278,
     "metadata": {},
     "output_type": "execute_result"
    }
   ],
   "source": [
    "mydict.values()"
   ]
  },
  {
   "cell_type": "code",
   "execution_count": 279,
   "metadata": {},
   "outputs": [
    {
     "data": {
      "text/plain": [
       "dict_items([(1, 'one'), (2, 'two'), (3, 'three')])"
      ]
     },
     "execution_count": 279,
     "metadata": {},
     "output_type": "execute_result"
    }
   ],
   "source": [
    "mydict.items()"
   ]
  },
  {
   "cell_type": "code",
   "execution_count": 280,
   "metadata": {},
   "outputs": [
    {
     "data": {
      "text/plain": [
       "{1: 'one',\n",
       " 2: 'two',\n",
       " 3: 'three',\n",
       " 4: ['apple', 'banana', 'oranges'],\n",
       " 5: ('train', 'bus'),\n",
       " 6: {'set1', 'set2'},\n",
       " 7: {'A': 'apple'}}"
      ]
     },
     "execution_count": 280,
     "metadata": {},
     "output_type": "execute_result"
    }
   ],
   "source": [
    "mydict = {1:'one', 2:'two', 3:'three', 4:['apple', 'banana', 'oranges'], 5:('train', 'bus'), 6: {'set1', 'set2'}, 7: {'A': 'apple'}}\n",
    "mydict"
   ]
  },
  {
   "cell_type": "code",
   "execution_count": 281,
   "metadata": {},
   "outputs": [
    {
     "data": {
      "text/plain": [
       "{'d': None, 'a': None, 'b': None, 'c': None}"
      ]
     },
     "execution_count": 281,
     "metadata": {},
     "output_type": "execute_result"
    }
   ],
   "source": [
    "some_set = {'a', 'b', 'c', 'd'}\n",
    "mydict2 = dict.fromkeys(some_set)   # Create a dictionary from a sequence of keys\n",
    "mydict2"
   ]
  },
  {
   "cell_type": "code",
   "execution_count": 282,
   "metadata": {},
   "outputs": [
    {
     "data": {
      "text/plain": [
       "{'d': 10, 'a': 10, 'b': 10, 'c': 10}"
      ]
     },
     "execution_count": 282,
     "metadata": {},
     "output_type": "execute_result"
    }
   ],
   "source": [
    "some_set = {'a', 'b', 'c', 'd'}\n",
    "val = 10\n",
    "mydict2 = dict.fromkeys(some_set, val)   # Create a dictionary from a sequence of keys with value of 10\n",
    "mydict2"
   ]
  },
  {
   "cell_type": "code",
   "execution_count": 283,
   "metadata": {},
   "outputs": [
    {
     "data": {
      "text/plain": [
       "{'d': {10, 20, 30, 40},\n",
       " 'a': {10, 20, 30, 40},\n",
       " 'b': {10, 20, 30, 40},\n",
       " 'c': {10, 20, 30, 40}}"
      ]
     },
     "execution_count": 283,
     "metadata": {},
     "output_type": "execute_result"
    }
   ],
   "source": [
    "some_set_keys = {'a', 'b', 'c', 'd'}\n",
    "some_set_values = {10, 30, 20, 40}\n",
    "mydict2 = dict.fromkeys(some_set_keys, some_set_values)   # Create a dictionary from a sequence of keys\n",
    "mydict2"
   ]
  },
  {
   "cell_type": "code",
   "execution_count": 284,
   "metadata": {},
   "outputs": [
    {
     "data": {
      "text/plain": [
       "{'d': [10, 30, 20, 40],\n",
       " 'a': [10, 30, 20, 40],\n",
       " 'b': [10, 30, 20, 40],\n",
       " 'c': [10, 30, 20, 40]}"
      ]
     },
     "execution_count": 284,
     "metadata": {},
     "output_type": "execute_result"
    }
   ],
   "source": [
    "some_set_keys = {'a', 'b', 'c', 'd'}\n",
    "some_set_values = [10, 30, 20, 40]\n",
    "mydict2 = dict.fromkeys(some_set_keys, some_set_values)   # Create a dictionary from a sequence of keys\n",
    "mydict2"
   ]
  },
  {
   "cell_type": "markdown",
   "metadata": {},
   "source": [
    "#### Accesing Items"
   ]
  },
  {
   "cell_type": "code",
   "execution_count": 285,
   "metadata": {},
   "outputs": [
    {
     "data": {
      "text/plain": [
       "'one'"
      ]
     },
     "execution_count": 285,
     "metadata": {},
     "output_type": "execute_result"
    }
   ],
   "source": [
    "mydict = {1:'one', 2:'two', 3:'three', 4:'four'}\n",
    "mydict[1]"
   ]
  },
  {
   "cell_type": "code",
   "execution_count": 286,
   "metadata": {},
   "outputs": [
    {
     "data": {
      "text/plain": [
       "'one'"
      ]
     },
     "execution_count": 286,
     "metadata": {},
     "output_type": "execute_result"
    }
   ],
   "source": [
    "mydict.get(1)"
   ]
  },
  {
   "cell_type": "code",
   "execution_count": 287,
   "metadata": {},
   "outputs": [
    {
     "data": {
      "text/plain": [
       "'sorry the key, value pair is not available'"
      ]
     },
     "execution_count": 287,
     "metadata": {},
     "output_type": "execute_result"
    }
   ],
   "source": [
    "mydict.get(5, 'sorry the key, value pair is not available')"
   ]
  },
  {
   "cell_type": "code",
   "execution_count": 298,
   "metadata": {},
   "outputs": [
    {
     "name": "stdout",
     "output_type": "stream",
     "text": [
      "{1: 'Geeks'}\n",
      "Geeks\n",
      "For\n"
     ]
    }
   ],
   "source": [
    "# Accesing element from nested dictionary\n",
    "Dict = {'Dict1': {1: 'Geeks'},\n",
    "\t\t'Dict2': {'Name': 'For'}}\n",
    "\n",
    "print(Dict['Dict1'])\n",
    "print(Dict['Dict1'][1])\n",
    "print(Dict['Dict2']['Name'])"
   ]
  },
  {
   "cell_type": "code",
   "execution_count": 301,
   "metadata": {},
   "outputs": [
    {
     "name": "stdout",
     "output_type": "stream",
     "text": [
      "Dict key-value are : \n",
      "(0, ('Geeks', 1))\n",
      "(1, ('for', 2))\n",
      "(2, ('geeks', 3))\n"
     ]
    }
   ],
   "source": [
    "# initializing dictionary\n",
    "test_dict = {\"Geeks\": 1, \"for\": 2, \"geeks\": 3}\n",
    "\n",
    "# using enumerate() to get key and value\n",
    "print(\"Dict key-value are : \")\n",
    "for i in enumerate(test_dict.items()):\n",
    "\tprint(i)"
   ]
  },
  {
   "cell_type": "code",
   "execution_count": 302,
   "metadata": {},
   "outputs": [
    {
     "name": "stdout",
     "output_type": "stream",
     "text": [
      "Dict key-value are : \n",
      "[('Geeks', 1), ('for', 2), ('geeks', 3)]\n"
     ]
    }
   ],
   "source": [
    "# using list comprehension to\n",
    "# get key and value\n",
    "print(\"Dict key-value are : \")\n",
    "print([(k, test_dict[k]) for k in test_dict])"
   ]
  },
  {
   "cell_type": "code",
   "execution_count": 303,
   "metadata": {},
   "outputs": [
    {
     "name": "stdout",
     "output_type": "stream",
     "text": [
      "Dict key-value are : \n",
      "('Geeks', 1)\n",
      "('for', 2)\n",
      "('geeks', 3)\n"
     ]
    }
   ],
   "source": [
    "# Initializing an empty list\n",
    "key_value_pairs = []\n",
    "\n",
    "# Using a for loop to iterate over the items in the dictionary\n",
    "# and append each key-value pair to the list\n",
    "for key, value in test_dict.items():\n",
    "\tkey_value_pairs.append((key, value))\n",
    "\n",
    "# Printing the key-value pairs\n",
    "print(\"Dict key-value are : \")\n",
    "for pair in key_value_pairs:\n",
    "\tprint(pair)"
   ]
  },
  {
   "cell_type": "markdown",
   "metadata": {},
   "source": [
    "#### Add, Remove and Change items"
   ]
  },
  {
   "cell_type": "code",
   "execution_count": 288,
   "metadata": {},
   "outputs": [
    {
     "data": {
      "text/plain": [
       "{'Name': 'Joseph', 'ID': 456, 'DOB': 1998, 'Address': 'California'}"
      ]
     },
     "execution_count": 288,
     "metadata": {},
     "output_type": "execute_result"
    }
   ],
   "source": [
    "mydict = {'Name': 'Joseph', 'ID': 456, 'DOB':1998, 'Address':'California'}\n",
    "mydict"
   ]
  },
  {
   "cell_type": "code",
   "execution_count": 290,
   "metadata": {},
   "outputs": [
    {
     "data": {
      "text/plain": [
       "{'Name': 'Joseph', 'ID': 456, 'DOB': 1992, 'Address': 'Gotri'}"
      ]
     },
     "execution_count": 290,
     "metadata": {},
     "output_type": "execute_result"
    }
   ],
   "source": [
    "mydict['DOB'] = 1992\n",
    "mydict['Address'] = 'Gotri'\n",
    "mydict"
   ]
  },
  {
   "cell_type": "code",
   "execution_count": 291,
   "metadata": {},
   "outputs": [
    {
     "data": {
      "text/plain": [
       "{'Name': 'Joseph', 'ID': 456, 'DOB': 1995, 'Address': 'Gotri'}"
      ]
     },
     "execution_count": 291,
     "metadata": {},
     "output_type": "execute_result"
    }
   ],
   "source": [
    "somedict = {'DOB':1995}\n",
    "mydict.update(somedict)\n",
    "mydict"
   ]
  },
  {
   "cell_type": "code",
   "execution_count": 292,
   "metadata": {},
   "outputs": [
    {
     "data": {
      "text/plain": [
       "{'Name': 'Joseph',\n",
       " 'ID': 456,\n",
       " 'DOB': 1995,\n",
       " 'Address': 'Gotri',\n",
       " 'Job': 'Analyst'}"
      ]
     },
     "execution_count": 292,
     "metadata": {},
     "output_type": "execute_result"
    }
   ],
   "source": [
    "mydict['Job'] = 'Analyst'\n",
    "mydict"
   ]
  },
  {
   "cell_type": "code",
   "execution_count": 294,
   "metadata": {},
   "outputs": [
    {
     "data": {
      "text/plain": [
       "{'Name': 'Joseph', 'ID': 456, 'DOB': 1995, 'Address': 'Gotri'}"
      ]
     },
     "execution_count": 294,
     "metadata": {},
     "output_type": "execute_result"
    }
   ],
   "source": [
    "mydict.pop('Job')   # remove specific item\n",
    "mydict"
   ]
  },
  {
   "cell_type": "code",
   "execution_count": 295,
   "metadata": {},
   "outputs": [
    {
     "data": {
      "text/plain": [
       "{'Name': 'Joseph', 'ID': 456, 'DOB': 1995}"
      ]
     },
     "execution_count": 295,
     "metadata": {},
     "output_type": "execute_result"
    }
   ],
   "source": [
    "mydict.popitem()    # remove last item\n",
    "mydict"
   ]
  },
  {
   "cell_type": "code",
   "execution_count": 296,
   "metadata": {},
   "outputs": [
    {
     "data": {
      "text/plain": [
       "{}"
      ]
     },
     "execution_count": 296,
     "metadata": {},
     "output_type": "execute_result"
    }
   ],
   "source": [
    "mydict.clear()\n",
    "mydict"
   ]
  },
  {
   "cell_type": "code",
   "execution_count": 297,
   "metadata": {},
   "outputs": [
    {
     "ename": "NameError",
     "evalue": "name 'mydict' is not defined",
     "output_type": "error",
     "traceback": [
      "\u001b[1;31m---------------------------------------------------------------------------\u001b[0m",
      "\u001b[1;31mNameError\u001b[0m                                 Traceback (most recent call last)",
      "Cell \u001b[1;32mIn[297], line 2\u001b[0m\n\u001b[0;32m      1\u001b[0m \u001b[38;5;28;01mdel\u001b[39;00m mydict\n\u001b[1;32m----> 2\u001b[0m \u001b[43mmydict\u001b[49m\n",
      "\u001b[1;31mNameError\u001b[0m: name 'mydict' is not defined"
     ]
    }
   ],
   "source": [
    "del mydict\n",
    "mydict"
   ]
  },
  {
   "cell_type": "markdown",
   "metadata": {},
   "source": [
    "#### Copy Dictionary"
   ]
  },
  {
   "cell_type": "code",
   "execution_count": 305,
   "metadata": {},
   "outputs": [
    {
     "data": {
      "text/plain": [
       "{'key1': 'val1', 'key2': 'val2', 'key3': 'val3'}"
      ]
     },
     "execution_count": 305,
     "metadata": {},
     "output_type": "execute_result"
    }
   ],
   "source": [
    "mydict = {'key1':'val1','key2':'val2','key3':'val3'}\n",
    "mydict"
   ]
  },
  {
   "cell_type": "code",
   "execution_count": 306,
   "metadata": {},
   "outputs": [
    {
     "data": {
      "text/plain": [
       "{'key1': 'val1', 'key2': 'val2', 'key3': 'val3'}"
      ]
     },
     "execution_count": 306,
     "metadata": {},
     "output_type": "execute_result"
    }
   ],
   "source": [
    "mydict1 = mydict\n",
    "mydict1"
   ]
  },
  {
   "cell_type": "code",
   "execution_count": 307,
   "metadata": {},
   "outputs": [
    {
     "data": {
      "text/plain": [
       "(2164280409728, 2164280409728)"
      ]
     },
     "execution_count": 307,
     "metadata": {},
     "output_type": "execute_result"
    }
   ],
   "source": [
    "id(mydict), id(mydict1)"
   ]
  },
  {
   "cell_type": "code",
   "execution_count": 308,
   "metadata": {},
   "outputs": [
    {
     "data": {
      "text/plain": [
       "({'key1': 'val1', 'key2': 'val2', 'key3': 'val3'},\n",
       " 2164281261440,\n",
       " 2164280409728)"
      ]
     },
     "execution_count": 308,
     "metadata": {},
     "output_type": "execute_result"
    }
   ],
   "source": [
    "mydict1 = mydict.copy()\n",
    "mydict1, id(mydict1), id(mydict)\n"
   ]
  },
  {
   "cell_type": "markdown",
   "metadata": {},
   "source": [
    "#### Merge dictionaries"
   ]
  },
  {
   "cell_type": "code",
   "execution_count": 299,
   "metadata": {},
   "outputs": [
    {
     "name": "stdout",
     "output_type": "stream",
     "text": [
      "{0: 'Carrot', 1: 'Raddish', 2: 'Brinjal', 3: 'Potato'}\n"
     ]
    }
   ],
   "source": [
    "veg1 = {0: 'Carrot', 1: 'Raddish'}\n",
    "veg2 = {2: 'Brinjal', 3: 'Potato'}\n",
    "\n",
    "veg_dict = (veg1 | veg2)\n",
    "print(veg_dict)"
   ]
  },
  {
   "cell_type": "code",
   "execution_count": null,
   "metadata": {},
   "outputs": [],
   "source": [
    "# Add values to dictionary Using the in-place merge( |= ) operator.\n",
    "veg1 = {0:'Carrot', 1:'Raddish'}\n",
    "veg2 = {2:'Brinjal', 3:'Potato'}\n",
    "\n",
    "veg1 |= veg2\n",
    "print(veg1)"
   ]
  },
  {
   "cell_type": "markdown",
   "metadata": {},
   "source": [
    "#### Dictionary Membership"
   ]
  },
  {
   "cell_type": "code",
   "execution_count": 311,
   "metadata": {},
   "outputs": [
    {
     "data": {
      "text/plain": [
       "{'Name': 'Asia', 'ID': 12345, 'DOB': 1991, 'Job': 'Analyst'}"
      ]
     },
     "execution_count": 311,
     "metadata": {},
     "output_type": "execute_result"
    }
   ],
   "source": [
    "mydict = {'Name': 'Asia', 'ID': 12345, 'DOB': 1991, 'Job': 'Analyst'}\n",
    "mydict"
   ]
  },
  {
   "cell_type": "code",
   "execution_count": 310,
   "metadata": {},
   "outputs": [
    {
     "data": {
      "text/plain": [
       "True"
      ]
     },
     "execution_count": 310,
     "metadata": {},
     "output_type": "execute_result"
    }
   ],
   "source": [
    "'Name' in mydict"
   ]
  },
  {
   "cell_type": "code",
   "execution_count": 312,
   "metadata": {},
   "outputs": [
    {
     "data": {
      "text/plain": [
       "False"
      ]
     },
     "execution_count": 312,
     "metadata": {},
     "output_type": "execute_result"
    }
   ],
   "source": [
    "'Asia' in mydict    # Membership test can only be apply on keys not values"
   ]
  },
  {
   "cell_type": "markdown",
   "metadata": {},
   "source": [
    "#### All/Any for Dictionary\n",
    "\n",
    "*All()*:\n",
    "- `True` if all keys of the dictionary are true\n",
    "- `False` if any keys of the dictionary is false\n",
    "\n",
    "*Any()*:\n",
    "- `True` if any key is true\n",
    "- `False` if not any() return false"
   ]
  },
  {
   "cell_type": "code",
   "execution_count": 314,
   "metadata": {},
   "outputs": [
    {
     "data": {
      "text/plain": [
       "{'Name': 'Asif', 'ID': 12345, 'DOB': 1991, 'Job': 'Analyst'}"
      ]
     },
     "execution_count": 314,
     "metadata": {},
     "output_type": "execute_result"
    }
   ],
   "source": [
    "mydict = {'Name': 'Asif', 'ID': 12345, 'DOB': 1991, 'Job': 'Analyst'}\n",
    "mydict"
   ]
  },
  {
   "cell_type": "code",
   "execution_count": 315,
   "metadata": {},
   "outputs": [
    {
     "data": {
      "text/plain": [
       "True"
      ]
     },
     "execution_count": 315,
     "metadata": {},
     "output_type": "execute_result"
    }
   ],
   "source": [
    "all(mydict)"
   ]
  },
  {
   "cell_type": "code",
   "execution_count": 316,
   "metadata": {},
   "outputs": [
    {
     "data": {
      "text/plain": [
       "True"
      ]
     },
     "execution_count": 316,
     "metadata": {},
     "output_type": "execute_result"
    }
   ],
   "source": [
    "any(mydict)"
   ]
  },
  {
   "cell_type": "code",
   "execution_count": 318,
   "metadata": {},
   "outputs": [
    {
     "data": {
      "text/plain": [
       "{'Name': 'Asif', 'ID': 12345, 'DOB': 1991, 0: 'Analyst'}"
      ]
     },
     "execution_count": 318,
     "metadata": {},
     "output_type": "execute_result"
    }
   ],
   "source": [
    "mydict = {'Name': 'Asif', 'ID': 12345, 'DOB': 1991, 0: 'Analyst'}\n",
    "mydict"
   ]
  },
  {
   "cell_type": "code",
   "execution_count": 320,
   "metadata": {},
   "outputs": [
    {
     "data": {
      "text/plain": [
       "(False, True)"
      ]
     },
     "execution_count": 320,
     "metadata": {},
     "output_type": "execute_result"
    }
   ],
   "source": [
    "all(mydict), any(mydict)"
   ]
  },
  {
   "cell_type": "code",
   "execution_count": 322,
   "metadata": {},
   "outputs": [
    {
     "data": {
      "text/plain": [
       "{'Name': 'Asif', 'ID': 12345, 'DOB': 1991, 'Job': None}"
      ]
     },
     "execution_count": 322,
     "metadata": {},
     "output_type": "execute_result"
    }
   ],
   "source": [
    "mydict = {'Name': 'Asif', 'ID': 12345, 'DOB': 1991, 'Job': None}\n",
    "mydict"
   ]
  },
  {
   "cell_type": "code",
   "execution_count": 323,
   "metadata": {},
   "outputs": [
    {
     "data": {
      "text/plain": [
       "(True, True)"
      ]
     },
     "execution_count": 323,
     "metadata": {},
     "output_type": "execute_result"
    }
   ],
   "source": [
    "all(mydict), any(mydict)    # Values can be None, False, empty doesn't matter"
   ]
  },
  {
   "cell_type": "markdown",
   "metadata": {},
   "source": [
    "#### Dictionary Comprehension"
   ]
  },
  {
   "cell_type": "code",
   "execution_count": 326,
   "metadata": {},
   "outputs": [
    {
     "data": {
      "text/plain": [
       "{'0_': 0,\n",
       " '1_': 2,\n",
       " '2_': 4,\n",
       " '3_': 6,\n",
       " '4_': 8,\n",
       " '5_': 10,\n",
       " '6_': 12,\n",
       " '7_': 14,\n",
       " '8_': 16,\n",
       " '9_': 18}"
      ]
     },
     "execution_count": 326,
     "metadata": {},
     "output_type": "execute_result"
    }
   ],
   "source": [
    "dict2 = {f\"{i}_\":i*2 for i in range(10)}#double each value using dict comprehension\n",
    "dict2"
   ]
  },
  {
   "cell_type": "code",
   "execution_count": 325,
   "metadata": {},
   "outputs": [
    {
     "data": {
      "text/plain": [
       "{0: 0, 1: 1, 2: 4, 3: 9, 4: 16, 5: 25, 6: 36, 7: 49, 8: 64, 9: 81}"
      ]
     },
     "execution_count": 325,
     "metadata": {},
     "output_type": "execute_result"
    }
   ],
   "source": [
    "square = {i:i**2 for i in range(10)}\n",
    "square"
   ]
  },
  {
   "cell_type": "code",
   "execution_count": 328,
   "metadata": {},
   "outputs": [
    {
     "data": {
      "text/plain": [
       "{'a': 'A',\n",
       " 'b': 'B',\n",
       " 'c': 'C',\n",
       " 'd': 'D',\n",
       " 'e': 'E',\n",
       " 'f': 'F',\n",
       " 'g': 'G',\n",
       " 'h': 'H',\n",
       " 'i': 'I',\n",
       " 'j': 'J',\n",
       " 'k': 'K',\n",
       " 'l': 'L',\n",
       " 'm': 'M',\n",
       " 'n': 'N',\n",
       " 'o': 'O',\n",
       " 'p': 'P',\n",
       " 'q': 'Q',\n",
       " 'r': 'R',\n",
       " 's': 'S',\n",
       " 't': 'T',\n",
       " 'u': 'U',\n",
       " 'v': 'V',\n",
       " 'w': 'W',\n",
       " 'x': 'X',\n",
       " 'y': 'Y',\n",
       " 'z': 'Z'}"
      ]
     },
     "execution_count": 328,
     "metadata": {},
     "output_type": "execute_result"
    }
   ],
   "source": [
    "some_string = \"abcdefghijklmnopqrstuvwxyz\"\n",
    "cap_dict = {i: i.upper() for i in some_string}\n",
    "cap_dict"
   ]
  },
  {
   "cell_type": "markdown",
   "metadata": {},
   "source": [
    "## Type Conversion"
   ]
  },
  {
   "cell_type": "markdown",
   "metadata": {},
   "source": [
    "### converting to integer"
   ]
  },
  {
   "cell_type": "code",
   "execution_count": null,
   "metadata": {},
   "outputs": [],
   "source": [
    "# Converting a float to an integer\n",
    "float_number = 3.14\n",
    "int_number = int(float_number)\n",
    "print(int_number)  # Output: 3\n",
    "\n",
    "# Converting a string to an integer\n",
    "string_number = \"5\"\n",
    "int_number = int(string_number)\n",
    "print(int_number)  # Output: 5"
   ]
  },
  {
   "cell_type": "markdown",
   "metadata": {},
   "source": [
    "### converting to float"
   ]
  },
  {
   "cell_type": "code",
   "execution_count": null,
   "metadata": {},
   "outputs": [],
   "source": [
    "# Converting an integer to a float\n",
    "int_number = 10\n",
    "float_number = float(int_number)\n",
    "print(float_number)  # Output: 10.0\n",
    "\n",
    "# Converting a string to a float\n",
    "string_number = \"3.14\"\n",
    "float_number = float(string_number)\n",
    "print(float_number)  # Output: 3.14"
   ]
  },
  {
   "cell_type": "markdown",
   "metadata": {},
   "source": [
    "### converting to a string"
   ]
  },
  {
   "cell_type": "code",
   "execution_count": null,
   "metadata": {},
   "outputs": [],
   "source": [
    "# Converting an integer to a string\n",
    "int_number = 10\n",
    "string_number = str(int_number)\n",
    "print(string_number)  # Output: '10'\n",
    "\n",
    "# Converting a float to a string\n",
    "float_number = 3.14\n",
    "string_number = str(float_number)\n",
    "print(string_number)  # Output: '3.14'"
   ]
  },
  {
   "cell_type": "markdown",
   "metadata": {},
   "source": [
    "### converting to a list"
   ]
  },
  {
   "cell_type": "code",
   "execution_count": null,
   "metadata": {},
   "outputs": [],
   "source": [
    "# Converting a string to a list\n",
    "string_val = \"hello\"\n",
    "list_val = list(string_val)\n",
    "print(list_val)  # Output: ['h', 'e', 'l', 'l', 'o']\n",
    "\n",
    "# Converting a tuple to a list\n",
    "tuple_val = (1, 2, 3)\n",
    "list_val = list(tuple_val)\n",
    "print(list_val)  # Output: [1, 2, 3]"
   ]
  },
  {
   "cell_type": "markdown",
   "metadata": {},
   "source": [
    "### converting to a tuple"
   ]
  },
  {
   "cell_type": "code",
   "execution_count": null,
   "metadata": {},
   "outputs": [],
   "source": [
    "# Converting a list to a tuple\n",
    "list_val = [1, 2, 3]\n",
    "tuple_val = tuple(list_val)\n",
    "print(tuple_val)  # Output: (1, 2, 3)\n",
    "\n",
    "# Converting a string to a tuple\n",
    "string_val = \"hello\"\n",
    "tuple_val = tuple(string_val)\n",
    "print(tuple_val)  # Output: ('h', 'e', 'l', 'l', 'o')"
   ]
  },
  {
   "cell_type": "markdown",
   "metadata": {},
   "source": [
    "### converting to a dictionary"
   ]
  },
  {
   "cell_type": "code",
   "execution_count": null,
   "metadata": {},
   "outputs": [],
   "source": [
    "# Converting a list of tuples to a dictionary\n",
    "list_of_tuples = [(\"a\", 1), (\"b\", 2), (\"c\", 3)]\n",
    "dict_val = dict(list_of_tuples)\n",
    "print(dict_val)  # Output: {'a': 1, 'b': 2, 'c': 3}"
   ]
  },
  {
   "cell_type": "markdown",
   "metadata": {},
   "source": [
    "## Operators"
   ]
  },
  {
   "cell_type": "markdown",
   "metadata": {},
   "source": [
    "### Arithmetc Operators"
   ]
  },
  {
   "cell_type": "code",
   "execution_count": 329,
   "metadata": {},
   "outputs": [],
   "source": [
    "x = 5\n",
    "y = 6"
   ]
  },
  {
   "cell_type": "code",
   "execution_count": 330,
   "metadata": {},
   "outputs": [
    {
     "data": {
      "text/plain": [
       "11"
      ]
     },
     "execution_count": 330,
     "metadata": {},
     "output_type": "execute_result"
    }
   ],
   "source": [
    "x + y   # Addition: adds two operands"
   ]
  },
  {
   "cell_type": "code",
   "execution_count": 331,
   "metadata": {},
   "outputs": [
    {
     "data": {
      "text/plain": [
       "-1"
      ]
     },
     "execution_count": 331,
     "metadata": {},
     "output_type": "execute_result"
    }
   ],
   "source": [
    "x - y   # Subtraction: subtracts two operands"
   ]
  },
  {
   "cell_type": "markdown",
   "metadata": {},
   "source": [
    "#### Float division\n",
    "Float division\n",
    "The quotient returned by this operator is always a float number, no matter if two numbers are integers. For example:\n",
    "\n",
    "Example: The code performs division operations and prints the results. It demonstrates that both integer and floating-point divisions return accurate results. For example, ‘10/2' results in ‘5.0’, and ‘-10/2' results in ‘-5.0’."
   ]
  },
  {
   "cell_type": "code",
   "execution_count": 332,
   "metadata": {},
   "outputs": [
    {
     "data": {
      "text/plain": [
       "0.8333333333333334"
      ]
     },
     "execution_count": 332,
     "metadata": {},
     "output_type": "execute_result"
    }
   ],
   "source": [
    "x / y   # Multiplication: multiplies two operands"
   ]
  },
  {
   "cell_type": "code",
   "execution_count": 333,
   "metadata": {},
   "outputs": [
    {
     "data": {
      "text/plain": [
       "30"
      ]
     },
     "execution_count": 333,
     "metadata": {},
     "output_type": "execute_result"
    }
   ],
   "source": [
    "x * y   # Division (float): divides the first operand by the second"
   ]
  },
  {
   "cell_type": "code",
   "execution_count": 334,
   "metadata": {},
   "outputs": [
    {
     "data": {
      "text/plain": [
       "5"
      ]
     },
     "execution_count": 334,
     "metadata": {},
     "output_type": "execute_result"
    }
   ],
   "source": [
    "x % y   # returns the remainder when the first operand is divided by the second"
   ]
  },
  {
   "cell_type": "markdown",
   "metadata": {},
   "source": [
    "#### Floor division\n",
    "Integer division( Floor division)\n",
    "The quotient returned by this operator is dependent on the argument being passed. If any of the numbers is float, it returns output in float. It is also known as Floor division because, if any number is negative, then the output will be floored. For example:\n",
    "\n",
    "Example: The code demonstrates integer (floor) division operations using the ‘//' operator. It provides results as follows: ’10//3′ equals ‘3’, ‘-5//2’ equals ‘-3’, ‘5.0//2′ equals ‘2.0’, and ‘-5.0//2’ equals ‘-3.0’. Integer division returns the largest integer less than or equal to the division result."
   ]
  },
  {
   "cell_type": "code",
   "execution_count": 335,
   "metadata": {},
   "outputs": [
    {
     "data": {
      "text/plain": [
       "0"
      ]
     },
     "execution_count": 335,
     "metadata": {},
     "output_type": "execute_result"
    }
   ],
   "source": [
    "x // y  # Division (floor): divides the first operand by the second"
   ]
  },
  {
   "cell_type": "code",
   "execution_count": 336,
   "metadata": {},
   "outputs": [
    {
     "data": {
      "text/plain": [
       "15625"
      ]
     },
     "execution_count": 336,
     "metadata": {},
     "output_type": "execute_result"
    }
   ],
   "source": [
    "x ** y  # Power: Returns first raised to power second"
   ]
  },
  {
   "cell_type": "markdown",
   "metadata": {},
   "source": [
    "### Comparision Operators"
   ]
  },
  {
   "cell_type": "code",
   "execution_count": 337,
   "metadata": {},
   "outputs": [
    {
     "data": {
      "text/plain": [
       "False"
      ]
     },
     "execution_count": 337,
     "metadata": {},
     "output_type": "execute_result"
    }
   ],
   "source": [
    "x = 5\n",
    "y = 10\n",
    "x > y"
   ]
  },
  {
   "cell_type": "code",
   "execution_count": 338,
   "metadata": {},
   "outputs": [
    {
     "data": {
      "text/plain": [
       "True"
      ]
     },
     "execution_count": 338,
     "metadata": {},
     "output_type": "execute_result"
    }
   ],
   "source": [
    "x < y"
   ]
  },
  {
   "cell_type": "code",
   "execution_count": 339,
   "metadata": {},
   "outputs": [
    {
     "data": {
      "text/plain": [
       "False"
      ]
     },
     "execution_count": 339,
     "metadata": {},
     "output_type": "execute_result"
    }
   ],
   "source": [
    "x == y"
   ]
  },
  {
   "cell_type": "code",
   "execution_count": 340,
   "metadata": {},
   "outputs": [
    {
     "data": {
      "text/plain": [
       "True"
      ]
     },
     "execution_count": 340,
     "metadata": {},
     "output_type": "execute_result"
    }
   ],
   "source": [
    "x != y"
   ]
  },
  {
   "cell_type": "code",
   "execution_count": 345,
   "metadata": {},
   "outputs": [
    {
     "data": {
      "text/plain": [
       "(False, True)"
      ]
     },
     "execution_count": 345,
     "metadata": {},
     "output_type": "execute_result"
    }
   ],
   "source": [
    "a = \"abcd\"\n",
    "b = \"ABCD\"\n",
    "a == b, a > b       # Here the comparision is done based on ascii value"
   ]
  },
  {
   "cell_type": "code",
   "execution_count": 341,
   "metadata": {},
   "outputs": [
    {
     "data": {
      "text/plain": [
       "False"
      ]
     },
     "execution_count": 341,
     "metadata": {},
     "output_type": "execute_result"
    }
   ],
   "source": [
    "x >= y"
   ]
  },
  {
   "cell_type": "code",
   "execution_count": 342,
   "metadata": {},
   "outputs": [
    {
     "data": {
      "text/plain": [
       "True"
      ]
     },
     "execution_count": 342,
     "metadata": {},
     "output_type": "execute_result"
    }
   ],
   "source": [
    "x <= y"
   ]
  },
  {
   "cell_type": "markdown",
   "metadata": {},
   "source": [
    "### Logical Operators"
   ]
  },
  {
   "cell_type": "code",
   "execution_count": 346,
   "metadata": {},
   "outputs": [
    {
     "name": "stdout",
     "output_type": "stream",
     "text": [
      "False\n",
      "True\n",
      "False\n"
     ]
    }
   ],
   "source": [
    "a = True\n",
    "b = False\n",
    "print(a and b)\n",
    "print(a or b)\n",
    "print(not a)\n"
   ]
  },
  {
   "cell_type": "markdown",
   "metadata": {},
   "source": [
    "### Bitwise Operators"
   ]
  },
  {
   "cell_type": "code",
   "execution_count": 347,
   "metadata": {},
   "outputs": [
    {
     "name": "stdout",
     "output_type": "stream",
     "text": [
      "0\n",
      "14\n",
      "-11\n",
      "14\n",
      "2\n",
      "40\n"
     ]
    }
   ],
   "source": [
    "a = 10\n",
    "b = 4\n",
    "print(a & b)        # Bitwise AND\n",
    "print(a | b)        # Bitwise OR\n",
    "print(~a)           # Bitwise NOT\n",
    "print(a ^ b)        # Bitwise XOPR\n",
    "print(a >> 2)       # Bitwise shift (right shift)\n",
    "print(a << 2)       # Bitwise shift (left shift)"
   ]
  },
  {
   "cell_type": "code",
   "execution_count": 348,
   "metadata": {},
   "outputs": [
    {
     "name": "stdout",
     "output_type": "stream",
     "text": [
      "2\n",
      "3\n",
      "-3\n",
      "1\n",
      "0\n",
      "8\n"
     ]
    }
   ],
   "source": [
    "a = 2\n",
    "b = 3\n",
    "print(a & b)        # Bitwise AND\n",
    "print(a | b)        # Bitwise OR\n",
    "print(~a)           # Bitwise NOT\n",
    "print(a ^ b)        # Bitwise XOPR\n",
    "print(a >> 2)       # Bitwise shift (right shift)\n",
    "print(a << 2)       # Bitwise shift (left shift)"
   ]
  },
  {
   "cell_type": "markdown",
   "metadata": {},
   "source": [
    "### Assignment Operators"
   ]
  },
  {
   "cell_type": "code",
   "execution_count": 352,
   "metadata": {},
   "outputs": [
    {
     "name": "stdout",
     "output_type": "stream",
     "text": [
      "10\n",
      "20\n",
      "10\n",
      "100\n",
      "10.0\n",
      "0\n",
      "1\n",
      "10000000000\n",
      "10\n",
      "10\n",
      "0\n",
      "0\n",
      "10240\n"
     ]
    }
   ],
   "source": [
    "a = 10\n",
    "b = a           # Assign the value of the right side of the expression to the left side operand\n",
    "print(b)\n",
    "b += a          # Add AND: Add right-side operand with left-side operand and then assign to left operand\n",
    "print(b)\n",
    "b -= a          # Subtract AND: Subtract right operand from left operand and then assign to left operand\n",
    "print(b)\n",
    "b *= a          # Multiply AND: Multiply right operand with left operand and then assign to left operand\n",
    "print(b)\n",
    "b /= a          # Divide AND: Divide left operand with right operand and then assign to left operand\n",
    "print(b)\n",
    "\n",
    "\n",
    "a = 10\n",
    "b = a\n",
    "b %= a          # Modulus AND: Takes modulus using left and right operands and assign the result to left operand\n",
    "print(b)\n",
    "\n",
    "a = 10\n",
    "b = a\n",
    "b //= a         # Divide(floor) AND: Divide left operand with right operand and then assign the value(floor) to left operand\n",
    "print(b)\n",
    "\n",
    "a = 10\n",
    "b = a\n",
    "b **= a         # Exponent AND: Calculate exponent(raise power) value using operands and assign value to left operand\n",
    "print(b)\n",
    "\n",
    "a = 10\n",
    "b = a\n",
    "b &= a          # Performs Bitwise AND on operands and assign value to left operand\n",
    "print(b)\n",
    "\n",
    "a = 10\n",
    "b = a\n",
    "b |= a          # Performs Bitwise OR on operands and assign value to left operand\n",
    "print(b)\n",
    "\n",
    "a = 10\n",
    "b = a\n",
    "b ^= a          # Performs Bitwise xOR on operands and assign value to left operand\n",
    "print(b)\n",
    "\n",
    "a = 10\n",
    "b = a\n",
    "b >>= a         # Performs Bitwise right shift on operands and assign value to left operand\n",
    "print(b)\n",
    "\n",
    "a = 10\n",
    "b = a\n",
    "b <<= a         # Performs Bitwise left shift on operands and assign value to left operand\n",
    "print(b)"
   ]
  },
  {
   "cell_type": "markdown",
   "metadata": {},
   "source": [
    "### Identity Operators"
   ]
  },
  {
   "cell_type": "code",
   "execution_count": 353,
   "metadata": {},
   "outputs": [
    {
     "name": "stdout",
     "output_type": "stream",
     "text": [
      "True\n",
      "True\n"
     ]
    }
   ],
   "source": [
    "a = 10\n",
    "b = 20\n",
    "c = a\n",
    "\n",
    "print(a is not b)\n",
    "print(a is c)"
   ]
  },
  {
   "cell_type": "markdown",
   "metadata": {},
   "source": [
    "### Membership Operators"
   ]
  },
  {
   "cell_type": "code",
   "execution_count": 354,
   "metadata": {},
   "outputs": [
    {
     "name": "stdout",
     "output_type": "stream",
     "text": [
      "x is NOT present in given list\n",
      "y is present in given list\n"
     ]
    }
   ],
   "source": [
    "x = 24\n",
    "y = 20\n",
    "list = [10, 20, 30, 40, 50]\n",
    "\n",
    "if (x not in list):\n",
    "\tprint(\"x is NOT present in given list\")\n",
    "else:\n",
    "\tprint(\"x is present in given list\")\n",
    "\n",
    "if (y in list):\n",
    "\tprint(\"y is present in given list\")\n",
    "else:\n",
    "\tprint(\"y is NOT present in given list\")\n"
   ]
  },
  {
   "cell_type": "markdown",
   "metadata": {},
   "source": [
    "### Ternary Operator\n",
    "\n",
    "Syntax :  [on_true] if [expression] else [on_false] "
   ]
  },
  {
   "cell_type": "code",
   "execution_count": 355,
   "metadata": {},
   "outputs": [
    {
     "name": "stdout",
     "output_type": "stream",
     "text": [
      "10\n"
     ]
    }
   ],
   "source": [
    "a, b = 10, 20\n",
    "min = a if a < b else b\n",
    "\n",
    "print(min)"
   ]
  },
  {
   "cell_type": "markdown",
   "metadata": {},
   "source": [
    "## Functions\n",
    "\n",
    "- mainly two types of functions: built-in functions and user-defined functions\n",
    "- user defined functions can be:\n",
    "    - static functions\n",
    "    - class methods\n",
    "    - abstract methods\n",
    "    - async functions\n"
   ]
  },
  {
   "cell_type": "markdown",
   "metadata": {},
   "source": [
    "### Example of Functions"
   ]
  },
  {
   "cell_type": "code",
   "execution_count": 356,
   "metadata": {},
   "outputs": [
    {
     "name": "stdout",
     "output_type": "stream",
     "text": [
      "The addition of 5 and 15 results 20.\n"
     ]
    }
   ],
   "source": [
    "# Example of function\n",
    "def add(num1: int, num2: int) -> int:\n",
    "\t\"\"\"Add two numbers\"\"\"\n",
    "\tnum3 = num1 + num2\n",
    "\n",
    "\treturn num3\n",
    "\n",
    "# Driver code\n",
    "num1, num2 = 5, 15\n",
    "ans = add(num1, num2)\n",
    "print(f\"The addition of {num1} and {num2} results {ans}.\")"
   ]
  },
  {
   "cell_type": "code",
   "execution_count": 357,
   "metadata": {},
   "outputs": [
    {
     "name": "stdout",
     "output_type": "stream",
     "text": [
      "False True\n"
     ]
    }
   ],
   "source": [
    "# some more functions\n",
    "def is_prime(n):\n",
    "\tif n in [2, 3]:\n",
    "\t\treturn True\n",
    "\tif (n == 1) or (n % 2 == 0):\n",
    "\t\treturn False\n",
    "\tr = 3\n",
    "\twhile r * r <= n:\n",
    "\t\tif n % r == 0:\n",
    "\t\t\treturn False\n",
    "\t\tr += 2\n",
    "\treturn True\n",
    "print(is_prime(78), is_prime(79))"
   ]
  },
  {
   "cell_type": "code",
   "execution_count": 358,
   "metadata": {},
   "outputs": [
    {
     "name": "stdout",
     "output_type": "stream",
     "text": [
      "even\n",
      "odd\n"
     ]
    }
   ],
   "source": [
    "# Function with argument A simple Python function to check whether x is even or odd\n",
    "def evenOdd(x):\n",
    "\tif (x % 2 == 0):\n",
    "\t\tprint(\"even\")\n",
    "\telse:\n",
    "\t\tprint(\"odd\")\n",
    "\n",
    "\n",
    "# Driver code to call the function\n",
    "evenOdd(2)\n",
    "evenOdd(3)"
   ]
  },
  {
   "cell_type": "markdown",
   "metadata": {},
   "source": [
    "### Types of function arguments\n",
    "\n",
    "- default argument\n",
    "- keyword argument\n",
    "- positional argument\n",
    "- arbitrary argument (variable-length arguments *args and **kwargs)"
   ]
  },
  {
   "cell_type": "code",
   "execution_count": 359,
   "metadata": {},
   "outputs": [
    {
     "name": "stdout",
     "output_type": "stream",
     "text": [
      "x:  10\n",
      "y:  50\n"
     ]
    }
   ],
   "source": [
    "# Python program to demonstrate default arguments\n",
    "def myFun(x, y=50):\n",
    "\tprint(\"x: \", x)\n",
    "\tprint(\"y: \", y)\n",
    "\n",
    "\n",
    "# Driver code (We call myFun() with only\n",
    "# argument)\n",
    "myFun(10)\n"
   ]
  },
  {
   "cell_type": "code",
   "execution_count": 360,
   "metadata": {},
   "outputs": [
    {
     "name": "stdout",
     "output_type": "stream",
     "text": [
      "Geeks Practice\n",
      "Geeks Practice\n"
     ]
    }
   ],
   "source": [
    "# Python program to demonstrate Keyword Arguments\n",
    "def student(firstname, lastname):\n",
    "\tprint(firstname, lastname)\n",
    "\n",
    "\n",
    "# Keyword arguments\n",
    "student(firstname='Geeks', lastname='Practice')\n",
    "student(lastname='Practice', firstname='Geeks')"
   ]
  },
  {
   "cell_type": "code",
   "execution_count": 361,
   "metadata": {},
   "outputs": [
    {
     "name": "stdout",
     "output_type": "stream",
     "text": [
      "Case-1:\n",
      "Hi, I am Suraj\n",
      "My age is  27\n",
      "\n",
      "Case-2:\n",
      "Hi, I am 27\n",
      "My age is  Suraj\n"
     ]
    }
   ],
   "source": [
    "# Python program to demonstrate positional argument\n",
    "def nameAge(name, age):\n",
    "\tprint(\"Hi, I am\", name)\n",
    "\tprint(\"My age is \", age)\n",
    "\n",
    "\n",
    "# You will get correct output because\n",
    "# argument is given in order\n",
    "print(\"Case-1:\")\n",
    "nameAge(\"Suraj\", 27)\n",
    "# You will get incorrect output because\n",
    "# argument is not in order\n",
    "print(\"\\nCase-2:\")\n",
    "nameAge(27, \"Suraj\")"
   ]
  },
  {
   "cell_type": "code",
   "execution_count": 362,
   "metadata": {},
   "outputs": [
    {
     "name": "stdout",
     "output_type": "stream",
     "text": [
      "Hello\n",
      "Welcome\n",
      "to\n",
      "GeeksforGeeks\n"
     ]
    }
   ],
   "source": [
    "# Python program to illustrate *args for variable number of arguments\n",
    "def myFun(*argv):\n",
    "\tfor arg in argv:\n",
    "\t\tprint(arg)\n",
    "\n",
    "\n",
    "myFun('Hello', 'Welcome', 'to', 'GeeksforGeeks')"
   ]
  },
  {
   "cell_type": "code",
   "execution_count": 363,
   "metadata": {},
   "outputs": [
    {
     "name": "stdout",
     "output_type": "stream",
     "text": [
      "first == Geeks\n",
      "mid == for\n",
      "last == Geeks\n"
     ]
    }
   ],
   "source": [
    "# Python program to illustrate *kwargs for variable number of keyword arguments\n",
    "\n",
    "\n",
    "def myFun(**kwargs):\n",
    "\tfor key, value in kwargs.items():\n",
    "\t\tprint(\"%s == %s\" % (key, value))\n",
    "\n",
    "\n",
    "# Driver code\n",
    "myFun(first='Geeks', mid='for', last='Geeks')"
   ]
  },
  {
   "cell_type": "markdown",
   "metadata": {},
   "source": [
    "### Doc string\n",
    "The first string after the function is called the Document string or Docstring in short. This is used to describe the functionality of the function. The use of docstring in functions is optional but it is considered a good practice.\n",
    "\n",
    "The below syntax can be used to print out the docstring of a function:\n",
    "\n",
    "Syntax: print(function_name.__doc__)\n"
   ]
  },
  {
   "cell_type": "code",
   "execution_count": 364,
   "metadata": {},
   "outputs": [
    {
     "name": "stdout",
     "output_type": "stream",
     "text": [
      "Function to check if the number is even or odd\n"
     ]
    }
   ],
   "source": [
    "# A simple Python function to check whether x is even or odd\n",
    "\n",
    "\n",
    "def evenOdd(x):\n",
    "\t\"\"\"Function to check if the number is even or odd\"\"\"\n",
    "\n",
    "\tif (x % 2 == 0):\n",
    "\t\tprint(\"even\")\n",
    "\telse:\n",
    "\t\tprint(\"odd\")\n",
    "\n",
    "\n",
    "# Driver code to call the function\n",
    "print(evenOdd.__doc__)\n"
   ]
  },
  {
   "cell_type": "markdown",
   "metadata": {},
   "source": [
    "### Function within Function"
   ]
  },
  {
   "cell_type": "code",
   "execution_count": 365,
   "metadata": {},
   "outputs": [
    {
     "name": "stdout",
     "output_type": "stream",
     "text": [
      "I love GeeksforGeeks\n"
     ]
    }
   ],
   "source": [
    "# Python program to\n",
    "# demonstrate accessing of\n",
    "# variables of nested functions\n",
    "\n",
    "def f1():\n",
    "\ts = 'I love GeeksforGeeks'\n",
    "\n",
    "\tdef f2():\n",
    "\t\tprint(s)\n",
    "\n",
    "\tf2()\n",
    "\n",
    "# Driver's code\n",
    "f1()"
   ]
  },
  {
   "cell_type": "markdown",
   "metadata": {},
   "source": [
    "### Lambda functions"
   ]
  },
  {
   "cell_type": "code",
   "execution_count": 366,
   "metadata": {},
   "outputs": [
    {
     "name": "stdout",
     "output_type": "stream",
     "text": [
      "343\n",
      "343\n"
     ]
    }
   ],
   "source": [
    "# Python code to illustrate the cube of a number\n",
    "# using lambda function\n",
    "def cube(x): return x*x*x\n",
    "\n",
    "cube_v2 = lambda x : x*x*x\n",
    "\n",
    "print(cube(7))\n",
    "print(cube_v2(7))"
   ]
  },
  {
   "cell_type": "code",
   "execution_count": 382,
   "metadata": {},
   "outputs": [
    {
     "name": "stdout",
     "output_type": "stream",
     "text": [
      "Even number\n"
     ]
    }
   ],
   "source": [
    "calc = lambda num: \"Even number\" if num % 2 == 0 else \"Odd number\"\n",
    "\n",
    "print(calc(20))"
   ]
  },
  {
   "cell_type": "code",
   "execution_count": 383,
   "metadata": {},
   "outputs": [
    {
     "name": "stdout",
     "output_type": "stream",
     "text": [
      "filter_nums(): Geeks\n",
      "do_exclaim(): I am tired!\n",
      "find_sum(): 2\n"
     ]
    }
   ],
   "source": [
    "filter_nums = lambda s: ''.join([ch for ch in s if not ch.isdigit()])\n",
    "print(\"filter_nums():\", filter_nums(\"Geeks101\"))\n",
    "\n",
    "do_exclaim = lambda s: s + '!'\n",
    "print(\"do_exclaim():\", do_exclaim(\"I am tired\"))\n",
    "\n",
    "find_sum = lambda n: sum([int(x) for x in str(n)])\n",
    "print(\"find_sum():\", find_sum(101))"
   ]
  },
  {
   "cell_type": "code",
   "execution_count": 384,
   "metadata": {},
   "outputs": [
    {
     "name": "stdout",
     "output_type": "stream",
     "text": [
      "invoking function defined with def keyword:\n",
      "Finding cube of number:30\n",
      "27000\n",
      "invoking lambda function: 27000\n"
     ]
    }
   ],
   "source": [
    "# difference between lambda functions and normal functions\n",
    "def cube(y):\n",
    "\tprint(f\"Finding cube of number:{y}\")\n",
    "\treturn y * y * y\n",
    "\n",
    "# invoking simple function\n",
    "print(\"invoking function defined with def keyword:\")\n",
    "print(cube(30))\n",
    "\n",
    "\n",
    "lambda_cube = lambda num: num ** 3\n",
    "# invoking lambda function\n",
    "print(\"invoking lambda function:\", lambda_cube(30))\n"
   ]
  },
  {
   "cell_type": "code",
   "execution_count": null,
   "metadata": {},
   "outputs": [],
   "source": [
    "\"\"\"Lambda functions gets more helpful when used inside a function\"\"\"\n",
    "\n",
    "l = [\"1\", \"2\", \"9\", \"0\", \"-1\", \"-2\"]\n",
    "# sort list[str] numerically using sorted() and custom sorting key using lambda\n",
    "print(\"Sorted numerically:\", sorted(l, key=lambda x: int(x)))\n",
    "\n",
    "# filter positive even numbers using filter() and lambda function\n",
    "print(\"Filtered positive even numbers:\", list(filter(lambda x: not (int(x) % 2 == 0 and int(x) > 0), l)))\n",
    "\n",
    "# added 10 to each item after type and casting to int, then convert items to string again\n",
    "print(\"Operation on each item using lambda and map()\", list(map(lambda x: str(int(x) + 10), l)))\n"
   ]
  },
  {
   "cell_type": "markdown",
   "metadata": {},
   "source": [
    "### Return statements in functions"
   ]
  },
  {
   "cell_type": "code",
   "execution_count": 367,
   "metadata": {},
   "outputs": [
    {
     "name": "stdout",
     "output_type": "stream",
     "text": [
      "4\n",
      "16\n"
     ]
    }
   ],
   "source": [
    "def square_value(num):\n",
    "\t\"\"\"This function returns the square\n",
    "\tvalue of the entered number\"\"\"\n",
    "\treturn num**2\n",
    "\n",
    "\n",
    "print(square_value(2))\n",
    "print(square_value(-4))"
   ]
  },
  {
   "cell_type": "markdown",
   "metadata": {},
   "source": [
    "### Pass by refernce vs Pass by value"
   ]
  },
  {
   "cell_type": "code",
   "execution_count": 368,
   "metadata": {},
   "outputs": [
    {
     "name": "stdout",
     "output_type": "stream",
     "text": [
      "[20, 11, 12, 13, 14, 15]\n"
     ]
    }
   ],
   "source": [
    "# Here x is a new reference to same list lst\n",
    "def myFun(x):\n",
    "\tx[0] = 20       # reference is, for given x -> 0th index is 20\n",
    "\n",
    "\n",
    "# Driver Code (Note that lst is modified\n",
    "# after function call.\n",
    "lst = [10, 11, 12, 13, 14, 15]\n",
    "myFun(lst)\n",
    "print(lst)"
   ]
  },
  {
   "cell_type": "code",
   "execution_count": 369,
   "metadata": {},
   "outputs": [
    {
     "name": "stdout",
     "output_type": "stream",
     "text": [
      "[10, 11, 12, 13, 14, 15]\n"
     ]
    }
   ],
   "source": [
    "def myFun(x):\n",
    "    # After below line link of x with previous object gets broken. A new object is assigned to x.\n",
    "\tx = [20, 30, 40]\n",
    "\n",
    "\n",
    "# Driver Code (Note that lst is not modified after function call.\n",
    "lst = [10, 11, 12, 13, 14, 15]\n",
    "myFun(lst)\n",
    "print(lst)"
   ]
  },
  {
   "cell_type": "code",
   "execution_count": 370,
   "metadata": {},
   "outputs": [
    {
     "name": "stdout",
     "output_type": "stream",
     "text": [
      "10\n"
     ]
    }
   ],
   "source": [
    "def myFun(x):\n",
    "\n",
    "\t# After below line link of x with previous object gets broken. A new object is assigned to x.\n",
    "\tx = 20\n",
    "\n",
    "\n",
    "# Driver Code (Note that x is not modified after function call.\n",
    "x = 10\n",
    "myFun(x)\n",
    "print(x)"
   ]
  },
  {
   "cell_type": "markdown",
   "metadata": {},
   "source": [
    "### *args and **kwargs"
   ]
  },
  {
   "cell_type": "code",
   "execution_count": 371,
   "metadata": {},
   "outputs": [
    {
     "name": "stdout",
     "output_type": "stream",
     "text": [
      "Hello\n",
      "Welcome\n",
      "to\n",
      "GeeksforGeeks\n"
     ]
    }
   ],
   "source": [
    "def myFun(*argv):\n",
    "\tfor arg in argv:\n",
    "\t\tprint(arg)\n",
    "\n",
    "\n",
    "myFun('Hello', 'Welcome', 'to', 'GeeksforGeeks')"
   ]
  },
  {
   "cell_type": "code",
   "execution_count": 372,
   "metadata": {},
   "outputs": [
    {
     "name": "stdout",
     "output_type": "stream",
     "text": [
      "First argument : Hello\n",
      "Next argument through *argv : Welcome\n",
      "Next argument through *argv : to\n",
      "Next argument through *argv : GeeksforGeeks\n"
     ]
    }
   ],
   "source": [
    "def myFun(arg1, *argv):\n",
    "\tprint(\"First argument :\", arg1)\n",
    "\tfor arg in argv:\n",
    "\t\tprint(\"Next argument through *argv :\", arg)\n",
    "\n",
    "\n",
    "myFun('Hello', 'Welcome', 'to', 'GeeksforGeeks')"
   ]
  },
  {
   "cell_type": "code",
   "execution_count": 373,
   "metadata": {},
   "outputs": [
    {
     "name": "stdout",
     "output_type": "stream",
     "text": [
      "first == Geeks\n",
      "mid == for\n",
      "last == Geeks\n"
     ]
    }
   ],
   "source": [
    "def myFun(**kwargs):\n",
    "\tfor key, value in kwargs.items():\n",
    "\t\tprint(\"%s == %s\" % (key, value))\n",
    "\n",
    "\n",
    "# Driver code\n",
    "myFun(first='Geeks', mid='for', last='Geeks')"
   ]
  },
  {
   "cell_type": "code",
   "execution_count": 374,
   "metadata": {},
   "outputs": [
    {
     "name": "stdout",
     "output_type": "stream",
     "text": [
      "first == Geeks\n",
      "mid == for\n",
      "last == Geeks\n"
     ]
    }
   ],
   "source": [
    "def myFun(arg1, **kwargs):\n",
    "\tfor key, value in kwargs.items():\n",
    "\t\tprint(\"%s == %s\" % (key, value))\n",
    "\n",
    "\n",
    "# Driver code\n",
    "myFun(\"Hi\", first='Geeks', mid='for', last='Geeks')"
   ]
  },
  {
   "cell_type": "code",
   "execution_count": 375,
   "metadata": {},
   "outputs": [
    {
     "name": "stdout",
     "output_type": "stream",
     "text": [
      "args:  ('geeks', 'for', 'geeks')\n",
      "kwargs:  {'first': 'Geeks', 'mid': 'for', 'last': 'Geeks'}\n"
     ]
    }
   ],
   "source": [
    "def myFun(*args, **kwargs):\n",
    "\tprint(\"args: \", args)\n",
    "\tprint(\"kwargs: \", kwargs)\n",
    "\n",
    "\n",
    "# Now we can use both *args ,**kwargs to pass arguments to this function :\n",
    "myFun('geeks', 'for', 'geeks', first=\"Geeks\", mid=\"for\", last=\"Geeks\")"
   ]
  },
  {
   "cell_type": "markdown",
   "metadata": {},
   "source": [
    "### Using *args and **kwargs in Python to set values of object\n",
    "- *args receives arguments as a tuple.\n",
    "- **kwargs receives arguments as a dictionary."
   ]
  },
  {
   "cell_type": "code",
   "execution_count": 376,
   "metadata": {},
   "outputs": [
    {
     "name": "stdout",
     "output_type": "stream",
     "text": [
      "red\n",
      "250\n"
     ]
    }
   ],
   "source": [
    "# defining car class\n",
    "class car():\n",
    "\t# args receives unlimited no. of arguments as an array\n",
    "\tdef __init__(self, *args):\n",
    "\t\t# access args index like array does\n",
    "\t\tself.speed = args[0]\n",
    "\t\tself.color = args[1]\n",
    "\n",
    "\n",
    "# creating objects of car class\n",
    "audi = car(200, 'red')\n",
    "bmw = car(250, 'black')\n",
    "mb = car(190, 'white')\n",
    "\n",
    "# printing the color and speed of the cars\n",
    "print(audi.color)\n",
    "print(bmw.speed)"
   ]
  },
  {
   "cell_type": "code",
   "execution_count": 377,
   "metadata": {},
   "outputs": [
    {
     "name": "stdout",
     "output_type": "stream",
     "text": [
      "red\n",
      "250\n"
     ]
    }
   ],
   "source": [
    "# defining car class\n",
    "class car():\n",
    "\t# args receives unlimited no. of arguments as an array\n",
    "\tdef __init__(self, **kwargs):\n",
    "\t\t# access args index like array does\n",
    "\t\tself.speed = kwargs['s']\n",
    "\t\tself.color = kwargs['c']\n",
    "\n",
    "\n",
    "# creating objects of car class\n",
    "audi = car(s=200, c='red')\n",
    "bmw = car(s=250, c='black')\n",
    "mb = car(s=190, c='white')\n",
    "\n",
    "# printing the color and speed of cars\n",
    "print(audi.color)\n",
    "print(bmw.speed)"
   ]
  },
  {
   "cell_type": "markdown",
   "metadata": {},
   "source": [
    "## Generator functions\n",
    "- it will use `yield` instead of `return`\n",
    "- The yield statement suspends a function’s execution and sends a value back to the caller, but retains enough state to enable the function to resume where it left off.\n",
    "- When the function resumes, it continues execution immediately after the last yield run. This allows its code to produce a series of values over time, rather than computing them at once and sending them back like a list.\n",
    "- Return sends a specified value back to its caller whereas Yield can produce a sequence of values. We should use yield when we want to iterate over a sequence, but don’t want to store the entire sequence in memory."
   ]
  },
  {
   "cell_type": "code",
   "execution_count": 378,
   "metadata": {},
   "outputs": [
    {
     "name": "stdout",
     "output_type": "stream",
     "text": [
      "1\n",
      "2\n",
      "3\n"
     ]
    }
   ],
   "source": [
    "# A Simple Python program to demonstrate working of yield\n",
    "\n",
    "# A generator function that yields 1 for the first time, 2 second time and 3 third time\n",
    "\n",
    "\n",
    "def simpleGeneratorFun():\n",
    "\tyield 1\n",
    "\tyield 2\n",
    "\tyield 3\n",
    "\n",
    "\n",
    "# Driver code to check above generator function\n",
    "for value in simpleGeneratorFun():\n",
    "\tprint(value)"
   ]
  },
  {
   "cell_type": "code",
   "execution_count": 379,
   "metadata": {},
   "outputs": [
    {
     "name": "stdout",
     "output_type": "stream",
     "text": [
      "1\n",
      "4\n",
      "9\n",
      "16\n",
      "25\n",
      "36\n",
      "49\n",
      "64\n",
      "81\n",
      "100\n"
     ]
    }
   ],
   "source": [
    "# A Python program to generate squares from 1 to 100 using yield and therefore generator\n",
    "# An infinite generator function that prints next square number. It starts with 1\n",
    "\n",
    "def nextSquare():\n",
    "\ti = 1\n",
    "\n",
    "\t# An Infinite loop to generate squares\n",
    "\twhile True:\n",
    "\t\tyield i*i\n",
    "\t\ti += 1 # Next execution resumes from this point\n",
    "\n",
    "# Driver code to test above generator function\n",
    "for num in nextSquare():\n",
    "\tif num > 100:\n",
    "\t\tbreak\n",
    "\tprint(num)"
   ]
  },
  {
   "cell_type": "markdown",
   "metadata": {},
   "source": [
    "### Generator and next() function"
   ]
  },
  {
   "cell_type": "code",
   "execution_count": 380,
   "metadata": {},
   "outputs": [
    {
     "name": "stdout",
     "output_type": "stream",
     "text": [
      "1\n",
      "2\n",
      "3\n"
     ]
    }
   ],
   "source": [
    "# A Python program to demonstrate use of\n",
    "# generator object with next()\n",
    "\n",
    "# A generator function\n",
    "def simpleGeneratorFun():\n",
    "\tyield 1\n",
    "\tyield 2\n",
    "\tyield 3\n",
    "\n",
    "# x is a generator object\n",
    "x = simpleGeneratorFun()\n",
    "\n",
    "# Iterating over the generator object using next\n",
    "\n",
    "# In Python 3, __next__()\n",
    "print(next(x))\n",
    "print(next(x))\n",
    "print(next(x))"
   ]
  },
  {
   "cell_type": "code",
   "execution_count": 381,
   "metadata": {},
   "outputs": [
    {
     "name": "stdout",
     "output_type": "stream",
     "text": [
      "0\n",
      "1\n",
      "1\n",
      "2\n",
      "3\n",
      "\n",
      "Using for in loop\n",
      "0\n",
      "1\n",
      "1\n",
      "2\n",
      "3\n"
     ]
    }
   ],
   "source": [
    "# A simple generator for Fibonacci Numbers\n",
    "def fib(limit):\n",
    "\n",
    "\t# Initialize first two Fibonacci Numbers\n",
    "\ta, b = 0, 1\n",
    "\n",
    "\t# One by one yield next Fibonacci Number\n",
    "\twhile a < limit:\n",
    "\t\tyield a\n",
    "\t\ta, b = b, a + b\n",
    "\n",
    "# Create a generator object\n",
    "x = fib(5)\n",
    "\n",
    "# Iterating over the generator object using next\n",
    "# In Python 3, __next__()\n",
    "print(next(x))\n",
    "print(next(x))\n",
    "print(next(x))\n",
    "print(next(x))\n",
    "print(next(x))\n",
    "\n",
    "# Iterating over the generator object using for\n",
    "# in loop.\n",
    "print(\"\\nUsing for in loop\")\n",
    "for i in fib(5):\n",
    "\tprint(i)"
   ]
  },
  {
   "cell_type": "markdown",
   "metadata": {},
   "source": [
    "## Global and Local variables"
   ]
  },
  {
   "cell_type": "code",
   "execution_count": 386,
   "metadata": {},
   "outputs": [
    {
     "name": "stdout",
     "output_type": "stream",
     "text": [
      "Me too.\n",
      "I love Geeksforgeeks\n"
     ]
    }
   ],
   "source": [
    "# This function has a variable with name same as s.\n",
    "def f():\n",
    "    # local variable\n",
    "\ts = \"Me too.\"\n",
    "\tprint(s)\n",
    "\n",
    "# Global scope\n",
    "s = \"I love Geeksforgeeks\"\n",
    "f()\n",
    "print(s)"
   ]
  },
  {
   "cell_type": "code",
   "execution_count": 387,
   "metadata": {},
   "outputs": [
    {
     "ename": "UnboundLocalError",
     "evalue": "cannot access local variable 's' where it is not associated with a value",
     "output_type": "error",
     "traceback": [
      "\u001b[1;31m---------------------------------------------------------------------------\u001b[0m",
      "\u001b[1;31mUnboundLocalError\u001b[0m                         Traceback (most recent call last)",
      "Cell \u001b[1;32mIn[387], line 9\u001b[0m\n\u001b[0;32m      7\u001b[0m \u001b[38;5;66;03m# Global scope\u001b[39;00m\n\u001b[0;32m      8\u001b[0m s \u001b[38;5;241m=\u001b[39m \u001b[38;5;124m\"\u001b[39m\u001b[38;5;124mI love Geeksforgeeks\u001b[39m\u001b[38;5;124m\"\u001b[39m\n\u001b[1;32m----> 9\u001b[0m \u001b[43mf\u001b[49m\u001b[43m(\u001b[49m\u001b[43m)\u001b[49m\n",
      "Cell \u001b[1;32mIn[387], line 3\u001b[0m, in \u001b[0;36mf\u001b[1;34m()\u001b[0m\n\u001b[0;32m      2\u001b[0m \u001b[38;5;28;01mdef\u001b[39;00m \u001b[38;5;21mf\u001b[39m():\n\u001b[1;32m----> 3\u001b[0m \t\u001b[43ms\u001b[49m \u001b[38;5;241m+\u001b[39m\u001b[38;5;241m=\u001b[39m \u001b[38;5;124m'\u001b[39m\u001b[38;5;124mGFG\u001b[39m\u001b[38;5;124m'\u001b[39m\n\u001b[0;32m      4\u001b[0m \t\u001b[38;5;28mprint\u001b[39m(\u001b[38;5;124m\"\u001b[39m\u001b[38;5;124mInside Function\u001b[39m\u001b[38;5;124m\"\u001b[39m, s)\n",
      "\u001b[1;31mUnboundLocalError\u001b[0m: cannot access local variable 's' where it is not associated with a value"
     ]
    }
   ],
   "source": [
    "# This function uses global variable s\n",
    "def f():\n",
    "\ts += 'GFG'\n",
    "\tprint(\"Inside Function\", s)\n",
    "\n",
    "\n",
    "# Global scope\n",
    "s = \"I love Geeksforgeeks\"\n",
    "f()"
   ]
  },
  {
   "cell_type": "markdown",
   "metadata": {},
   "source": [
    "### `global` keyword will provide local variable access to global scope"
   ]
  },
  {
   "cell_type": "code",
   "execution_count": 388,
   "metadata": {},
   "outputs": [
    {
     "name": "stdout",
     "output_type": "stream",
     "text": [
      "Python is great! GFG\n",
      "Look for Geeksforgeeks Python Section\n",
      "Look for Geeksforgeeks Python Section\n"
     ]
    }
   ],
   "source": [
    "# This function modifies the global variable 's'\n",
    "def f():\n",
    "\tglobal s\n",
    "\ts += ' GFG'\n",
    "\tprint(s)\n",
    "\ts = \"Look for Geeksforgeeks Python Section\"\n",
    "\tprint(s)\n",
    "\n",
    "# Global Scope\n",
    "s = \"Python is great!\"\n",
    "f()\n",
    "print(s)"
   ]
  },
  {
   "cell_type": "code",
   "execution_count": 389,
   "metadata": {},
   "outputs": [
    {
     "name": "stdout",
     "output_type": "stream",
     "text": [
      "global :  1\n",
      "Inside f() :  1\n",
      "global :  1\n",
      "Inside g() :  2\n",
      "global :  1\n",
      "Inside h() :  3\n",
      "global :  3\n"
     ]
    }
   ],
   "source": [
    "a = 1\n",
    "\n",
    "# Uses global because there is no local 'a'\n",
    "def f():\n",
    "\tprint('Inside f() : ', a)\n",
    "\n",
    "# Variable 'a' is redefined as a local\n",
    "def g():\n",
    "\ta = 2\n",
    "\tprint('Inside g() : ', a)\n",
    "\n",
    "# Uses global keyword to modify global 'a'\n",
    "def h():\n",
    "\tglobal a\n",
    "\ta = 3\n",
    "\tprint('Inside h() : ', a)\n",
    "\n",
    "\n",
    "# Global scope\n",
    "print('global : ', a)\n",
    "f()\n",
    "print('global : ', a)\n",
    "g()\n",
    "print('global : ', a)\n",
    "h()\n",
    "print('global : ', a)"
   ]
  },
  {
   "cell_type": "code",
   "execution_count": 390,
   "metadata": {},
   "outputs": [
    {
     "name": "stdout",
     "output_type": "stream",
     "text": [
      "Value of x inside a function : 20\n",
      "Value of x outside a function : 20\n"
     ]
    }
   ],
   "source": [
    "x = 15\n",
    "def change():\n",
    "\t# using a global keyword\n",
    "\tglobal x\n",
    "\n",
    "\t# increment value of a by 5\n",
    "\tx = x + 5\n",
    "\tprint(\"Value of x inside a function :\", x)\n",
    "\n",
    "\n",
    "change()\n",
    "print(\"Value of x outside a function :\", x)"
   ]
  },
  {
   "cell_type": "markdown",
   "metadata": {},
   "source": [
    "### modifying the element without using `global`"
   ]
  },
  {
   "cell_type": "code",
   "execution_count": 391,
   "metadata": {},
   "outputs": [
    {
     "name": "stdout",
     "output_type": "stream",
     "text": [
      "'arr' list before executing fun(): [10, 20, 30]\n",
      "'arr' list after executing fun(): [20, 30, 40]\n"
     ]
    }
   ],
   "source": [
    "# this example is using pass by reference concept\n",
    "arr = [10, 20, 30]\n",
    "\n",
    "\n",
    "def fun():\n",
    "\tfor i in range(len(arr)):\n",
    "\t\tarr[i] += 10\n",
    "\n",
    "\n",
    "print(\"'arr' list before executing fun():\", arr)\n",
    "fun()\n",
    "print(\"'arr' list after executing fun():\", arr)"
   ]
  },
  {
   "cell_type": "markdown",
   "metadata": {},
   "source": [
    "### modifying the element with `global`"
   ]
  },
  {
   "cell_type": "code",
   "execution_count": 392,
   "metadata": {},
   "outputs": [
    {
     "name": "stdout",
     "output_type": "stream",
     "text": [
      "'arr' list before executing fun(): [10, 20, 30]\n",
      "'arr' list after executing fun(): [20, 30, 40]\n"
     ]
    }
   ],
   "source": [
    "arr = [10, 20, 30]\n",
    "\n",
    "\n",
    "def fun():\n",
    "\tglobal arr\n",
    "\tarr = [20, 30, 40]\n",
    "\n",
    "\n",
    "print(\"'arr' list before executing fun():\", arr)\n",
    "fun()\n",
    "print(\"'arr' list after executing fun():\", arr)\n"
   ]
  },
  {
   "cell_type": "markdown",
   "metadata": {},
   "source": [
    "### `global` in nested function"
   ]
  },
  {
   "cell_type": "code",
   "execution_count": 393,
   "metadata": {},
   "outputs": [
    {
     "name": "stdout",
     "output_type": "stream",
     "text": [
      "Before making changing:  15\n",
      "Making change\n",
      "After making change:  15\n",
      "value of x 20\n"
     ]
    }
   ],
   "source": [
    "# Python program showing a use of global in nested function\n",
    "\n",
    "def add():\n",
    "\tx = 15\n",
    "\tdef change():\n",
    "\t\tglobal x\n",
    "\t\tx = 20\n",
    "\tprint(\"Before making changing: \", x)\n",
    "\tprint(\"Making change\")\n",
    "\tchange()\n",
    "\tprint(\"After making change: \", x)\n",
    "\n",
    "add()\n",
    "print(\"value of x\", x)"
   ]
  },
  {
   "cell_type": "markdown",
   "metadata": {},
   "source": [
    "## First Class Objects\n",
    "python functions are first class objects.\n",
    "\n",
    "**Properties of first class functions**:\n",
    "- A function is an instance of the Object type.\n",
    "- You can store the function in a variable.\n",
    "- You can pass the function as a parameter to another function.\n",
    "- You can return the function from a function.\n",
    "- You can store them in data structures such as hash tables, lists, …"
   ]
  },
  {
   "cell_type": "markdown",
   "metadata": {},
   "source": [
    "### Functions are objects"
   ]
  },
  {
   "cell_type": "code",
   "execution_count": 394,
   "metadata": {},
   "outputs": [
    {
     "name": "stdout",
     "output_type": "stream",
     "text": [
      "HELLO\n",
      "HELLO\n"
     ]
    }
   ],
   "source": [
    "# Python program to illustrate functions can be treated as objects\n",
    "def shout(text):\n",
    "\treturn text.upper()\n",
    "\n",
    "print (shout('Hello'))\n",
    "\n",
    "yell = shout\n",
    "\n",
    "print (yell('Hello'))"
   ]
  },
  {
   "cell_type": "markdown",
   "metadata": {},
   "source": [
    "### Functions can be passed as arguments to other functions"
   ]
  },
  {
   "cell_type": "code",
   "execution_count": 397,
   "metadata": {},
   "outputs": [
    {
     "name": "stdout",
     "output_type": "stream",
     "text": [
      "HI, I AM CREATED BY A FUNCTION PASSED AS AN ARGUMENT.\n",
      "hi, i am created by a function passed as an argument.\n"
     ]
    }
   ],
   "source": [
    "# Python program to illustrate functions can be passed as arguments to other functions\n",
    "def shout(text):\n",
    "\treturn text.upper()\n",
    "\n",
    "def whisper(text):\n",
    "\treturn text.lower()\n",
    "\n",
    "def greet(func):\n",
    "\t# storing the function in a variable\n",
    "\tgreeting = func(\"\"\"Hi, I am created by a function passed as an argument.\"\"\")\n",
    "\tprint (greeting)\n",
    "\n",
    "greet(shout)\n",
    "greet(whisper)"
   ]
  },
  {
   "cell_type": "markdown",
   "metadata": {},
   "source": [
    "### Functions can return another function"
   ]
  },
  {
   "cell_type": "code",
   "execution_count": 398,
   "metadata": {},
   "outputs": [
    {
     "name": "stdout",
     "output_type": "stream",
     "text": [
      "25\n"
     ]
    }
   ],
   "source": [
    "# Python program to illustrate functions\n",
    "# Functions can return another function\n",
    "\n",
    "def create_adder(x):\n",
    "\tdef adder(y):\n",
    "\t\treturn x+y\n",
    "\n",
    "\treturn adder\n",
    "\n",
    "add_15 = create_adder(15)\n",
    "\n",
    "print (add_15(10))"
   ]
  },
  {
   "cell_type": "markdown",
   "metadata": {},
   "source": [
    "### Function call by the reference or we can say `python closures`"
   ]
  },
  {
   "cell_type": "code",
   "execution_count": 399,
   "metadata": {},
   "outputs": [
    {
     "name": "stdout",
     "output_type": "stream",
     "text": [
      "Hey!\n"
     ]
    }
   ],
   "source": [
    "# Python program to illustrate closures\n",
    "def outerFunction(text):\n",
    "\n",
    "\tdef innerFunction():\n",
    "\t\tprint(text)\n",
    "\n",
    "\t# Note we are returning function WITHOUT parenthesis\n",
    "\treturn innerFunction\n",
    "\n",
    "if __name__ == '__main__':\n",
    "\tmyFunction = outerFunction('Hey!')\n",
    "\tmyFunction()"
   ]
  },
  {
   "cell_type": "code",
   "execution_count": 400,
   "metadata": {},
   "outputs": [
    {
     "name": "stdout",
     "output_type": "stream",
     "text": [
      "6\n",
      "9\n",
      "5\n",
      "10\n"
     ]
    }
   ],
   "source": [
    "# Python program to illustrate closures\n",
    "import logging\n",
    "logging.basicConfig(filename='example.log',\n",
    "\t\t\t\t\tlevel=logging.INFO)\n",
    "\n",
    "def logger(func):\n",
    "\tdef log_func(*args):\n",
    "\t\tlogging.info(\n",
    "\t\t\t'Running \"{}\" with arguments {}'.format(func.__name__,\n",
    "\t\t\t\t\t\t\t\t\t\t\t\t\targs))\n",
    "\t\tprint(func(*args))\n",
    "\n",
    "\t# Necessary for closure to work (returning WITHOUT parenthesis)\n",
    "\treturn log_func\n",
    "\n",
    "def add(x, y):\n",
    "\treturn x+y\n",
    "\n",
    "def sub(x, y):\n",
    "\treturn x-y\n",
    "\n",
    "add_logger = logger(add)\n",
    "sub_logger = logger(sub)\n",
    "\n",
    "add_logger(3, 3)\n",
    "add_logger(4, 5)\n",
    "\n",
    "sub_logger(10, 5)\n",
    "sub_logger(20, 10)\n",
    "\n",
    "\n",
    "# Result:\n",
    "\"\"\"\n",
    "~/Documents/Python-Programs/$ python MoreOnClosures.py\n",
    "Running \"add\" with arguments\n",
    "6\n",
    "9\n",
    "5\n",
    "10\n",
    "\n",
    "~/Documents/Python-Programs/$ cat example.log\n",
    "INFO:root:Running \"add\" with arguments (3, 3)\n",
    "INFO:root:Running \"add\" with arguments (4, 5)\n",
    "INFO:root:Running \"sub\" with arguments (10, 5)\n",
    "INFO:root:Running \"sub\" with arguments (20, 10)\n",
    "\"\"\"\n"
   ]
  },
  {
   "cell_type": "markdown",
   "metadata": {},
   "source": [
    "## Decorators"
   ]
  },
  {
   "cell_type": "markdown",
   "metadata": {},
   "source": [
    "As stated above the decorators are used to modify the behaviour of function or class. In Decorators, functions are taken as the argument into another function and then called inside the wrapper function.\n",
    "\n",
    "Syntax for Decorator: \n",
    "\n",
    "```python\n",
    "@gfg_decorator\n",
    "def hello_decorator():\n",
    "    print(\"Gfg\")\n",
    "\n",
    "'''Above code is equivalent to -\n",
    "\n",
    "def hello_decorator():\n",
    "    print(\"Gfg\")\n",
    "    \n",
    "hello_decorator = gfg_decorator(hello_decorator)'''\n",
    "```"
   ]
  },
  {
   "cell_type": "code",
   "execution_count": 401,
   "metadata": {},
   "outputs": [
    {
     "name": "stdout",
     "output_type": "stream",
     "text": [
      "Hello, this is before function execution\n",
      "This is inside the function !!\n",
      "This is after function execution\n"
     ]
    }
   ],
   "source": [
    "# defining a decorator\n",
    "def hello_decorator(func):\n",
    "\n",
    "\t# inner1 is a Wrapper function in  which the argument is called\n",
    "\n",
    "    # inner function can access the outer local functions like in this case \"func\"\n",
    "\tdef inner1():\n",
    "\t\tprint(\"Hello, this is before function execution\")\n",
    "\n",
    "\t\t# calling the actual function now inside the wrapper function.\n",
    "\t\tfunc()\n",
    "\n",
    "\t\tprint(\"This is after function execution\")\n",
    "\n",
    "\treturn inner1\n",
    "\n",
    "\n",
    "# defining a function, to be called inside wrapper\n",
    "def function_to_be_used():\n",
    "\tprint(\"This is inside the function !!\")\n",
    "\n",
    "\n",
    "# passing 'function_to_be_used' inside the decorator to control its behaviour\n",
    "function_to_be_used = hello_decorator(function_to_be_used)\n",
    "\n",
    "\n",
    "# calling the function\n",
    "function_to_be_used()"
   ]
  },
  {
   "cell_type": "code",
   "execution_count": 402,
   "metadata": {},
   "outputs": [
    {
     "name": "stdout",
     "output_type": "stream",
     "text": [
      "3628800\n",
      "Total time taken in :  factorial 2.006507396697998\n"
     ]
    }
   ],
   "source": [
    "# importing libraries\n",
    "import time\n",
    "import math\n",
    "\n",
    "# decorator to calculate duration taken by any function.\n",
    "def calculate_time(func):\n",
    "\n",
    "\t# added arguments inside the inner1, if function takes any arguments, can be added like this.\n",
    "\tdef inner1(*args, **kwargs):\n",
    "\n",
    "\t\t# storing time before function execution\n",
    "\t\tbegin = time.time()\n",
    "\n",
    "\t\tfunc(*args, **kwargs)\n",
    "\n",
    "\t\t# storing time after function execution\n",
    "\t\tend = time.time()\n",
    "\t\tprint(\"Total time taken in : \", func.__name__, end - begin)\n",
    "\n",
    "\treturn inner1\n",
    "\n",
    "\n",
    "\n",
    "# this can be added to any function present, in this case to calculate a factorial\n",
    "@calculate_time\n",
    "def factorial(num):\n",
    "\n",
    "\t# sleep 2 seconds because it takes very less time so that you can see the actual difference\n",
    "\ttime.sleep(2)\n",
    "\tprint(math.factorial(num))\n",
    "\n",
    "# calling the function.\n",
    "factorial(10)"
   ]
  },
  {
   "cell_type": "code",
   "execution_count": 403,
   "metadata": {},
   "outputs": [
    {
     "name": "stdout",
     "output_type": "stream",
     "text": [
      "before Execution\n",
      "Inside the function\n",
      "after Execution\n",
      "Sum = 3\n"
     ]
    }
   ],
   "source": [
    "def hello_decorator(func):\n",
    "\tdef inner1(*args, **kwargs):\n",
    "\n",
    "\t\tprint(\"before Execution\")\n",
    "\n",
    "\t\t# getting the returned value\n",
    "\t\treturned_value = func(*args, **kwargs)\n",
    "\t\tprint(\"after Execution\")\n",
    "\n",
    "\t\t# returning the value to the original frame\n",
    "\t\treturn returned_value\n",
    "\n",
    "\treturn inner1\n",
    "\n",
    "\n",
    "# adding decorator to the function\n",
    "@hello_decorator\n",
    "def sum_two_numbers(a, b):\n",
    "\tprint(\"Inside the function\")\n",
    "\treturn a + b\n",
    "\n",
    "a, b = 1, 2\n",
    "\n",
    "# getting the value through return of the function\n",
    "print(\"Sum =\", sum_two_numbers(a, b))"
   ]
  },
  {
   "cell_type": "markdown",
   "metadata": {},
   "source": [
    "### Chaining decorators"
   ]
  },
  {
   "cell_type": "code",
   "execution_count": 404,
   "metadata": {},
   "outputs": [
    {
     "name": "stdout",
     "output_type": "stream",
     "text": [
      "400\n",
      "200\n"
     ]
    }
   ],
   "source": [
    "# code for testing decorator chaining\n",
    "def decor1(func):\n",
    "\tdef inner():\n",
    "\t\tx = func()\n",
    "\t\treturn x * x\n",
    "\treturn inner\n",
    "\n",
    "def decor(func):\n",
    "\tdef inner():\n",
    "\t\tx = func()\n",
    "\t\treturn 2 * x\n",
    "\treturn inner\n",
    "\n",
    "@decor1\n",
    "@decor\n",
    "def num():\n",
    "\treturn 10\n",
    "\n",
    "@decor\n",
    "@decor1\n",
    "def num2():\n",
    "\treturn 10\n",
    "\n",
    "print(num())\n",
    "print(num2())"
   ]
  },
  {
   "cell_type": "markdown",
   "metadata": {},
   "source": [
    "### Decorator with parameters"
   ]
  },
  {
   "cell_type": "code",
   "execution_count": null,
   "metadata": {},
   "outputs": [],
   "source": [
    "def decorators(*args, **kwargs):\n",
    "\tdef inner(func):\n",
    "\t\t'''\n",
    "\t\tdo operations with func\n",
    "\t\t'''\n",
    "\t\treturn func\n",
    "\treturn inner #this is the fun_obj mentioned in the above content\n",
    "\n",
    "@decorators(params)\n",
    "def func():\n",
    "\t\"\"\"\n",
    "\t\tfunction implementation\n",
    "\t\"\"\""
   ]
  },
  {
   "cell_type": "code",
   "execution_count": null,
   "metadata": {},
   "outputs": [],
   "source": [
    "# Python code to illustrate\n",
    "# Decorators with parameters in Python\n",
    "\n",
    "def decorator_fun(func):\n",
    "    print(\"Inside decorator\")\n",
    "\n",
    "    def inner(*args, **kwargs):\n",
    "        print(\"Inside inner function\")\n",
    "        print(\"Decorated the function\")\n",
    "\n",
    "        func()\n",
    "\n",
    "    return inner\n",
    "\n",
    "\n",
    "def func_to():\n",
    "\tprint(\"Inside actual function\")\n",
    "\n",
    "# another way of using decorators\n",
    "decorator_fun(func_to)()\n"
   ]
  },
  {
   "cell_type": "code",
   "execution_count": null,
   "metadata": {},
   "outputs": [],
   "source": [
    "# Python code to illustrate\n",
    "# Decorators with parameters in Python\n",
    "\n",
    "def decorator(*args, **kwargs):\n",
    "\tprint(\"Inside decorator\")\n",
    "\n",
    "\tdef inner(func):\n",
    "\n",
    "\t\t# code functionality here\n",
    "\t\tprint(\"Inside inner function\")\n",
    "\t\tprint(\"I like\", kwargs['like'])\n",
    "\n",
    "\t\tfunc()\n",
    "\n",
    "\t# returning inner function\n",
    "\treturn inner\n",
    "\n",
    "@decorator(like = \"geeksforgeeks\")          # This is decorator with parameters examples\n",
    "def my_func():\n",
    "\tprint(\"Inside actual function\")"
   ]
  },
  {
   "cell_type": "code",
   "execution_count": 405,
   "metadata": {},
   "outputs": [
    {
     "name": "stdout",
     "output_type": "stream",
     "text": [
      "I like Geeksforgeeks\n",
      "Summation of values - 27\n",
      "Geeks\n",
      "for\n",
      "Geeks\n"
     ]
    }
   ],
   "source": [
    "# Python code to illustrate\n",
    "# Decorators with parameters in Python\n",
    "\n",
    "def decorator_func(x, y):\n",
    "\n",
    "\tdef Inner(func):\n",
    "\n",
    "\t\tdef wrapper(*args, **kwargs):\n",
    "\t\t\tprint(\"I like Geeksforgeeks\")\n",
    "\t\t\tprint(\"Summation of values - {}\".format(x+y) )\n",
    "\n",
    "\t\t\tfunc(*args, **kwargs)\n",
    "\n",
    "\t\treturn wrapper\n",
    "\treturn Inner\n",
    "\n",
    "\n",
    "# Not using decorator\n",
    "def my_fun(*args):\n",
    "\tfor ele in args:\n",
    "\t\tprint(ele)\n",
    "\n",
    "# another way of using decorators\n",
    "decorator_func(12, 15)(my_fun)('Geeks', 'for', 'Geeks')"
   ]
  },
  {
   "cell_type": "markdown",
   "metadata": {},
   "source": [
    "### Multi-level decorator"
   ]
  },
  {
   "cell_type": "code",
   "execution_count": null,
   "metadata": {},
   "outputs": [],
   "source": [
    "# Python code to illustrate Decorators with parameters in Python (Multi-level Decorators)\n",
    "\n",
    "def decodecorator(dataType, message1, message2):\n",
    "\tdef decorator(fun):\n",
    "\t\tprint(message1)\n",
    "\t\tdef wrapper(*args, **kwargs):\n",
    "\t\t\tprint(message2)\n",
    "\t\t\tif all([type(arg) == dataType for arg in args]):\n",
    "\t\t\t\treturn fun(*args, **kwargs)\n",
    "\t\t\treturn \"Invalid Input\"\n",
    "\t\treturn wrapper\n",
    "\treturn decorator\n",
    "\n",
    "\n",
    "@decodecorator(str, \"Decorator for 'stringJoin'\", \"stringJoin started ...\")\n",
    "def stringJoin(*args):\n",
    "\tst = ''\n",
    "\tfor i in args:\n",
    "\t\tst += i\n",
    "\treturn st\n",
    "\n",
    "\n",
    "@decodecorator(int, \"Decorator for 'summation'\\n\", \"summation started ...\")\n",
    "def summation(*args):\n",
    "\tsumm = 0\n",
    "\tfor arg in args:\n",
    "\t\tsumm += arg\n",
    "\treturn summ\n",
    "\n",
    "\n",
    "print(stringJoin(\"I \", 'like ', \"Geeks\", 'for', \"geeks\"))\n",
    "print()\n",
    "print(summation(19, 2, 8, 533, 67, 981, 119))"
   ]
  },
  {
   "cell_type": "markdown",
   "metadata": {},
   "source": [
    "## Lambda, Filter, Map, Reduce, Accumulate, ZIP functions"
   ]
  },
  {
   "cell_type": "markdown",
   "metadata": {},
   "source": [
    "### Lambda functions\n",
    "Syntax: lambda arguments : expression"
   ]
  },
  {
   "cell_type": "code",
   "execution_count": 407,
   "metadata": {},
   "outputs": [
    {
     "name": "stdout",
     "output_type": "stream",
     "text": [
      "Int formatting: 1.000000e+06\n",
      "float formatting: 999,999.79\n"
     ]
    }
   ],
   "source": [
    "format_numeric = lambda num: f\"{num:e}\" if isinstance(num, int) else f\"{num:,.2f}\"\n",
    "\n",
    "print(\"Int formatting:\", format_numeric(1000000))\n",
    "print(\"float formatting:\", format_numeric(999999.789541235))"
   ]
  },
  {
   "cell_type": "code",
   "execution_count": 408,
   "metadata": {},
   "outputs": [
    {
     "name": "stdout",
     "output_type": "stream",
     "text": [
      "Using function defined with `def` keyword, cube: 125\n",
      "Using lambda function, cube: 125\n"
     ]
    }
   ],
   "source": [
    "# Difference between Lambda functions and Normal functions\n",
    "\n",
    "def cube(y):\n",
    "\treturn y*y*y\n",
    "\n",
    "lambda_cube = lambda y: y*y*y\n",
    "print(\"Using function defined with `def` keyword, cube:\", cube(5))\n",
    "print(\"Using lambda function, cube:\", lambda_cube(5))"
   ]
  },
  {
   "cell_type": "code",
   "execution_count": 409,
   "metadata": {},
   "outputs": [
    {
     "name": "stdout",
     "output_type": "stream",
     "text": [
      "10\n",
      "20\n",
      "30\n",
      "40\n"
     ]
    }
   ],
   "source": [
    "is_even_list = [lambda arg=x: arg * 10 for x in range(1, 5)]\n",
    "for item in is_even_list:\n",
    "\tprint(item())"
   ]
  },
  {
   "cell_type": "code",
   "execution_count": 410,
   "metadata": {},
   "outputs": [
    {
     "name": "stdout",
     "output_type": "stream",
     "text": [
      "2\n"
     ]
    }
   ],
   "source": [
    "Max = lambda a, b : a if(a > b) else b\n",
    "print(Max(1, 2))"
   ]
  },
  {
   "cell_type": "code",
   "execution_count": 411,
   "metadata": {},
   "outputs": [
    {
     "name": "stdout",
     "output_type": "stream",
     "text": [
      "[3, 16, 9]\n"
     ]
    }
   ],
   "source": [
    "List = [[2,3,4],[1, 4, 16, 64],[3, 6, 9, 12]]\n",
    "\n",
    "sortList = lambda x: (sorted(i) for i in x)\n",
    "secondLargest = lambda x, f : [y[len(y)-2] for y in f(x)]\n",
    "res = secondLargest(List, sortList)\n",
    "\n",
    "print(res)"
   ]
  },
  {
   "cell_type": "code",
   "execution_count": 414,
   "metadata": {},
   "outputs": [
    {
     "name": "stdout",
     "output_type": "stream",
     "text": [
      "[<filter object at 0x000001F7E8F28220>]\n"
     ]
    }
   ],
   "source": [
    "# lambda function with filter function\n",
    "ages = [13, 90, 17, 59, 21, 60, 5]\n",
    "adults = list(filter(lambda age: age > 18, ages))\n",
    "\n",
    "print(adults)   # [90, 59, 21, 60]"
   ]
  },
  {
   "cell_type": "code",
   "execution_count": null,
   "metadata": {},
   "outputs": [],
   "source": [
    "# Lambda function with map function\n",
    "li = [5, 7, 22, 97, 54, 62, 77, 23, 73, 61]\n",
    "\n",
    "final_list = list(map(lambda x: x*2, li))\n",
    "print(final_list)       # [10, 14, 44, 194, 108, 124, 154, 46, 146, 122]"
   ]
  },
  {
   "cell_type": "code",
   "execution_count": null,
   "metadata": {},
   "outputs": [],
   "source": [
    "# lambda functiion with map function\n",
    "animals = ['dog', 'cat', 'parrot', 'rabbit']\n",
    "uppered_animals = list(map(lambda animal: animal.upper(), animals))\n",
    "\n",
    "print(uppered_animals)      # ['DOG', 'CAT', 'PARROT', 'RABBIT']"
   ]
  },
  {
   "cell_type": "code",
   "execution_count": 415,
   "metadata": {},
   "outputs": [
    {
     "name": "stdout",
     "output_type": "stream",
     "text": [
      "193\n"
     ]
    }
   ],
   "source": [
    "# lambda function with reduce function\n",
    "from functools import reduce\n",
    "\n",
    "li = [5, 8, 10, 20, 50, 100]\n",
    "sum = reduce((lambda x, y: x + y), li)\n",
    "print(sum)  # 193"
   ]
  },
  {
   "cell_type": "code",
   "execution_count": null,
   "metadata": {},
   "outputs": [],
   "source": [
    "import functools\n",
    "lis = [1, 3, 5, 6, 2, ]\n",
    "print(\"The maximum element of the list is : \", end=\"\")\n",
    "print(functools.reduce(lambda a, b: a if a > b else b, lis))    # The maximum element of the list is : 6"
   ]
  },
  {
   "cell_type": "markdown",
   "metadata": {},
   "source": [
    "### Filter function\n",
    "Syntax: filter(function, sequence)\n",
    "- function: function that tests if each element of a sequence is true or not.\n",
    "- sequence: sequence which needs to be filtered, it can be sets, lists, tuples, or containers of any iterators."
   ]
  },
  {
   "cell_type": "code",
   "execution_count": 416,
   "metadata": {},
   "outputs": [
    {
     "name": "stdout",
     "output_type": "stream",
     "text": [
      "The filtered letters are:\n",
      "e\n",
      "e\n"
     ]
    }
   ],
   "source": [
    "# filter function with custom function\n",
    "\n",
    "# function that filters vowels\n",
    "def fun(variable):\n",
    "\tletters = ['a', 'e', 'i', 'o', 'u']\n",
    "\tif (variable in letters):\n",
    "\t\treturn True\n",
    "\telse:\n",
    "\t\treturn False\n",
    "\n",
    "\n",
    "# sequence\n",
    "sequence = ['g', 'e', 'e', 'j', 'k', 's', 'p', 'r']\n",
    "\n",
    "# using filter function\n",
    "filtered = filter(fun, sequence)\n",
    "\n",
    "print('The filtered letters are:')\n",
    "for s in filtered:\n",
    "\tprint(s)\n",
    "\n",
    "# Result:\n",
    "# The filtered letters are:\n",
    "# e\n",
    "# e"
   ]
  },
  {
   "cell_type": "code",
   "execution_count": null,
   "metadata": {},
   "outputs": [],
   "source": [
    "# Filter function with lambda function\n",
    "# a list contains both even and odd numbers.\n",
    "seq = [0, 1, 2, 3, 5, 8, 13]\n",
    "\n",
    "# result contains odd numbers of the list\n",
    "result = filter(lambda x: x % 2 != 0, seq)\n",
    "print(list(result))\n",
    "\n",
    "# result contains even numbers of the list\n",
    "result = filter(lambda x: x % 2 == 0, seq)\n",
    "print(list(result))\n",
    "\n",
    "# Result\n",
    "# [1, 3, 5, 13]\n",
    "# [0, 2, 8]"
   ]
  },
  {
   "cell_type": "code",
   "execution_count": null,
   "metadata": {},
   "outputs": [],
   "source": [
    "# Filter function with lambda function and with custom function\n",
    "# Define a function to check if a number is a multiple of 3\n",
    "def is_multiple_of_3(num):\n",
    "\treturn num % 3 == 0\n",
    "\n",
    "\n",
    "# Create a list of numbers to filter\n",
    "numbers = [1, 2, 3, 4, 5, 6, 7, 8, 9, 10]\n",
    "\n",
    "# Use filter and a lambda function to filter the list of numbers and only keep the ones that are multiples of 3\n",
    "result = list(filter(lambda x: is_multiple_of_3(x), numbers))\n",
    "\n",
    "# Print the result\n",
    "print(result)       # [3, 6, 9]"
   ]
  },
  {
   "cell_type": "code",
   "execution_count": null,
   "metadata": {},
   "outputs": [],
   "source": [
    "# Using filter and lambda\n",
    "for response in filter(lambda response: isinstance(response, EmailResponse), responses):\n",
    "    self.send_email(response)"
   ]
  },
  {
   "cell_type": "markdown",
   "metadata": {},
   "source": [
    "### Map function\n",
    "Syntax: map(fun, iter)\n",
    "- fun: It is a function to which map passes each element of given iterable.\n",
    "- iter: It is iterable which is to be mapped."
   ]
  },
  {
   "cell_type": "code",
   "execution_count": null,
   "metadata": {},
   "outputs": [],
   "source": [
    "# Python program to demonstrate working\n",
    "# of map.\n",
    "\n",
    "# Return double of n\n",
    "def addition(n):\n",
    "\treturn n + n\n",
    "\n",
    "# We double all numbers using map()\n",
    "numbers = (1, 2, 3, 4)\n",
    "result = map(addition, numbers)\n",
    "print(list(result)) # [2, 4, 6, 8]"
   ]
  },
  {
   "cell_type": "code",
   "execution_count": null,
   "metadata": {},
   "outputs": [],
   "source": [
    "# map function with lambda expression\n",
    "\n",
    "# Double all numbers using map and lambda\n",
    "numbers = (1, 2, 3, 4)\n",
    "result = map(lambda x: x + x, numbers)\n",
    "print(list(result))     # [2, 4, 6, 8]"
   ]
  },
  {
   "cell_type": "code",
   "execution_count": null,
   "metadata": {},
   "outputs": [],
   "source": [
    "# Add two lists using map and lambda\n",
    "\n",
    "numbers1 = [1, 2, 3]\n",
    "numbers2 = [4, 5, 6]\n",
    "\n",
    "result = map(lambda x, y: x + y, numbers1, numbers2)\n",
    "print(list(result))     # [5, 7, 9]"
   ]
  },
  {
   "cell_type": "code",
   "execution_count": null,
   "metadata": {},
   "outputs": [],
   "source": [
    "# modify string using map function\n",
    "# List of strings\n",
    "l = ['sat', 'bat', 'cat', 'mat']\n",
    "\n",
    "# map() can listify the list of strings individually\n",
    "test = list(map(list, l))\n",
    "print(test)     # [['s', 'a', 't'], ['b', 'a', 't'], ['c', 'a', 't'], ['m', 'a', 't']]"
   ]
  },
  {
   "cell_type": "code",
   "execution_count": null,
   "metadata": {},
   "outputs": [],
   "source": [
    "# if statement with map function\n",
    "# Define a function that doubles even numbers and leaves odd numbers as is\n",
    "def double_even(num):\n",
    "\tif num % 2 == 0:\n",
    "\t\treturn num * 2\n",
    "\telse:\n",
    "\t\treturn num\n",
    "\n",
    "# Create a list of numbers to apply the function to\n",
    "numbers = [1, 2, 3, 4, 5]\n",
    "\n",
    "# Use map to apply the function to each element in the list\n",
    "result = list(map(double_even, numbers))\n",
    "\n",
    "# Print the result\n",
    "print(result) # [1, 4, 3, 8, 5]\n"
   ]
  },
  {
   "cell_type": "markdown",
   "metadata": {},
   "source": [
    "### Reduce function\n",
    "reduce(fun, seq)\n",
    "- function: function that tests if each element of a sequence is true or not.\n",
    "- sequence: sequence which needs to be filtered, it can be sets, lists, tuples, or containers of any iterators."
   ]
  },
  {
   "cell_type": "code",
   "execution_count": 420,
   "metadata": {},
   "outputs": [
    {
     "name": "stdout",
     "output_type": "stream",
     "text": [
      "The sum of the list elements is : 17\n",
      "The maximum element of the list is : 6\n"
     ]
    }
   ],
   "source": [
    "# python code to demonstrate working of reduce()\n",
    "\n",
    "# importing functools for reduce()\n",
    "import functools\n",
    "\n",
    "# initializing list\n",
    "lis = [1, 3, 5, 6, 2]\n",
    "\n",
    "# using reduce to compute sum of list\n",
    "print(\"The sum of the list elements is : \", end=\"\")\n",
    "print(functools.reduce(lambda a, b: a+b, lis))\n",
    "\n",
    "# using reduce to compute maximum element from list\n",
    "print(\"The maximum element of the list is : \", end=\"\")\n",
    "print(functools.reduce(lambda a, b: a if a > b else b, lis))"
   ]
  },
  {
   "cell_type": "code",
   "execution_count": 421,
   "metadata": {},
   "outputs": [
    {
     "name": "stdout",
     "output_type": "stream",
     "text": [
      "The sum of the list elements is : 17\n",
      "The product of list elements is : 180\n",
      "The concatenated product is : geeksforgeeks\n"
     ]
    }
   ],
   "source": [
    "# reduce() using operator functions\n",
    "# operator function to achieve the similar functionality as with lambda functions and makes the code more readable.\n",
    "\n",
    "# importing functools for reduce()\n",
    "import functools\n",
    "\n",
    "# importing operator for operator functions\n",
    "import operator\n",
    "\n",
    "# initializing list\n",
    "lis = [1, 3, 5, 6, 2]\n",
    "\n",
    "# using reduce to compute sum of list\n",
    "# using operator functions\n",
    "print(\"The sum of the list elements is : \", end=\"\")\n",
    "print(functools.reduce(operator.add, lis))\n",
    "\n",
    "# using reduce to compute product\n",
    "# using operator functions\n",
    "print(\"The product of list elements is : \", end=\"\")\n",
    "print(functools.reduce(operator.mul, lis))\n",
    "\n",
    "# using reduce to concatenate string\n",
    "print(\"The concatenated product is : \", end=\"\")\n",
    "print(functools.reduce(operator.add, [\"geeks\", \"for\", \"geeks\"]))"
   ]
  },
  {
   "cell_type": "code",
   "execution_count": null,
   "metadata": {},
   "outputs": [],
   "source": [
    "# Reduce function with three parameters\n",
    "# Python program to illustrate sum of two numbers.\n",
    "def reduce(function, iterable, initializer=None):\n",
    "\tit = iter(iterable)\n",
    "\tif initializer is None:\n",
    "\t\tvalue = next(it)\n",
    "\telse:\n",
    "\t\tvalue = initializer\n",
    "\tfor element in it:\n",
    "\t\tvalue = function(value, element)\n",
    "\treturn value\n",
    "\n",
    "# Note that the initializer, when not None, is used as the first value instead of the first value from iterable , and after the whole iterable.\n",
    "tup = (2,1,0,2,2,0,0,2)\n",
    "print(reduce(lambda x, y: x+y, tup,6))  # 15"
   ]
  },
  {
   "cell_type": "markdown",
   "metadata": {},
   "source": [
    "### Accumulate function\n",
    "reduce() vs accumulate() \n",
    "\n",
    "- Both reduce() and accumulate() can be used to calculate the summation of a sequence elements. But there are differences in the implementation aspects in both of these.  \n",
    "- reduce() is defined in “functools” module, accumulate() in “itertools” module.\n",
    "- reduce() stores the intermediate result and only returns the final summation value. Whereas, accumulate() returns a iterator containing the intermediate results. The last number of the iterator returned is summation value of the list.\n",
    "- reduce(fun, seq) takes function as 1st and sequence as 2nd argument. In contrast accumulate(seq, fun) takes sequence as 1st argument and function as 2nd argument."
   ]
  },
  {
   "cell_type": "code",
   "execution_count": null,
   "metadata": {},
   "outputs": [],
   "source": [
    "# python code to demonstrate summation\n",
    "# using reduce() and accumulate()\n",
    "\n",
    "# importing itertools for accumulate()\n",
    "import itertools\n",
    "\n",
    "# importing functools for reduce()\n",
    "import functools\n",
    "\n",
    "# initializing list\n",
    "lis = [1, 3, 4, 10, 4]\n",
    "\n",
    "# printing summation using accumulate()\n",
    "print(\"The summation of list using accumulate is :\", end=\"\")\n",
    "print(list(itertools.accumulate(lis, lambda x, y: x+y)))\n",
    "\n",
    "# printing summation using reduce()\n",
    "print(\"The summation of list using reduce is :\", end=\"\")\n",
    "print(functools.reduce(lambda x, y: x+y, lis))\n",
    "\n",
    "# Result\n",
    "# The summation of list using accumulate is :[1, 4, 8, 18, 22]\n",
    "# The summation of list using reduce is :22"
   ]
  },
  {
   "cell_type": "markdown",
   "metadata": {},
   "source": [
    "### Zip function\n",
    "Syntax :  zip(*iterators)\n",
    "- Parameters : Python iterables or containers ( list, string etc )\n",
    "- Return Value : Returns a single iterator object."
   ]
  },
  {
   "cell_type": "code",
   "execution_count": 423,
   "metadata": {},
   "outputs": [
    {
     "name": "stdout",
     "output_type": "stream",
     "text": [
      "{('Astha', 2), ('Manjeet', 4), ('Nikhil', 1), ('Shambhavi', 3)}\n"
     ]
    }
   ],
   "source": [
    "name = [ \"Manjeet\", \"Nikhil\", \"Shambhavi\", \"Astha\" ]\n",
    "roll_no = [ 4, 1, 3, 2 ]\n",
    "\n",
    "# using zip() to map values\n",
    "mapped = zip(name, roll_no)\n",
    "\n",
    "print(set(mapped))"
   ]
  },
  {
   "cell_type": "code",
   "execution_count": 424,
   "metadata": {},
   "outputs": [
    {
     "name": "stdout",
     "output_type": "stream",
     "text": [
      "0 Mukesh 24\n",
      "1 Roni 50\n",
      "2 Chari 18\n"
     ]
    }
   ],
   "source": [
    "# zip function with enumerate\n",
    "names = ['Mukesh', 'Roni', 'Chari']\n",
    "ages = [24, 50, 18]\n",
    "\n",
    "for i, (name, age) in enumerate(zip(names, ages)):\n",
    "\tprint(i, name, age)"
   ]
  },
  {
   "cell_type": "code",
   "execution_count": 425,
   "metadata": {},
   "outputs": [
    {
     "name": "stdout",
     "output_type": "stream",
     "text": [
      "{'GEEKS': 2175, 'For': 1127, 'geeks': 2750}\n"
     ]
    }
   ],
   "source": [
    "# zip function with dictionary\n",
    "stocks = ['GEEKS', 'For', 'geeks']\n",
    "prices = [2175, 1127, 2750]\n",
    "\n",
    "new_dict = {stocks: prices for stocks,\n",
    "\t\t\tprices in zip(stocks, prices)}\n",
    "print(new_dict)"
   ]
  },
  {
   "cell_type": "code",
   "execution_count": null,
   "metadata": {},
   "outputs": [],
   "source": [
    "# zip with tuple\n",
    "tuple1 = (1, 2, 3)\n",
    "tuple2 = ('a', 'b', 'c')\n",
    "zipped = zip(tuple1, tuple2)\n",
    "result = list(zipped)\n",
    "print(result)       # [(1, 'a'), (2, 'b'), (3, 'c')]"
   ]
  },
  {
   "cell_type": "code",
   "execution_count": null,
   "metadata": {},
   "outputs": [],
   "source": [
    "# zip with multiple iterables\n",
    "list1 = [1, 2, 3]\n",
    "list2 = ['a', 'b', 'c']\n",
    "list3 = ['x', 'y', 'z']\n",
    "zipped = zip(list1, list2, list3)\n",
    "result = list(zipped)\n",
    "print(result)       # [(1, 'a', 'x'), (2, 'b', 'y'), (3, 'c', 'z')]"
   ]
  },
  {
   "cell_type": "code",
   "execution_count": null,
   "metadata": {},
   "outputs": [],
   "source": [
    "# zip with unequal size\n",
    "# Define lists for 'persons', 'genders', and a tuple for 'ages'\n",
    "persons = [\"Chandler\", \"Monica\", \"Ross\", \"Rachel\", \"Joey\", \"Phoebe\", \"Joanna\"]\n",
    "genders = [\"Male\", \"Female\", \"Male\", \"Female\", \"Male\", \"Female\", \"Female\"]\n",
    "ages = (35, 36, 38, 34)\n",
    "\n",
    "# Create a zipped object combining the 'persons' and 'genders'\n",
    "#lists along with the 'ages' tuple\n",
    "zipped_result = zip(persons, genders, ages)\n",
    "\n",
    "# Print the zipped object\n",
    "print(\"Zipped result as a list:\")\n",
    "for i in list(zipped_result):\n",
    "print(i)\n",
    "\n",
    "# result:\n",
    "# Zipped result as a list:\n",
    "# ('Chandler', 'Male', 35)\n",
    "# ('Monica', 'Female', 36)\n",
    "# ('Ross', 'Male', 38)\n",
    "# ('Rachel', 'Female', 34)"
   ]
  },
  {
   "cell_type": "code",
   "execution_count": null,
   "metadata": {},
   "outputs": [],
   "source": [
    "# unzipping using zip\n",
    "# initializing lists\n",
    "name = [\"Manjeet\", \"Nikhil\", \"Shambhavi\", \"Astha\"]\n",
    "roll_no = [4, 1, 3, 2]\n",
    "marks = [40, 50, 60, 70]\n",
    "\n",
    "# using zip() to map values\n",
    "mapped = zip(name, roll_no, marks)\n",
    "\n",
    "# converting values to print as list\n",
    "mapped = list(mapped)\n",
    "\n",
    "# printing resultant values\n",
    "print(\"The zipped result is : \", end=\"\")\n",
    "print(mapped)\n",
    "\n",
    "print(\"\\n\")\n",
    "\n",
    "# unzipping values\n",
    "namz, roll_noz, marksz = zip(*mapped)\n",
    "\n",
    "print(\"The unzipped result: \\n\", end=\"\")\n",
    "\n",
    "# printing initial lists\n",
    "print(\"The name list is : \", end=\"\")\n",
    "print(namz)\n",
    "\n",
    "print(\"The roll_no list is : \", end=\"\")\n",
    "print(roll_noz)\n",
    "\n",
    "print(\"The marks list is : \", end=\"\")\n",
    "print(marksz)\n",
    "\n",
    "# Result:\n",
    "# The zipped result is : [('Manjeet', 4, 40), ('Nikhil', 1, 50),\n",
    "# ('Shambhavi', 3, 60), ('Astha', 2, 70)]\n",
    "# The unzipped result:\n",
    "# The name list is : ('Manjeet', 'Nikhil', 'Shambhavi', 'Astha')\n",
    "# The roll_no list is : (4, 1, 3, 2)\n",
    "# The marks list is : (40, 50, 60, 70)"
   ]
  },
  {
   "cell_type": "code",
   "execution_count": 426,
   "metadata": {},
   "outputs": [
    {
     "name": "stdout",
     "output_type": "stream",
     "text": [
      "Player : Sachin\t Score : 100\n",
      "Player : Sehwag\t Score : 15\n",
      "Player : Gambhir\t Score : 17\n",
      "Player : Dravid\t Score : 28\n",
      "Player : Raina\t Score : 43\n"
     ]
    }
   ],
   "source": [
    "# zip with python loops\n",
    "# initializing list of players.\n",
    "players = [\"Sachin\", \"Sehwag\", \"Gambhir\", \"Dravid\", \"Raina\"]\n",
    "\n",
    "# initializing their scores\n",
    "scores = [100, 15, 17, 28, 43]\n",
    "\n",
    "# printing players and scores.\n",
    "for pl, sc in zip(players, scores):\n",
    "\tprint(\"Player : %s\t Score : %d\" % (pl, sc))"
   ]
  },
  {
   "cell_type": "markdown",
   "metadata": {},
   "source": [
    "## Iter, Next, Range, Min, Max functions"
   ]
  },
  {
   "cell_type": "markdown",
   "metadata": {},
   "source": [
    "### iter function\n",
    "Syntax : iter(obj, sentinel)\n",
    "- obj : Object which has to be converted to iterable ( usually an iterator ).\n",
    "- sentinel : value used to represent end of sequence."
   ]
  },
  {
   "cell_type": "code",
   "execution_count": null,
   "metadata": {},
   "outputs": [],
   "source": [
    "# Python3 code to demonstrate\n",
    "# working of iter()\n",
    "\n",
    "# initializing list\n",
    "lis1 = [1, 2, 3, 4, 5]\n",
    "\n",
    "# printing type\n",
    "print(\"The list is of type : \" + str(type(lis1)))\n",
    "\n",
    "# converting list using iter()\n",
    "lis1 = iter(lis1)\n",
    "\n",
    "# printing type\n",
    "print(\"The iterator is of type : \" + str(type(lis1)))\n",
    "\n",
    "# using next() to print iterator values\n",
    "print(next(lis1))\n",
    "print(next(lis1))\n",
    "print(next(lis1))\n",
    "print(next(lis1))\n",
    "print(next(lis1))\n",
    "\n",
    "# Result:\n",
    "# The list is of type : <class 'list'>\n",
    "# The iterator is of type : <class 'list_iterator'>\n",
    "# 1\n",
    "# 2\n",
    "# 3\n",
    "# 4\n",
    "# 5"
   ]
  },
  {
   "cell_type": "markdown",
   "metadata": {},
   "source": [
    "### next function\n",
    "Syntax : next(iter, stopdef)\n",
    "\n",
    "- iter : The iterator over which iteration is to be performed.\n",
    "- stopdef : Default value to be printed if we reach end of iterator."
   ]
  },
  {
   "cell_type": "code",
   "execution_count": 427,
   "metadata": {},
   "outputs": [
    {
     "name": "stdout",
     "output_type": "stream",
     "text": [
      "1\n"
     ]
    }
   ],
   "source": [
    "l = [1, 2, 3]\n",
    "l_iter = iter(l)\n",
    "print(next(l_iter))"
   ]
  },
  {
   "cell_type": "code",
   "execution_count": null,
   "metadata": {},
   "outputs": [],
   "source": [
    "# Sample dictionary with a 'source' key containing a list\n",
    "result_with_source = {'source': [10, 20, 30, 40, 50]}\n",
    "\n",
    "# Retrieve the first item from 'source' or return None if it's empty\n",
    "first_item = next(iter(result_with_source.get('source') or []), None)\n",
    "\n",
    "# Print the first item\n",
    "print(\"First Item:\", first_item)  # Output: First Item: 10\n",
    "\n",
    "# Sample dictionary with an empty 'source' key\n",
    "result_empty_source = {'source': []}\n",
    "\n",
    "# Retrieve the first item from 'source' or return None if it's empty\n",
    "first_item_empty = next(iter(result_empty_source.get('source') or []), None)\n",
    "\n",
    "# Print the first item (which is None in this case)\n",
    "print(\"First Item from Empty Source:\", first_item_empty)  # Output: First Item from Empty Source: None\n",
    "\n",
    "# Sample dictionary without a 'source' key\n",
    "result_no_source = {'data': [100, 200, 300]}\n",
    "\n",
    "# Retrieve the first item from 'source' or return None if it's not present\n",
    "first_item_no_source = next(iter(result_no_source.get('source') or []), None)\n",
    "\n",
    "# Print the first item (which is None in this case)\n",
    "print(\"First Item from No Source:\", first_item_no_source)  # Output: First Item from No Source: None"
   ]
  },
  {
   "cell_type": "code",
   "execution_count": null,
   "metadata": {},
   "outputs": [],
   "source": [
    "# Create an iterable (list in this case)\n",
    "my_list = [10, 20, 30, 40, 50]\n",
    "\n",
    "# Create an iterator from the iterable\n",
    "my_iterator = iter(my_list)\n",
    "\n",
    "# Fetch the first item\n",
    "first_element = next(my_iterator)\n",
    "print(\"First Element:\", first_element)\n",
    "\n",
    "# Fetch the second item\n",
    "second_element = next(my_iterator)\n",
    "print(\"Second Element:\", second_element)\n",
    "\n",
    "# Fetch the third item\n",
    "third_element = next(my_iterator)\n",
    "print(\"Third Element:\", third_element)"
   ]
  },
  {
   "cell_type": "code",
   "execution_count": 428,
   "metadata": {},
   "outputs": [
    {
     "name": "stdout",
     "output_type": "stream",
     "text": [
      "1\n",
      "2\n",
      "3\n"
     ]
    }
   ],
   "source": [
    "# define a list\n",
    "l = [1, 2, 3]\n",
    "# create list_iterator\n",
    "l_iter = iter(l)\n",
    "\n",
    "while True:\n",
    "\t# item will be \"end\" if iteration is complete\n",
    "\titem = next(l_iter, \"end\")\n",
    "\tif item == \"end\":\n",
    "\t\tbreak\n",
    "\tprint(item)"
   ]
  },
  {
   "cell_type": "code",
   "execution_count": 429,
   "metadata": {},
   "outputs": [
    {
     "name": "stdout",
     "output_type": "stream",
     "text": [
      "First item in List: 1\n",
      "Second item in List: 2\n"
     ]
    }
   ],
   "source": [
    "list1 = [1, 2, 3, 4, 5]\n",
    "\n",
    "# converting list to iterator\n",
    "l_iter = iter(list1)\n",
    "\n",
    "print(\"First item in List:\", next(l_iter))\n",
    "print(\"Second item in List:\", next(l_iter))"
   ]
  },
  {
   "cell_type": "code",
   "execution_count": 430,
   "metadata": {},
   "outputs": [
    {
     "name": "stdout",
     "output_type": "stream",
     "text": [
      "1\n",
      "No more element\n"
     ]
    }
   ],
   "source": [
    "list1 = [1]\n",
    "\n",
    "# converting list to iterator\n",
    "list_iter = iter(list1)\n",
    "\n",
    "print(next(list_iter))\n",
    "print(next(list_iter, \"No more element\"))"
   ]
  },
  {
   "cell_type": "markdown",
   "metadata": {},
   "source": [
    "### range function\n",
    "Syntax : range(start, stop, step)\n",
    "- start : Element from which sequence constructed has to start. (default:0) \n",
    "- stop : Element number at which numbers in sequence have to end (exclusive). \n",
    "- step : Can be +ve or -ve number, denoting the elements need to be skipped during filling of list. (default:1)"
   ]
  },
  {
   "cell_type": "code",
   "execution_count": null,
   "metadata": {},
   "outputs": [],
   "source": [
    "# Python3 code to demonstrate the working of range() without step\n",
    "\n",
    "# using range()\n",
    "lis1 = list(range(6))\n",
    "lis2 = list(range(3, 6))\n",
    "lis3 = list(range(-6, 2))\n",
    "\n",
    "# initializing list using range, 1 parameter only stop parameter\n",
    "print(\"List generated using 1 parameter : \" + str(lis1))\n",
    "\n",
    "# initializing list using range, 2 parameters only step and stop parameters\n",
    "print(\"List generated using 2 parameters : \" + str(lis2))\n",
    "\n",
    "# initializing list using range, 2 parameter only step and stop parameters\n",
    "print(\"List generated using 2 parameters with negatives : \" + str(lis3))\n",
    "\n",
    "# Result:\n",
    "# List generated using 1 parameter : [0, 1, 2, 3, 4, 5]\n",
    "# List generated using 2 parameters : [3, 4, 5]\n",
    "# List generated using 2 parameters with negatives : [-6, -5, -4, -3, -2, -1, 0, 1]"
   ]
  },
  {
   "cell_type": "code",
   "execution_count": null,
   "metadata": {},
   "outputs": [],
   "source": [
    "# Python 3 code to demonstrate the working of range() with step\n",
    "\n",
    "# initializing list using range using step\n",
    "print(\"List generated using step : \" + str(list(range(3, 10, 2))))\n",
    "\n",
    "# initializing list using range using negative step\n",
    "print(\"List generated using negative step : \" + str(list(range(10, -5, -3))))\n",
    "\n",
    "# initializing list using range using negative step, value constraints fail case\n",
    "print(\"List generated using step, value constraints fail : \" + str(list(range(10, -5, 3))))\n",
    "\n",
    "# initializing list using range using 0 step error\n",
    "print(\"List generated using 0 step : \" + str(list(range(3, 7, 0))))\n",
    "\n",
    "# Result:\n",
    "# List generated using step : [3, 5, 7, 9]\n",
    "# List generated using negative step : [10, 7, 4, 1, -2]\n",
    "# List generated using step, value constraints fail : []"
   ]
  },
  {
   "cell_type": "markdown",
   "metadata": {},
   "source": [
    "## Dunder methods\n",
    "\n",
    "Object Creation and Destruction\n",
    "- __init__(self, ...): Constructor, called when a new instance is created.\n",
    "- __new__(cls, ...): Called to create a new instance of the class.\n",
    "- __del__(self): Destructor, called when an instance is about to be destroyed.\n",
    "\n",
    "Representation\n",
    "- __repr__(self): Official string representation of an object.\n",
    "- __str__(self): Informal or nicely printable string representation of an object.\n",
    "\n",
    "Comparison and Equality\n",
    "- __eq__(self, other): Defines behavior for the equality operator ==.\n",
    "- __ne__(self, other): Defines behavior for the inequality operator !=.\n",
    "- __lt__(self, other): Defines behavior for the less-than operator <.\n",
    "- __gt__(self, other): Defines behavior for the greater-than operator >.\n",
    "- __le__(self, other): Defines behavior for the less-than-or-equal-to operator <=.\n",
    "- __ge__(self, other): Defines behavior for the greater-than-or-equal-to operator >=.\n",
    "\n",
    "Arithmetic Operators\n",
    "- __add__(self, other): Addition +.\n",
    "- __sub__(self, other): Subtraction -.\n",
    "- __mul__(self, other): Multiplication *.\n",
    "- __truediv__(self, other): Division /.\n",
    "- __floordiv__(self, other): Floor Division //.\n",
    "- __mod__(self, other): Modulus %.\n",
    "- __pow__(self, other[, modulo]): Power **.\n",
    "- __neg__(self): Negation -.\n",
    "- __pos__(self): Unary plus +.\n",
    "\n",
    "Type Conversion\n",
    "- __int__(self): Conversion to integer.\n",
    "- __float__(self): Conversion to float.\n",
    "- __complex__(self): Conversion to complex.\n",
    "- __bool__(self): Conversion to boolean.\n",
    "\n",
    "Container Types\n",
    "- __len__(self): The length of the container.\n",
    "- __getitem__(self, key): Accessing an item using indexing.\n",
    "- __setitem__(self, key, value): Assigning to an item using indexing.\n",
    "- __delitem__(self, key): Deleting an item using indexing.\n",
    "- __iter__(self): Returning an iterator from the object.\n",
    "- __contains__(self, item): Check for containment using in.\n",
    "\n",
    "Attribute Access\n",
    "- __getattr__(self, name): Defines behavior when an attribute is accessed.\n",
    "- __setattr__(self, name, value): Defines behavior when an attribute is assigned.\n",
    "- __delattr__(self, name): Defines behavior when an attribute is deleted.\n",
    "\n",
    "Callable Objects\n",
    "- __call__(self, ...): Allows an instance of the class to be called as a function.\n",
    "\n",
    "Context Managers\n",
    "- __enter__(self): Entering a with block.\n",
    "- __exit__(self, exc_type, exc_value, traceback): Exiting a with block."
   ]
  },
  {
   "cell_type": "markdown",
   "metadata": {},
   "source": [
    "### Magic methods"
   ]
  },
  {
   "cell_type": "code",
   "execution_count": 432,
   "metadata": {},
   "outputs": [
    {
     "name": "stdout",
     "output_type": "stream",
     "text": [
      "True\n",
      "False\n"
     ]
    }
   ],
   "source": [
    "class EquivalenceClass(object):\n",
    "\tdef __eq__(self, other):\n",
    "\t\treturn type(self) == type(other)\n",
    "\n",
    "print(EquivalenceClass() == EquivalenceClass())\n",
    "print(EquivalenceClass() == 'MyClass')\n"
   ]
  },
  {
   "cell_type": "markdown",
   "metadata": {},
   "source": [
    "### Creation or Construction magic methods\n",
    "__init__"
   ]
  },
  {
   "cell_type": "code",
   "execution_count": 433,
   "metadata": {},
   "outputs": [
    {
     "name": "stdout",
     "output_type": "stream",
     "text": [
      "Executing the __init__ method.\n"
     ]
    }
   ],
   "source": [
    "# Constructor\n",
    "class InitClass(object):\n",
    "\tdef __init__(self):\n",
    "\t\tprint('Executing the __init__ method.')\n",
    "\n",
    "ic = InitClass()"
   ]
  },
  {
   "cell_type": "code",
   "execution_count": 434,
   "metadata": {},
   "outputs": [
    {
     "name": "stdout",
     "output_type": "stream",
     "text": [
      "Number:  2\n",
      "Square:  4\n"
     ]
    }
   ],
   "source": [
    "class Square(object):\n",
    "\tdef __init__(self, number = 2):\n",
    "\t\tself._number = number\n",
    "\n",
    "\tdef square(self):\n",
    "\t\treturn self._number**2\n",
    "\n",
    "s = Square()\n",
    "print('Number: % i' % s._number)\n",
    "print('Square: % i' % s.square())"
   ]
  },
  {
   "cell_type": "markdown",
   "metadata": {},
   "source": [
    "__new__"
   ]
  },
  {
   "cell_type": "code",
   "execution_count": 435,
   "metadata": {},
   "outputs": [
    {
     "name": "stdout",
     "output_type": "stream",
     "text": [
      "Creating Instance\n",
      "Students({'_idNo': 1, '_grade': 7})\n",
      "Creating Instance\n",
      "None\n"
     ]
    }
   ],
   "source": [
    "class Students(object):\n",
    "\tdef __init__(self, idNo, grade):\n",
    "\t\tself._idNo = idNo\n",
    "\t\tself._grade = grade\n",
    "\n",
    "\tdef __new__(cls, idNo, grade):\n",
    "\t\tprint(\"Creating Instance\")\n",
    "\t\tinstance = super(Students, cls).__new__(cls)\n",
    "\t\tif 5 <= grade <= 10:\n",
    "\t\t\treturn instance\n",
    "\t\telse:\n",
    "\t\t\treturn None\n",
    "\n",
    "\tdef __str__(self):\n",
    "\t\treturn '{0}({1})'.format(self.__class__.__name__, self.__dict__)\n",
    "\n",
    "\n",
    "stud1 = Students(1, 7)\n",
    "print(stud1)\n",
    "\n",
    "stud2 = Students(2, 12)\n",
    "print(stud2)"
   ]
  },
  {
   "cell_type": "markdown",
   "metadata": {},
   "source": [
    "### Destruction magic methods\n",
    "__del__"
   ]
  },
  {
   "cell_type": "code",
   "execution_count": 436,
   "metadata": {},
   "outputs": [
    {
     "name": "stdout",
     "output_type": "stream",
     "text": [
      "Destroyed\n"
     ]
    },
    {
     "data": {
      "text/plain": [
       "'Immutable String - not assigned to a variable'"
      ]
     },
     "execution_count": 436,
     "metadata": {},
     "output_type": "execute_result"
    }
   ],
   "source": [
    "class MyClass(object):\n",
    "\tdef __del__(self):\n",
    "\t\tprint('Destroyed')\n",
    "\n",
    "MyClass()\n",
    "'Immutable String - not assigned to a variable'"
   ]
  },
  {
   "cell_type": "markdown",
   "metadata": {},
   "source": [
    "### Type conversion magic method\n",
    "__str__"
   ]
  },
  {
   "cell_type": "code",
   "execution_count": 437,
   "metadata": {},
   "outputs": [
    {
     "name": "stdout",
     "output_type": "stream",
     "text": [
      "My String !\n"
     ]
    }
   ],
   "source": [
    "class MyString(object):\n",
    "\tdef __str__(self):\n",
    "\t\treturn 'My String !'\n",
    "\n",
    "print(str(MyString()))"
   ]
  },
  {
   "cell_type": "code",
   "execution_count": 438,
   "metadata": {},
   "outputs": [
    {
     "name": "stdout",
     "output_type": "stream",
     "text": [
      "Point(3, 4)\n"
     ]
    }
   ],
   "source": [
    "class Point:\n",
    "    def __init__(self, x, y):\n",
    "        self.x = x\n",
    "        self.y = y\n",
    "\n",
    "    def __str__(self):\n",
    "        return f\"Point({self.x}, {self.y})\"\n",
    "\n",
    "# Usage\n",
    "p = Point(3, 4)\n",
    "print(p)  # Output: Point(3, 4)"
   ]
  },
  {
   "cell_type": "code",
   "execution_count": 439,
   "metadata": {},
   "outputs": [
    {
     "name": "stdout",
     "output_type": "stream",
     "text": [
      "Person(name: Alice, age: 30)\n"
     ]
    }
   ],
   "source": [
    "class Person:\n",
    "    def __init__(self, name, age):\n",
    "        self.name = name\n",
    "        self.age = age\n",
    "\n",
    "    def __str__(self):\n",
    "        return f\"Person(name: {self.name}, age: {self.age})\"\n",
    "\n",
    "# Usage\n",
    "person = Person(\"Alice\", 30)\n",
    "print(person)  # Output: Person(name: Alice, age: 30)"
   ]
  },
  {
   "cell_type": "code",
   "execution_count": 440,
   "metadata": {},
   "outputs": [
    {
     "name": "stdout",
     "output_type": "stream",
     "text": [
      "'1984' by George Orwell\n"
     ]
    }
   ],
   "source": [
    "class Book:\n",
    "    def __init__(self, title, author):\n",
    "        self.title = title\n",
    "        self.author = author\n",
    "\n",
    "    def __str__(self):\n",
    "        return f\"'{self.title}' by {self.author}\"\n",
    "\n",
    "# Usage\n",
    "book = Book(\"1984\", \"George Orwell\")\n",
    "print(book)  # Output: '1984' by George Orwell"
   ]
  },
  {
   "cell_type": "markdown",
   "metadata": {},
   "source": [
    "### Type conversion magic method\n",
    "__int__"
   ]
  },
  {
   "cell_type": "code",
   "execution_count": 441,
   "metadata": {},
   "outputs": [
    {
     "name": "stdout",
     "output_type": "stream",
     "text": [
      "1075\n"
     ]
    }
   ],
   "source": [
    "class Money:\n",
    "    def __init__(self, dollars, cents):\n",
    "        self.dollars = dollars\n",
    "        self.cents = cents\n",
    "\n",
    "    def __int__(self):\n",
    "        return self.dollars * 100 + self.cents\n",
    "\n",
    "# Usage\n",
    "wallet = Money(10, 75)\n",
    "print(int(wallet))  # Output: 1075 (cents)\n"
   ]
  },
  {
   "cell_type": "code",
   "execution_count": 442,
   "metadata": {},
   "outputs": [
    {
     "name": "stdout",
     "output_type": "stream",
     "text": [
      "150\n"
     ]
    }
   ],
   "source": [
    "class Time:\n",
    "    def __init__(self, hours, minutes):\n",
    "        self.hours = hours\n",
    "        self.minutes = minutes\n",
    "\n",
    "    def __int__(self):\n",
    "        return self.hours * 60 + self.minutes\n",
    "\n",
    "# Usage\n",
    "meeting_time = Time(2, 30)\n",
    "print(int(meeting_time))  # Output: 150 (minutes)"
   ]
  },
  {
   "cell_type": "code",
   "execution_count": 443,
   "metadata": {},
   "outputs": [
    {
     "name": "stdout",
     "output_type": "stream",
     "text": [
      "7\n"
     ]
    }
   ],
   "source": [
    "class Coordinate:\n",
    "    def __init__(self, x, y):\n",
    "        self.x = x\n",
    "        self.y = y\n",
    "\n",
    "    def __int__(self):\n",
    "        return abs(self.x) + abs(self.y)\n",
    "\n",
    "# Usage\n",
    "point = Coordinate(-3, 4)\n",
    "print(int(point))  # Output: 7 (Manhattan distance)"
   ]
  },
  {
   "cell_type": "markdown",
   "metadata": {},
   "source": [
    "### Type conversion magic method\n",
    "__float__"
   ]
  },
  {
   "cell_type": "code",
   "execution_count": 444,
   "metadata": {},
   "outputs": [
    {
     "name": "stdout",
     "output_type": "stream",
     "text": [
      "36.6\n"
     ]
    }
   ],
   "source": [
    "class Temperature:\n",
    "    def __init__(self, celsius):\n",
    "        self.celsius = celsius\n",
    "\n",
    "    def __float__(self):\n",
    "        return float(self.celsius)\n",
    "\n",
    "# Usage\n",
    "temp = Temperature(36.6)\n",
    "print(float(temp))  # Output: 36.6"
   ]
  },
  {
   "cell_type": "code",
   "execution_count": 445,
   "metadata": {},
   "outputs": [
    {
     "name": "stdout",
     "output_type": "stream",
     "text": [
      "0.85\n"
     ]
    }
   ],
   "source": [
    "class Probability:\n",
    "    def __init__(self, value):\n",
    "        self.value = value  # value should be between 0 and 1\n",
    "\n",
    "    def __float__(self):\n",
    "        return float(self.value)\n",
    "\n",
    "# Usage\n",
    "event_probability = Probability(0.85)\n",
    "print(float(event_probability))  # Output: 0.85"
   ]
  },
  {
   "cell_type": "code",
   "execution_count": 446,
   "metadata": {},
   "outputs": [
    {
     "name": "stdout",
     "output_type": "stream",
     "text": [
      "0.75\n"
     ]
    }
   ],
   "source": [
    "class Fraction:\n",
    "    def __init__(self, numerator, denominator):\n",
    "        self.numerator = numerator\n",
    "        self.denominator = denominator\n",
    "\n",
    "    def __float__(self):\n",
    "        return self.numerator / self.denominator\n",
    "\n",
    "# Usage\n",
    "fraction = Fraction(3, 4)\n",
    "print(float(fraction))  # Output: 0.75"
   ]
  },
  {
   "cell_type": "markdown",
   "metadata": {},
   "source": [
    "### Type conversion magic method\n",
    "__bool__"
   ]
  },
  {
   "cell_type": "code",
   "execution_count": 447,
   "metadata": {},
   "outputs": [
    {
     "name": "stdout",
     "output_type": "stream",
     "text": [
      "Account is in good standing.\n"
     ]
    }
   ],
   "source": [
    "class BankAccount:\n",
    "    def __init__(self, balance):\n",
    "        self.balance = balance\n",
    "\n",
    "    def __bool__(self):\n",
    "        return self.balance > 0\n",
    "\n",
    "# Usage\n",
    "account = BankAccount(100)\n",
    "if account:\n",
    "    print(\"Account is in good standing.\")\n",
    "else:\n",
    "    print(\"Account is overdrawn or empty.\")"
   ]
  },
  {
   "cell_type": "code",
   "execution_count": 448,
   "metadata": {},
   "outputs": [
    {
     "name": "stdout",
     "output_type": "stream",
     "text": [
      "The group is not empty.\n"
     ]
    }
   ],
   "source": [
    "class Group:\n",
    "    def __init__(self, members):\n",
    "        self.members = members\n",
    "\n",
    "    def __bool__(self):\n",
    "        return len(self.members) > 0\n",
    "\n",
    "# Usage\n",
    "family = Group([\"Alice\", \"Bob\"])\n",
    "if family:\n",
    "    print(\"The group is not empty.\")\n",
    "else:\n",
    "    print(\"The group is empty.\")"
   ]
  },
  {
   "cell_type": "code",
   "execution_count": 449,
   "metadata": {},
   "outputs": [
    {
     "name": "stdout",
     "output_type": "stream",
     "text": [
      "String is not empty.\n"
     ]
    }
   ],
   "source": [
    "class CustomString:\n",
    "    def __init__(self, text):\n",
    "        self.text = text\n",
    "\n",
    "    def __bool__(self):\n",
    "        return bool(self.text)  # or simply: return len(self.text) > 0\n",
    "\n",
    "# Usage\n",
    "my_string = CustomString(\"Hello\")\n",
    "if my_string:\n",
    "    print(\"String is not empty.\")\n",
    "else:\n",
    "    print(\"String is empty.\")"
   ]
  },
  {
   "cell_type": "markdown",
   "metadata": {},
   "source": [
    "### Type conversion magic method\n",
    "__complex__"
   ]
  },
  {
   "cell_type": "code",
   "execution_count": 450,
   "metadata": {},
   "outputs": [
    {
     "name": "stdout",
     "output_type": "stream",
     "text": [
      "(50+30j)\n"
     ]
    }
   ],
   "source": [
    "class ElectricalImpedance:\n",
    "    def __init__(self, resistance, reactance):\n",
    "        self.resistance = resistance  # Real part\n",
    "        self.reactance = reactance    # Imaginary part\n",
    "\n",
    "    def __complex__(self):\n",
    "        return complex(self.resistance, self.reactance)\n",
    "\n",
    "# Usage\n",
    "impedance = ElectricalImpedance(50, 30)\n",
    "complex_impedance = complex(impedance)\n",
    "print(complex_impedance)  # Output: (50+30j)"
   ]
  },
  {
   "cell_type": "markdown",
   "metadata": {},
   "source": [
    "### Callable Object magic method\n",
    "__call__"
   ]
  },
  {
   "cell_type": "code",
   "execution_count": 451,
   "metadata": {},
   "outputs": [
    {
     "name": "stdout",
     "output_type": "stream",
     "text": [
      "INFO: This is a log message.\n"
     ]
    }
   ],
   "source": [
    "class Logger:\n",
    "    def __init__(self, prefix):\n",
    "        self.prefix = prefix\n",
    "\n",
    "    def __call__(self, message):\n",
    "        print(f\"{self.prefix}: {message}\")\n",
    "\n",
    "# Usage\n",
    "logger = Logger(\"INFO\")\n",
    "logger(\"This is a log message.\")  # Output: INFO: This is a log message."
   ]
  },
  {
   "cell_type": "code",
   "execution_count": 452,
   "metadata": {},
   "outputs": [
    {
     "name": "stdout",
     "output_type": "stream",
     "text": [
      "1\n",
      "2\n"
     ]
    }
   ],
   "source": [
    "class Counter:\n",
    "    def __init__(self):\n",
    "        self.count = 0\n",
    "\n",
    "    def __call__(self):\n",
    "        self.count += 1\n",
    "        return self.count\n",
    "\n",
    "# Usage\n",
    "counter = Counter()\n",
    "print(counter())  # Output: 1\n",
    "print(counter())  # Output: 2"
   ]
  },
  {
   "cell_type": "code",
   "execution_count": 453,
   "metadata": {},
   "outputs": [
    {
     "name": "stdout",
     "output_type": "stream",
     "text": [
      "10\n",
      "15\n"
     ]
    }
   ],
   "source": [
    "class Multiplier:\n",
    "    def __init__(self, factor):\n",
    "        self.factor = factor\n",
    "\n",
    "    def __call__(self, x):\n",
    "        return x * self.factor\n",
    "\n",
    "# Usage\n",
    "double = Multiplier(2)\n",
    "triple = Multiplier(3)\n",
    "\n",
    "print(double(5))  # Output: 10\n",
    "print(triple(5))  # Output: 15"
   ]
  },
  {
   "cell_type": "markdown",
   "metadata": {},
   "source": [
    "### Context Manager magic methods\n",
    "__enter__ /\n",
    "__exit__"
   ]
  },
  {
   "cell_type": "code",
   "execution_count": 454,
   "metadata": {},
   "outputs": [],
   "source": [
    "class FileHandler:\n",
    "    def __init__(self, filename, mode):\n",
    "        self.filename = filename\n",
    "        self.mode = mode\n",
    "        self.file = None\n",
    "\n",
    "    def __enter__(self):\n",
    "        self.file = open(self.filename, self.mode)\n",
    "        return self.file\n",
    "\n",
    "    def __exit__(self, exc_type, exc_value, traceback):\n",
    "        if self.file:\n",
    "            self.file.close()\n",
    "\n",
    "# Usage\n",
    "with FileHandler('example.txt', 'w') as f:\n",
    "    f.write('Hello, world!')\n",
    "\n",
    "# The file is automatically closed after the with block"
   ]
  },
  {
   "cell_type": "markdown",
   "metadata": {},
   "source": [
    "### Attribute access\n",
    "__getattr__"
   ]
  },
  {
   "cell_type": "code",
   "execution_count": 455,
   "metadata": {},
   "outputs": [
    {
     "name": "stdout",
     "output_type": "stream",
     "text": [
      "I exist!\n",
      "Attribute 'some_random_attribute' not found, default value assigned!\n"
     ]
    }
   ],
   "source": [
    "class DynamicAttributes:\n",
    "    def __init__(self):\n",
    "        self.existing_attribute = \"I exist!\"\n",
    "\n",
    "    def __getattr__(self, name):\n",
    "        return f\"Attribute '{name}' not found, default value assigned!\"\n",
    "\n",
    "# Usage\n",
    "obj = DynamicAttributes()\n",
    "print(obj.existing_attribute)  # Regular attribute access\n",
    "print(obj.some_random_attribute)  # Triggers __getattr__"
   ]
  },
  {
   "cell_type": "markdown",
   "metadata": {},
   "source": [
    "### Attribute access\n",
    "__setattr__"
   ]
  },
  {
   "cell_type": "code",
   "execution_count": 456,
   "metadata": {},
   "outputs": [],
   "source": [
    "class ProtectedAttributes:\n",
    "    def __setattr__(self, name, value):\n",
    "        if name == \"read_only_attribute\":\n",
    "            raise AttributeError(f\"{name} is read-only!\")\n",
    "        else:\n",
    "            super().__setattr__(name, value)\n",
    "\n",
    "# Usage\n",
    "obj = ProtectedAttributes()\n",
    "obj.new_attribute = \"New value\"  # Works normally\n",
    "# obj.read_only_attribute = \"Trying to change\"  # Raises AttributeError\n"
   ]
  },
  {
   "cell_type": "markdown",
   "metadata": {},
   "source": [
    "### Attribute access\n",
    "__delattr__"
   ]
  },
  {
   "cell_type": "code",
   "execution_count": 457,
   "metadata": {},
   "outputs": [
    {
     "name": "stdout",
     "output_type": "stream",
     "text": [
      "Deletion of important_attr is not allowed\n"
     ]
    }
   ],
   "source": [
    "class SafeDeletion:\n",
    "    def __init__(self):\n",
    "        self.important_attr = \"This should not be deleted\"\n",
    "\n",
    "    def __delattr__(self, name):\n",
    "        if name == \"important_attr\":\n",
    "            print(\"Deletion of important_attr is not allowed\")\n",
    "        else:\n",
    "            super().__delattr__(name)\n",
    "\n",
    "# Usage\n",
    "obj = SafeDeletion()\n",
    "del obj.important_attr  # Attempt to delete an important attribute"
   ]
  },
  {
   "cell_type": "markdown",
   "metadata": {},
   "source": [
    "### Container Types\n",
    "__len__ / __getitem__ : These methods allow an object to behave like a sequence (such as a list or tuple)."
   ]
  },
  {
   "cell_type": "code",
   "execution_count": 458,
   "metadata": {},
   "outputs": [
    {
     "name": "stdout",
     "output_type": "stream",
     "text": [
      "4\n",
      "3\n"
     ]
    }
   ],
   "source": [
    "class CustomList:\n",
    "    def __init__(self, initial_data):\n",
    "        self.data = initial_data\n",
    "\n",
    "    def __len__(self):\n",
    "        return len(self.data)\n",
    "\n",
    "    def __getitem__(self, key):\n",
    "        return self.data[key]\n",
    "\n",
    "# Usage\n",
    "my_list = CustomList([1, 2, 3, 4])\n",
    "print(len(my_list))  # Output: 4\n",
    "print(my_list[2])    # Output: 3"
   ]
  },
  {
   "cell_type": "markdown",
   "metadata": {},
   "source": [
    "### Container Types\n",
    "__setitem__ / __delitem__ : These methods are used to set and delete items in a mutable container."
   ]
  },
  {
   "cell_type": "code",
   "execution_count": null,
   "metadata": {},
   "outputs": [],
   "source": [
    "class CustomDict:\n",
    "    def __init__(self):\n",
    "        self.data = {}\n",
    "\n",
    "    def __setitem__(self, key, value):\n",
    "        self.data[key] = value\n",
    "\n",
    "    def __delitem__(self, key):\n",
    "        del self.data[key]\n",
    "\n",
    "    def __getitem__(self, key):\n",
    "        return self.data[key]\n",
    "\n",
    "# Usage\n",
    "my_dict = CustomDict()\n",
    "my_dict['key1'] = 'value1'\n",
    "print(my_dict['key1'])  # Output: 'value1'\n",
    "del my_dict['key1']     # Deletes 'key1'\n"
   ]
  },
  {
   "cell_type": "markdown",
   "metadata": {},
   "source": [
    "### Container types\n",
    "__contains__ : This method is used to implement membership tests using in and not in."
   ]
  },
  {
   "cell_type": "code",
   "execution_count": null,
   "metadata": {},
   "outputs": [],
   "source": [
    "class CustomSet:\n",
    "    def __init__(self, elements):\n",
    "        self.set_elements = set(elements)\n",
    "\n",
    "    def __contains__(self, element):\n",
    "        return element in self.set_elements\n",
    "\n",
    "# Usage\n",
    "my_set = CustomSet([1, 2, 3, 4])\n",
    "print(2 in my_set)   # Output: True\n",
    "print(5 in my_set)   # Output: False"
   ]
  },
  {
   "cell_type": "markdown",
   "metadata": {},
   "source": [
    "### Container types\n",
    "__iter__ : This method returns an iterator for the container."
   ]
  },
  {
   "cell_type": "code",
   "execution_count": 459,
   "metadata": {},
   "outputs": [
    {
     "name": "stdout",
     "output_type": "stream",
     "text": [
      "1\n",
      "2\n",
      "3\n",
      "4\n"
     ]
    }
   ],
   "source": [
    "class CustomRange:\n",
    "    def __init__(self, start, end):\n",
    "        self.start = start\n",
    "        self.end = end\n",
    "\n",
    "    def __iter__(self):\n",
    "        return iter(range(self.start, self.end))\n",
    "\n",
    "# Usage\n",
    "my_range = CustomRange(1, 5)\n",
    "for num in my_range:\n",
    "    print(num)  # Prints numbers from 1 to 4"
   ]
  },
  {
   "cell_type": "markdown",
   "metadata": {},
   "source": [
    "### Arithmetic Operation\n",
    "__add__"
   ]
  },
  {
   "cell_type": "code",
   "execution_count": 460,
   "metadata": {},
   "outputs": [
    {
     "name": "stdout",
     "output_type": "stream",
     "text": [
      "4 + 6i\n"
     ]
    }
   ],
   "source": [
    "class ComplexNumber:\n",
    "    def __init__(self, real, imag):\n",
    "        self.real = real\n",
    "        self.imag = imag\n",
    "\n",
    "    def __add__(self, other):\n",
    "        return ComplexNumber(self.real + other.real, self.imag + other.imag)\n",
    "\n",
    "    def __str__(self):\n",
    "        return f\"{self.real} + {self.imag}i\"\n",
    "\n",
    "# Usage\n",
    "c1 = ComplexNumber(1, 2)\n",
    "c2 = ComplexNumber(3, 4)\n",
    "result = c1 + c2\n",
    "print(result)  # Output: 4 + 6i\n"
   ]
  },
  {
   "cell_type": "markdown",
   "metadata": {},
   "source": [
    "### Arithmetic Operation\n",
    "__sub__"
   ]
  },
  {
   "cell_type": "code",
   "execution_count": 461,
   "metadata": {},
   "outputs": [
    {
     "name": "stdout",
     "output_type": "stream",
     "text": [
      "Point(3, 2)\n"
     ]
    }
   ],
   "source": [
    "class Point:\n",
    "    def __init__(self, x, y):\n",
    "        self.x = x\n",
    "        self.y = y\n",
    "\n",
    "    def __sub__(self, other):\n",
    "        return Point(self.x - other.x, self.y - other.y)\n",
    "\n",
    "    def __str__(self):\n",
    "        return f\"Point({self.x}, {self.y})\"\n",
    "\n",
    "# Usage\n",
    "p1 = Point(5, 4)\n",
    "p2 = Point(2, 2)\n",
    "result = p1 - p2\n",
    "print(result)  # Output: Point(3, 2)"
   ]
  },
  {
   "cell_type": "markdown",
   "metadata": {},
   "source": [
    "### Arithmetic Operations\n",
    "__mul__"
   ]
  },
  {
   "cell_type": "code",
   "execution_count": 462,
   "metadata": {},
   "outputs": [
    {
     "name": "stdout",
     "output_type": "stream",
     "text": [
      "[3, 6, 9]\n"
     ]
    }
   ],
   "source": [
    "class Vector:\n",
    "    def __init__(self, elements):\n",
    "        self.elements = elements\n",
    "\n",
    "    def __mul__(self, scalar):\n",
    "        return Vector([x * scalar for x in self.elements])\n",
    "\n",
    "    def __str__(self):\n",
    "        return str(self.elements)\n",
    "\n",
    "# Usage\n",
    "v = Vector([1, 2, 3])\n",
    "result = v * 3\n",
    "print(result)  # Output: [3, 6, 9]"
   ]
  },
  {
   "cell_type": "markdown",
   "metadata": {},
   "source": [
    "### Arithmetic Operation\n",
    "__truediv__"
   ]
  },
  {
   "cell_type": "code",
   "execution_count": 463,
   "metadata": {},
   "outputs": [
    {
     "name": "stdout",
     "output_type": "stream",
     "text": [
      "4/6\n"
     ]
    }
   ],
   "source": [
    "class Fraction:\n",
    "    def __init__(self, numerator, denominator):\n",
    "        self.numerator = numerator\n",
    "        self.denominator = denominator\n",
    "\n",
    "    def __truediv__(self, other):\n",
    "        return Fraction(self.numerator * other.denominator, self.denominator * other.numerator)\n",
    "\n",
    "    def __str__(self):\n",
    "        return f\"{self.numerator}/{self.denominator}\"\n",
    "\n",
    "# Usage\n",
    "f1 = Fraction(1, 2)\n",
    "f2 = Fraction(3, 4)\n",
    "result = f1 / f2\n",
    "print(result)  # Output: 4/6"
   ]
  },
  {
   "cell_type": "markdown",
   "metadata": {},
   "source": [
    "### Arithmetic Operation\n",
    "__mod__"
   ]
  },
  {
   "cell_type": "code",
   "execution_count": 464,
   "metadata": {},
   "outputs": [
    {
     "name": "stdout",
     "output_type": "stream",
     "text": [
      "Value: 4, Modulus: 3\n"
     ]
    }
   ],
   "source": [
    "class ModuloNumber:\n",
    "    def __init__(self, value, modulus):\n",
    "        self.value = value\n",
    "        self.modulus = modulus\n",
    "\n",
    "    def __mod__(self, other):\n",
    "        return ModuloNumber(self.value % other.value, self.modulus)\n",
    "\n",
    "    def __str__(self):\n",
    "        return f\"Value: {self.value}, Modulus: {self.modulus}\"\n",
    "\n",
    "# Usage\n",
    "num1 = ModuloNumber(10, 3)\n",
    "num2 = ModuloNumber(6, 3)\n",
    "result = num1 % num2\n",
    "print(result)  # Output: Value: 4, Modulus: 3"
   ]
  },
  {
   "cell_type": "markdown",
   "metadata": {},
   "source": [
    "### Comparision and Equality\n",
    "__eq__ / __ne__"
   ]
  },
  {
   "cell_type": "code",
   "execution_count": 465,
   "metadata": {},
   "outputs": [
    {
     "name": "stdout",
     "output_type": "stream",
     "text": [
      "True\n",
      "False\n",
      "True\n"
     ]
    }
   ],
   "source": [
    "class Book:\n",
    "    def __init__(self, title, author):\n",
    "        self.title = title\n",
    "        self.author = author\n",
    "\n",
    "    def __eq__(self, other):\n",
    "        return self.title == other.title and self.author == other.author\n",
    "\n",
    "    def __ne__(self, other):\n",
    "        return not self.__eq__(other)\n",
    "\n",
    "# Usage\n",
    "book1 = Book(\"1984\", \"George Orwell\")\n",
    "book2 = Book(\"1984\", \"George Orwell\")\n",
    "book3 = Book(\"Animal Farm\", \"George Orwell\")\n",
    "\n",
    "print(book1 == book2)  # True\n",
    "print(book1 == book3)  # False\n",
    "print(book1 != book3)  # True"
   ]
  },
  {
   "cell_type": "markdown",
   "metadata": {},
   "source": [
    "### Comparision and Equality\n",
    "__lt__ / __gt__"
   ]
  },
  {
   "cell_type": "code",
   "execution_count": 466,
   "metadata": {},
   "outputs": [
    {
     "name": "stdout",
     "output_type": "stream",
     "text": [
      "True\n",
      "False\n"
     ]
    }
   ],
   "source": [
    "class Age:\n",
    "    def __init__(self, years):\n",
    "        self.years = years\n",
    "\n",
    "    def __lt__(self, other):\n",
    "        return self.years < other.years\n",
    "\n",
    "    def __gt__(self, other):\n",
    "        return self.years > other.years\n",
    "\n",
    "# Usage\n",
    "age1 = Age(25)\n",
    "age2 = Age(30)\n",
    "\n",
    "print(age1 < age2)  # True\n",
    "print(age1 > age2)  # False"
   ]
  },
  {
   "cell_type": "markdown",
   "metadata": {},
   "source": [
    "### Comparision and Equality\n",
    "__le__ / __ge__"
   ]
  },
  {
   "cell_type": "code",
   "execution_count": 467,
   "metadata": {},
   "outputs": [
    {
     "name": "stdout",
     "output_type": "stream",
     "text": [
      "True\n",
      "False\n"
     ]
    }
   ],
   "source": [
    "class Score:\n",
    "    def __init__(self, value):\n",
    "        self.value = value\n",
    "\n",
    "    def __le__(self, other):\n",
    "        return self.value <= other.value\n",
    "\n",
    "    def __ge__(self, other):\n",
    "        return self.value >= other.value\n",
    "\n",
    "# Usage\n",
    "score1 = Score(75)\n",
    "score2 = Score(80)\n",
    "\n",
    "print(score1 <= score2)  # True\n",
    "print(score1 >= score2)  # False\n"
   ]
  },
  {
   "cell_type": "markdown",
   "metadata": {},
   "source": [
    "### Representation magic method\n",
    "__repr__"
   ]
  },
  {
   "cell_type": "code",
   "execution_count": 468,
   "metadata": {},
   "outputs": [
    {
     "name": "stdout",
     "output_type": "stream",
     "text": [
      "Point(3, 4)\n"
     ]
    }
   ],
   "source": [
    "class Point:\n",
    "    def __init__(self, x, y):\n",
    "        self.x = x\n",
    "        self.y = y\n",
    "\n",
    "    def __repr__(self):\n",
    "        return f\"Point({self.x}, {self.y})\"\n",
    "\n",
    "# Usage\n",
    "p = Point(3, 4)\n",
    "print(repr(p))  # Output: Point(3, 4)"
   ]
  },
  {
   "cell_type": "markdown",
   "metadata": {},
   "source": [
    "## Memoization vs lru_cache (Least Recently Used Cache)\n",
    "lru_cache function is from functools module\n",
    "\n",
    "Memoization and lru_cache are both techniques used in programming to optimize performance, particularly in reducing the computational cost of expensive function calls.\n",
    "\n",
    "- Implementation: Memoization requires manual implementation (caching logic), while lru_cache is a ready-to-use decorator.\n",
    "- Cache Eviction Policy: With manual memoization, you manage cache eviction (if at all), whereas lru_cache automatically handles cache eviction based on the LRU strategy.\n",
    "- Ease of Use: lru_cache is easier to use for basic caching needs, as it's a built-in feature and requires minimal code changes."
   ]
  },
  {
   "cell_type": "code",
   "execution_count": null,
   "metadata": {},
   "outputs": [],
   "source": [
    "# Factorial program with memoization using\n",
    "# decorators.\n",
    "\n",
    "# A decorator function for function 'f' passed\n",
    "# as parameter\n",
    "memory = {}\n",
    "def memoize_factorial(f):\n",
    "\n",
    "\t# This inner function has access to memory\n",
    "\t# and 'f'\n",
    "\tdef inner(num):\n",
    "\t\tif num not in memory:\n",
    "\t\t\tmemory[num] = f(num)\n",
    "\t\t\tprint('result saved in memory')\n",
    "\t\telse:\n",
    "\t\t\tprint('returning result from saved memory')\n",
    "\t\treturn memory[num]\n",
    "\n",
    "\treturn inner\n",
    "\n",
    "@memoize_factorial\n",
    "def facto(num):\n",
    "\tif num == 1:\n",
    "\t\treturn 1\n",
    "\telse:\n",
    "\t\treturn num * facto(num-1)\n",
    "\n",
    "print(facto(5))\n",
    "print(facto(5)) # directly coming from saved memory"
   ]
  },
  {
   "cell_type": "markdown",
   "metadata": {},
   "source": [
    "## From functools module"
   ]
  },
  {
   "cell_type": "markdown",
   "metadata": {},
   "source": [
    "### partial function"
   ]
  },
  {
   "cell_type": "code",
   "execution_count": 469,
   "metadata": {},
   "outputs": [
    {
     "name": "stdout",
     "output_type": "stream",
     "text": [
      "8\n",
      "10\n"
     ]
    }
   ],
   "source": [
    "from functools import partial\n",
    "\n",
    "def multiply(x, y):\n",
    "    return x * y\n",
    "\n",
    "# Create a partial function that always multiplies by 2\n",
    "double = partial(multiply, 2)\n",
    "\n",
    "# Usage\n",
    "print(double(4))  # Output: 8\n",
    "print(double(5))  # Output: 10"
   ]
  },
  {
   "cell_type": "code",
   "execution_count": 470,
   "metadata": {},
   "outputs": [
    {
     "name": "stdout",
     "output_type": "stream",
     "text": [
      "Hi, Alice!\n",
      "Hello, Bob!\n"
     ]
    }
   ],
   "source": [
    "# Partial functions can also be useful for setting default values for keyword arguments.\n",
    "\n",
    "def greet(name, greeting=\"Hello\"):\n",
    "    return f\"{greeting}, {name}!\"\n",
    "\n",
    "# Create a partial function for a specific greeting\n",
    "say_hi = partial(greet, greeting=\"Hi\")\n",
    "say_hello = partial(greet, greeting=\"Hello\")\n",
    "\n",
    "# Usage\n",
    "print(say_hi(name=\"Alice\"))    # Output: Hi, Alice!\n",
    "print(say_hello(name=\"Bob\"))  # Output: Hello, Bob!\n"
   ]
  },
  {
   "cell_type": "markdown",
   "metadata": {},
   "source": [
    "### reduce function\n",
    "It applies a function of two arguments cumulatively to the items of a sequence, from left to right, so as to reduce the sequence to a single value."
   ]
  },
  {
   "cell_type": "code",
   "execution_count": null,
   "metadata": {},
   "outputs": [],
   "source": [
    "from functools import reduce\n",
    "\n",
    "numbers = [1, 2, 3, 4, 5]\n",
    "total = reduce(lambda x, y: x + y, numbers)  # Sum of all elements in numbers\n",
    "print(total)  # Output: 15"
   ]
  },
  {
   "cell_type": "markdown",
   "metadata": {},
   "source": [
    "### lru_cache() decorator function\n",
    "This decorator provides a simple memoization cache for functions. It's useful for expensive computational tasks which are called repeatedly with the same arguments."
   ]
  },
  {
   "cell_type": "code",
   "execution_count": 471,
   "metadata": {},
   "outputs": [
    {
     "name": "stdout",
     "output_type": "stream",
     "text": [
      "55\n"
     ]
    }
   ],
   "source": [
    "from functools import lru_cache\n",
    "\n",
    "@lru_cache(maxsize=32)  # Cache up to 32 calls\n",
    "def fibonacci(n):\n",
    "    if n < 2:\n",
    "        return n\n",
    "    return fibonacci(n-1) + fibonacci(n-2)\n",
    "\n",
    "print(fibonacci(10))  # Output: 55"
   ]
  },
  {
   "cell_type": "code",
   "execution_count": null,
   "metadata": {},
   "outputs": [],
   "source": [
    "# Caching result for I/O bound functions\n",
    "from functools import lru_cache\n",
    "import requests\n",
    "\n",
    "@lru_cache(maxsize=50)\n",
    "def get_weather_data(city):\n",
    "    # Assume this function makes an API call to fetch weather data\n",
    "    response = requests.get(f\"http://api.weatherapi.com/v1/current.json?key=YOUR_API_KEY&q={city}\")\n",
    "    return response.json()\n",
    "\n",
    "# Usage\n",
    "weather_data = get_weather_data('New York')  # API call\n",
    "weather_data_cached = get_weather_data('New York')  # Returns cached data"
   ]
  },
  {
   "cell_type": "code",
   "execution_count": null,
   "metadata": {},
   "outputs": [],
   "source": [
    "# Caching method calls in class\n",
    "from functools import lru_cache\n",
    "\n",
    "class Calculator:\n",
    "    def __init__(self, base):\n",
    "        self.base = base\n",
    "\n",
    "    @lru_cache(maxsize=32)\n",
    "    def complex_calculation(self, x):\n",
    "        # Some expensive calculation based on self.base and x\n",
    "        return x ** self.base + x ** 0.5\n",
    "\n",
    "# Usage\n",
    "calc = Calculator(10)\n",
    "print(calc.complex_calculation(5))  # Expensive calculation\n",
    "print(calc.complex_calculation(5))  # Cached result\n"
   ]
  },
  {
   "cell_type": "markdown",
   "metadata": {},
   "source": [
    "### total_ordering decorator function\n",
    "This class decorator automatically supplies missing comparison methods, given that at least one of __lt__, __le__, __gt__, or __ge__ is defined, along with __eq__"
   ]
  },
  {
   "cell_type": "code",
   "execution_count": null,
   "metadata": {},
   "outputs": [],
   "source": [
    "from functools import total_ordering\n",
    "\n",
    "@total_ordering\n",
    "class Number:\n",
    "    def __init__(self, value):\n",
    "        self.value = value\n",
    "\n",
    "    def __eq__(self, other):\n",
    "        return self.value == other.value\n",
    "\n",
    "    def __lt__(self, other):\n",
    "        return self.value < other.value\n",
    "\n",
    "# Now, Number has all comparison methods\n"
   ]
  },
  {
   "cell_type": "markdown",
   "metadata": {},
   "source": [
    "### wraps() decorator function\n",
    "Used in defining decorator functions, this helps to preserve the metadata of the original function, such as the docstring, name, annotations, etc."
   ]
  },
  {
   "cell_type": "code",
   "execution_count": 472,
   "metadata": {},
   "outputs": [
    {
     "name": "stdout",
     "output_type": "stream",
     "text": [
      "example\n",
      "Docstring\n"
     ]
    }
   ],
   "source": [
    "from functools import wraps\n",
    "\n",
    "def my_decorator(f):\n",
    "    @wraps(f)\n",
    "    def wrapper(*args, **kwargs):\n",
    "        print('Calling decorated function')\n",
    "        return f(*args, **kwargs)\n",
    "    return wrapper\n",
    "\n",
    "@my_decorator\n",
    "def example():\n",
    "    \"\"\"Docstring\"\"\"\n",
    "    print('Called example function')\n",
    "\n",
    "print(example.__name__)  # Output: example\n",
    "print(example.__doc__)   # Output: Docstring"
   ]
  },
  {
   "cell_type": "markdown",
   "metadata": {},
   "source": [
    "### singledispatch function\n",
    "This decorator transforms a function into a generic function, allowing it to have different behaviors based upon the type of its first argument."
   ]
  },
  {
   "cell_type": "code",
   "execution_count": 473,
   "metadata": {},
   "outputs": [
    {
     "name": "stdout",
     "output_type": "stream",
     "text": [
      "called for integers\n",
      "default\n"
     ]
    }
   ],
   "source": [
    "from functools import singledispatch\n",
    "\n",
    "@singledispatch\n",
    "def func(arg):\n",
    "    print(\"default\")\n",
    "\n",
    "@func.register(int)\n",
    "def _(arg):\n",
    "    print(\"called for integers\")\n",
    "\n",
    "func(1)  # Output: called for integers\n",
    "func(\"string\")  # Output: default"
   ]
  },
  {
   "cell_type": "markdown",
   "metadata": {},
   "source": [
    "## Functions that return multiple values"
   ]
  },
  {
   "cell_type": "code",
   "execution_count": null,
   "metadata": {},
   "outputs": [],
   "source": [
    "def calculate_stats(numbers):\n",
    "    mean = sum(numbers) / len(numbers)\n",
    "    variance = sum((x - mean) ** 2 for x in numbers) / len(numbers)\n",
    "    standard_deviation = variance ** 0.5\n",
    "    return mean, standard_deviation\n",
    "\n",
    "# Usage\n",
    "numbers = [1, 2, 3, 4, 5]\n",
    "mean, std_dev = calculate_stats(numbers)\n",
    "print(f\"Mean: {mean}, Standard Deviation: {std_dev}\")"
   ]
  },
  {
   "cell_type": "code",
   "execution_count": null,
   "metadata": {},
   "outputs": [],
   "source": [
    "def get_user_info(user_id):\n",
    "    # Assume we retrieve user information from a database or some source\n",
    "    # For this example, the data is hardcoded\n",
    "    name = \"John Doe\"\n",
    "    age = 30\n",
    "    email = \"johndoe@example.com\"\n",
    "\n",
    "    # Return multiple values\n",
    "    return name, age, email\n",
    "\n",
    "# Usage\n",
    "user_id = 123\n",
    "name, age, email = get_user_info(user_id)\n",
    "\n",
    "print(f\"Name: {name}, Age: {age}, Email: {email}\")\n"
   ]
  },
  {
   "cell_type": "markdown",
   "metadata": {},
   "source": [
    "## Async functions\n",
    "\n",
    "- **Concurrent API Requests**: This pattern is common in services that need to aggregate data from multiple sources, like microservices architectures or data analysis applications.\n",
    "- **Efficiency**: Asynchronous I/O allows your program to make better use of network resources, fetching data from multiple sources in parallel without blocking the execution of your program.\n",
    "- **Scalability**: This approach scales well with the number of requests, as it doesn't create a new thread for each task, unlike traditional multi-threading approaches.\n",
    "- **Performance**: The async example performs multiple network requests concurrently, making it much faster for I/O-bound tasks like network requests, especially when dealing with multiple requests.\n",
    "- **Blocking vs Non-blocking**: In the synchronous example, each HTTP request blocks the program's execution until it is completed. In contrast, the async example allows other tasks to run while waiting for HTTP responses, making efficient use of time and resources."
   ]
  },
  {
   "cell_type": "code",
   "execution_count": null,
   "metadata": {},
   "outputs": [],
   "source": [
    "# basic async example\n",
    "# !pip install asyncio\n",
    "import asyncio\n",
    "\n",
    "async def hello_world():\n",
    "    print(\"Hello\")\n",
    "    await asyncio.sleep(1)\n",
    "    print(\"World\")\n",
    "\n",
    "# Running the async function\n",
    "asyncio.run(hello_world())"
   ]
  },
  {
   "cell_type": "code",
   "execution_count": null,
   "metadata": {},
   "outputs": [],
   "source": [
    "# Example code with multiple coroutines\n",
    "import asyncio\n",
    "\n",
    "async def count():\n",
    "    print(\"One\")\n",
    "    await asyncio.sleep(1)\n",
    "    print(\"Two\")\n",
    "\n",
    "async def main():\n",
    "    await asyncio.gather(\n",
    "        count(),\n",
    "        count(),\n",
    "        count()\n",
    "    )\n",
    "\n",
    "# Running the main async function\n",
    "asyncio.run(main())\n"
   ]
  },
  {
   "cell_type": "code",
   "execution_count": null,
   "metadata": {},
   "outputs": [],
   "source": [
    "# Real-world example: Fetching data asynchronously\n",
    "import asyncio\n",
    "import aiohttp\n",
    "\n",
    "async def fetch(url):\n",
    "    async with aiohttp.ClientSession() as session:\n",
    "        async with session.get(url) as response:\n",
    "            print(f\"Response from {url}: {response.status}\")\n",
    "            return await response.text()\n",
    "\n",
    "async def main():\n",
    "    urls = [\n",
    "        \"http://example.com\",\n",
    "        \"http://example.org\",\n",
    "        \"http://example.net\"\n",
    "    ]\n",
    "    await asyncio.gather(*(fetch(url) for url in urls))\n",
    "\n",
    "# Running the main async function\n",
    "asyncio.run(main())\n"
   ]
  },
  {
   "cell_type": "code",
   "execution_count": null,
   "metadata": {},
   "outputs": [],
   "source": [
    "# Another real-world example:\n",
    "\"\"\"In this script, get_multiple_data creates a list of tasks,\n",
    " where each task is a coroutine that fetches data from one of the URLs.\n",
    "  asyncio.gather then runs these tasks concurrently.\n",
    "   Finally, main collects and prints the results.\"\"\"\n",
    "\n",
    "import asyncio\n",
    "import aiohttp\n",
    "\n",
    "async def fetch_data(session, url):\n",
    "    async with session.get(url) as response:\n",
    "        data = await response.json()\n",
    "        return data\n",
    "\n",
    "async def get_multiple_data(urls):\n",
    "    async with aiohttp.ClientSession() as session:\n",
    "        tasks = [fetch_data(session, url) for url in urls]\n",
    "        results = await asyncio.gather(*tasks)\n",
    "        return results\n",
    "\n",
    "async def main():\n",
    "    urls = [\n",
    "        \"https://jsonplaceholder.typicode.com/posts\",\n",
    "        \"https://jsonplaceholder.typicode.com/comments\",\n",
    "        \"https://jsonplaceholder.typicode.com/albums\"\n",
    "    ]\n",
    "    results = await get_multiple_data(urls)\n",
    "    for result in results:\n",
    "        print(result[:1])  # Print the first item of each result for brevity\n",
    "\n",
    "# Run the main function\n",
    "asyncio.run(main())\n"
   ]
  },
  {
   "cell_type": "code",
   "execution_count": null,
   "metadata": {},
   "outputs": [],
   "source": [
    "# Example with async feature\n",
    "import asyncio\n",
    "import aiohttp\n",
    "\n",
    "# Async function to fetch data from a single URL\n",
    "async def fetch_data(session, url):\n",
    "    async with session.get(url) as response:\n",
    "        return await response.text()\n",
    "\n",
    "# Async function to handle multiple requests concurrently\n",
    "async def get_multiple_data(urls):\n",
    "    async with aiohttp.ClientSession() as session:\n",
    "        tasks = [fetch_data(session, url) for url in urls]\n",
    "        return await asyncio.gather(*tasks)\n",
    "\n",
    "# Main async function\n",
    "async def main():\n",
    "    urls = [\"http://example.com\", \"http://example.org\", \"http://example.net\"]\n",
    "    results = await get_multiple_data(urls)\n",
    "    for result in results:\n",
    "        print(result[:100])  # Print a snippet of each result\n",
    "\n",
    "# Run the main function\n",
    "asyncio.run(main())\n"
   ]
  },
  {
   "cell_type": "code",
   "execution_count": null,
   "metadata": {},
   "outputs": [],
   "source": [
    "# Example without async feature, uses requests library for http request\n",
    "import requests\n",
    "\n",
    "# Function to fetch data from a single URL\n",
    "def fetch_data(url):\n",
    "    response = requests.get(url)\n",
    "    return response.text\n",
    "\n",
    "# Function to handle multiple requests sequentially\n",
    "def get_multiple_data(urls):\n",
    "    results = []\n",
    "    for url in urls:\n",
    "        results.append(fetch_data(url))\n",
    "    return results\n",
    "\n",
    "# Main function\n",
    "def main():\n",
    "    urls = [\"http://example.com\", \"http://example.org\", \"http://example.net\"]\n",
    "    results = get_multiple_data(urls)\n",
    "    for result in results:\n",
    "        print(result[:100])  # Print a snippet of each result\n",
    "\n",
    "# Run the main function\n",
    "main()\n"
   ]
  },
  {
   "cell_type": "markdown",
   "metadata": {},
   "source": [
    "## Accessibility"
   ]
  },
  {
   "cell_type": "markdown",
   "metadata": {},
   "source": [
    "### Public vs Private"
   ]
  },
  {
   "cell_type": "code",
   "execution_count": null,
   "metadata": {},
   "outputs": [],
   "source": [
    "class MyCounter:\n",
    "    def __init__(self):\n",
    "        self.public_count = 0  # Public attribute\n",
    "        self._private_count = 0  # Non-public attribute (intended for internal use)\n",
    "\n",
    "    def increment(self):\n",
    "        self.public_count += 1\n",
    "        self._private_count += 1\n",
    "\n",
    "    def get_private_count(self):\n",
    "        return self._private_count\n",
    "\n",
    "# Using the class\n",
    "counter = MyCounter()\n",
    "counter.increment()\n",
    "print(counter.public_count)  # Accessible and intended for use\n",
    "print(counter.get_private_count())  # Accessible through a method\n",
    "\n",
    "# Accessing the non-public attribute directly (not recommended)\n",
    "print(counter._private_count)  # It's still accessible, but not a best practice\n"
   ]
  },
  {
   "cell_type": "code",
   "execution_count": null,
   "metadata": {},
   "outputs": [],
   "source": [
    "# Accessibility at functional level\n",
    "# Module: module.py\n",
    "def public_function():\n",
    "    print(\"This is a public function.\")\n",
    "\n",
    "def _private_function():\n",
    "    print(\"This is a non-public function.\")\n",
    "\n",
    "# The private function can still be accessed from outside the module, but by convention, it should not be\n",
    "import my_module\n",
    "\n",
    "my_module.public_function()  # Correct usage\n",
    "my_module._private_function() # Possible, but goes against convention\n"
   ]
  },
  {
   "cell_type": "markdown",
   "metadata": {},
   "source": [
    "### Avoid name mangling for stronger encapsulation\n",
    "\n",
    "using '__' front of variable or function name"
   ]
  },
  {
   "cell_type": "code",
   "execution_count": null,
   "metadata": {},
   "outputs": [],
   "source": [
    "\"\"\"In this code, __private_var and __private_method are name-mangled.\n",
    " Outside the class, they can't be accessed using obj.__private_var\n",
    "  or obj.__private_method(). Instead, they are accessible with a mangled\n",
    "   name like obj._MyClass__private_var and obj._MyClass__private_method(),\n",
    "    although using them this way is not recommended as it breaks encapsulation.\"\"\"\n",
    "\n",
    "class MyClass:\n",
    "    def __init__(self):\n",
    "        self.__private_var = 42\n",
    "\n",
    "    def __private_method(self):\n",
    "        print(\"This is a private method\")\n",
    "\n",
    "    def public_method(self):\n",
    "        self.__private_method()\n",
    "        print(\"Public method can access private variables:\", self.__private_var)\n",
    "\n",
    "obj = MyClass()\n",
    "obj.public_method()\n",
    "\n",
    "# The following will fail - AttributeError\n",
    "# print(obj.__private_var)\n",
    "# obj.__private_method()\n"
   ]
  },
  {
   "cell_type": "code",
   "execution_count": null,
   "metadata": {},
   "outputs": [],
   "source": [
    "class MyClass:\n",
    "    def __init__(self):\n",
    "        self.__private_method()\n",
    "\n",
    "    def __private_method(self):\n",
    "        print(\"This is a private method\")\n",
    "\n",
    "    def public_method(self):\n",
    "        self.__private_method()\n",
    "\n",
    "obj = MyClass()\n",
    "obj.public_method()  # Works fine\n",
    "\n",
    "# obj.__private_method()  # AttributeError: 'MyClass' object has no attribute '__private_method'\n"
   ]
  },
  {
   "cell_type": "markdown",
   "metadata": {},
   "source": [
    "## Control Flow\n",
    "- break statement\n",
    "- continue statement\n",
    "- if statement\n",
    "- if else statement\n",
    "- if elif else statement\n",
    "- nested if else statement\n",
    "- switch case statement\n",
    "- for loop\n",
    "- nested for loop\n",
    "- for loop with else block\n",
    "- while loop\n",
    "- while loop with else block\n",
    "- try except block\n",
    "- try except finally block\n",
    "- try except else finally block\n",
    "- catching exceptions\n",
    "- logging exception\n",
    "- raising exception\n",
    "- nested blocks"
   ]
  },
  {
   "cell_type": "markdown",
   "metadata": {},
   "source": [
    "### break statement"
   ]
  },
  {
   "cell_type": "code",
   "execution_count": null,
   "metadata": {},
   "outputs": [],
   "source": [
    "# Breaking out of a loop\n",
    "n = 0\n",
    "while True:\n",
    "    print(n)\n",
    "    n += 1\n",
    "    if n > 2:\n",
    "        break\n",
    "\n",
    "# Output:\n",
    "# 0\n",
    "# 1\n",
    "# 2"
   ]
  },
  {
   "cell_type": "markdown",
   "metadata": {},
   "source": [
    "### continue statement"
   ]
  },
  {
   "cell_type": "code",
   "execution_count": null,
   "metadata": {},
   "outputs": [],
   "source": [
    "# Skipping part of a loop\n",
    "n = 0\n",
    "while n < 5:\n",
    "    n += 1\n",
    "    if n == 3:\n",
    "        continue\n",
    "    print(n)\n",
    "\n",
    "# Output:\n",
    "# 1\n",
    "# 2\n",
    "# 4\n",
    "# 5"
   ]
  },
  {
   "cell_type": "markdown",
   "metadata": {},
   "source": [
    "### if statement"
   ]
  },
  {
   "cell_type": "code",
   "execution_count": null,
   "metadata": {},
   "outputs": [],
   "source": [
    "x = 10\n",
    "\n",
    "if x > 5:\n",
    "    print(\"x is greater than 5\")\n",
    "\n",
    "# Output: x is greater than 5"
   ]
  },
  {
   "cell_type": "markdown",
   "metadata": {},
   "source": [
    "### if else statement"
   ]
  },
  {
   "cell_type": "code",
   "execution_count": null,
   "metadata": {},
   "outputs": [],
   "source": [
    "age = 18\n",
    "\n",
    "if age >= 18:\n",
    "    print(\"You are an adult.\")\n",
    "else:\n",
    "    print(\"You are a minor.\")\n",
    "\n",
    "# Output: You are an adult.\n"
   ]
  },
  {
   "cell_type": "code",
   "execution_count": null,
   "metadata": {},
   "outputs": [],
   "source": [
    "username = \"admin\"\n",
    "password = \"secret\"\n",
    "\n",
    "if username == \"admin\" and password == \"secret\":\n",
    "    print(\"Access granted\")\n",
    "else:\n",
    "    print(\"Access denied\")\n",
    "\n",
    "# Output: Access granted\n"
   ]
  },
  {
   "cell_type": "code",
   "execution_count": null,
   "metadata": {},
   "outputs": [],
   "source": [
    "age = 20\n",
    "status = \"Adult\" if age >= 18 else \"Minor\"\n",
    "\n",
    "print(status)\n",
    "\n",
    "# Output: Adult"
   ]
  },
  {
   "cell_type": "markdown",
   "metadata": {},
   "source": [
    "### if elif else statement"
   ]
  },
  {
   "cell_type": "code",
   "execution_count": null,
   "metadata": {},
   "outputs": [],
   "source": [
    "score = 75\n",
    "\n",
    "if score >= 90:\n",
    "    grade = 'A'\n",
    "elif score >= 80:\n",
    "    grade = 'B'\n",
    "elif score >= 70:\n",
    "    grade = 'C'\n",
    "else:\n",
    "    grade = 'F'\n",
    "\n",
    "print(f\"Your grade is {grade}\")\n",
    "\n",
    "# Output: Your grade is C\n"
   ]
  },
  {
   "cell_type": "markdown",
   "metadata": {},
   "source": [
    "### nested if else statement"
   ]
  },
  {
   "cell_type": "code",
   "execution_count": null,
   "metadata": {},
   "outputs": [],
   "source": [
    "num = 15\n",
    "\n",
    "if num > 10:\n",
    "    if num % 2 == 0:\n",
    "        print(\"Number is greater than 10 and even\")\n",
    "    else:\n",
    "        print(\"Number is greater than 10 and odd\")\n",
    "else:\n",
    "    print(\"Number is 10 or less\")\n",
    "\n",
    "# Output: Number is greater than 10 and odd\n"
   ]
  },
  {
   "cell_type": "markdown",
   "metadata": {},
   "source": [
    "### switch case statement"
   ]
  },
  {
   "cell_type": "code",
   "execution_count": null,
   "metadata": {},
   "outputs": [],
   "source": [
    "def basic_switch(x):\n",
    "    match x:\n",
    "        case 1:\n",
    "            return \"One\"\n",
    "        case 2:\n",
    "            return \"Two\"\n",
    "        case 3:\n",
    "            return \"Three\"\n",
    "        case _:\n",
    "            return \"Something else\"\n",
    "\n",
    "# Usage\n",
    "print(basic_switch(1))  # Output: One\n",
    "print(basic_switch(4))  # Output: Something else\n"
   ]
  },
  {
   "cell_type": "code",
   "execution_count": null,
   "metadata": {},
   "outputs": [],
   "source": [
    "def match_with_types(value):\n",
    "    match value:\n",
    "        case int() as x if x > 0:\n",
    "            return \"Positive integer\"\n",
    "        case int() as x if x < 0:\n",
    "            return \"Negative integer\"\n",
    "        case float() as x if x > 0:\n",
    "            return \"Positive float\"\n",
    "        case float() as x if x < 0:\n",
    "            return \"Negative float\"\n",
    "        case _:\n",
    "            return \"Other\"\n",
    "\n",
    "# Usage\n",
    "print(match_with_types(10))       # Output: Positive integer\n",
    "print(match_with_types(-5))       # Output: Negative integer\n",
    "print(match_with_types(3.14))     # Output: Positive float\n",
    "print(match_with_types(\"Python\")) # Output: Other\n"
   ]
  },
  {
   "cell_type": "code",
   "execution_count": null,
   "metadata": {},
   "outputs": [],
   "source": [
    "def match_point(point):\n",
    "    match point:\n",
    "        case (0, 0):\n",
    "            return \"Origin\"\n",
    "        case (x, 0):\n",
    "            return f\"X-axis at x={x}\"\n",
    "        case (0, y):\n",
    "            return f\"Y-axis at y={y}\"\n",
    "        case (x, y):\n",
    "            return f\"Point at x={x}, y={y}\"\n",
    "        case _:\n",
    "            return \"Unknown\"\n",
    "\n",
    "# Usage\n",
    "print(match_point((0, 0)))        # Output: Origin\n",
    "print(match_point((5, 0)))        # Output: X-axis at x=5\n",
    "print(match_point((0, 7)))        # Output: Y-axis at y=7\n",
    "print(match_point((2, 3)))        # Output: Point at x=2, y=3\n"
   ]
  },
  {
   "cell_type": "markdown",
   "metadata": {},
   "source": [
    "### for loop"
   ]
  },
  {
   "cell_type": "code",
   "execution_count": null,
   "metadata": {},
   "outputs": [],
   "source": [
    "# Iterating over a list\n",
    "fruits = [\"apple\", \"banana\", \"cherry\"]\n",
    "for fruit in fruits:\n",
    "    print(fruit)\n",
    "\n",
    "# Output:\n",
    "# apple\n",
    "# banana\n",
    "# cherry"
   ]
  },
  {
   "cell_type": "code",
   "execution_count": null,
   "metadata": {},
   "outputs": [],
   "source": [
    "# Iterating over each character in a string\n",
    "for char in \"Hello\":\n",
    "    print(char)\n",
    "\n",
    "# Output:\n",
    "# H\n",
    "# e\n",
    "# l\n",
    "# l\n",
    "# o"
   ]
  },
  {
   "cell_type": "code",
   "execution_count": null,
   "metadata": {},
   "outputs": [],
   "source": [
    "# Iterating over a range of numbers\n",
    "for i in range(5):\n",
    "    print(i)\n",
    "\n",
    "# Output:\n",
    "# 0\n",
    "# 1\n",
    "# 2\n",
    "# 3\n",
    "# 4"
   ]
  },
  {
   "cell_type": "code",
   "execution_count": null,
   "metadata": {},
   "outputs": [],
   "source": [
    "# Iterating over a dictionary\n",
    "capitals = {\"USA\": \"Washington\", \"France\": \"Paris\", \"India\": \"New Delhi\"}\n",
    "for country in capitals:\n",
    "    print(f\"The capital of {country} is {capitals[country]}\")\n",
    "\n",
    "# Output:\n",
    "# The capital of USA is Washington\n",
    "# The capital of France is Paris\n",
    "# The capital of India is New Delhi\n"
   ]
  },
  {
   "cell_type": "code",
   "execution_count": null,
   "metadata": {},
   "outputs": [],
   "source": [
    "# Using enumerate for index and value\n",
    "colors = [\"red\", \"green\", \"blue\"]\n",
    "for index, color in enumerate(colors):\n",
    "    print(f\"{index}: {color}\")\n",
    "\n",
    "# Output:\n",
    "# 0: red\n",
    "# 1: green\n",
    "# 2: blue\n"
   ]
  },
  {
   "cell_type": "code",
   "execution_count": null,
   "metadata": {},
   "outputs": [],
   "source": [
    "# For loop with list comprehension\n",
    "squares = [x*x for x in range(10)]\n",
    "print(squares)\n",
    "\n",
    "# Output: [0, 1, 4, 9, 16, 25, 36, 49, 64, 81]"
   ]
  },
  {
   "cell_type": "markdown",
   "metadata": {},
   "source": [
    "### nested for loops"
   ]
  },
  {
   "cell_type": "code",
   "execution_count": null,
   "metadata": {},
   "outputs": [],
   "source": [
    "# Nested for loops\n",
    "for i in range(3):\n",
    "    for j in range(2):\n",
    "        print(f\"i: {i}, j: {j}\")\n",
    "\n",
    "# Output:\n",
    "# i: 0, j: 0\n",
    "# i: 0, j: 1\n",
    "# i: 1, j: 0\n",
    "# i: 1, j: 1\n",
    "# i: 2, j: 0\n",
    "# i: 2, j: 1"
   ]
  },
  {
   "cell_type": "markdown",
   "metadata": {},
   "source": [
    "### for loop with else block\n",
    "- The else block is executed after the loop completes its iteration over the entire sequence,\n",
    " unless the loop is terminated prematurely with a break statement."
   ]
  },
  {
   "cell_type": "code",
   "execution_count": null,
   "metadata": {},
   "outputs": [],
   "source": [
    "my_list = [1, 2, 3, 4, 5]\n",
    "search_item = 6\n",
    "\n",
    "for item in my_list:\n",
    "    if item == search_item:\n",
    "        print(f\"Found {search_item}\")\n",
    "        break\n",
    "else:\n",
    "    print(f\"{search_item} not found in list\")"
   ]
  },
  {
   "cell_type": "code",
   "execution_count": null,
   "metadata": {},
   "outputs": [],
   "source": [
    "for i in range(5):\n",
    "    if i == 3:\n",
    "        print(f\"Breaking at {i}\")\n",
    "        break\n",
    "    print(f\"Value: {i}\")\n",
    "else:\n",
    "    print(\"Loop completed without break\")\n",
    "\n",
    "# Output:\n",
    "# Value: 0\n",
    "# Value: 1\n",
    "# Value: 2\n",
    "# Breaking at 3\n"
   ]
  },
  {
   "cell_type": "code",
   "execution_count": null,
   "metadata": {},
   "outputs": [],
   "source": [
    "for i in range(3):\n",
    "    print(f\"Value: {i}\")\n",
    "else:\n",
    "    print(\"Loop completed without break\")\n",
    "\n",
    "# Output:\n",
    "# Value: 0\n",
    "# Value: 1\n",
    "# Value: 2\n",
    "# Loop completed without break"
   ]
  },
  {
   "cell_type": "markdown",
   "metadata": {},
   "source": [
    "### while loop"
   ]
  },
  {
   "cell_type": "code",
   "execution_count": null,
   "metadata": {},
   "outputs": [],
   "source": [
    "# Counting up to 5\n",
    "count = 1\n",
    "while count <= 5:\n",
    "    print(count)\n",
    "    count += 1\n",
    "\n",
    "# Output:\n",
    "# 1\n",
    "# 2\n",
    "# 3\n",
    "# 4\n",
    "# 5"
   ]
  },
  {
   "cell_type": "code",
   "execution_count": null,
   "metadata": {},
   "outputs": [],
   "source": [
    "# Breaking out of a loop\n",
    "n = 0\n",
    "while True:\n",
    "    print(n)\n",
    "    n += 1\n",
    "    if n > 2:\n",
    "        break\n",
    "\n",
    "# Output:\n",
    "# 0\n",
    "# 1\n",
    "# 2"
   ]
  },
  {
   "cell_type": "code",
   "execution_count": null,
   "metadata": {},
   "outputs": [],
   "source": [
    "# Skipping part of a loop\n",
    "n = 0\n",
    "while n < 5:\n",
    "    n += 1\n",
    "    if n == 3:\n",
    "        continue\n",
    "    print(n)\n",
    "\n",
    "# Output:\n",
    "# 1\n",
    "# 2\n",
    "# 4\n",
    "# 5"
   ]
  },
  {
   "cell_type": "code",
   "execution_count": null,
   "metadata": {},
   "outputs": [],
   "source": [
    "# Processing items in a list\n",
    "my_list = [1, 2, 3, 4, 5]\n",
    "while my_list:\n",
    "    print(my_list.pop(0))\n",
    "\n",
    "# Output:\n",
    "# 1\n",
    "# 2\n",
    "# 3\n",
    "# 4\n",
    "# 5"
   ]
  },
  {
   "cell_type": "markdown",
   "metadata": {},
   "source": [
    "### while loop with else block\n",
    "- The else block is executed when the loop condition becomes False."
   ]
  },
  {
   "cell_type": "code",
   "execution_count": null,
   "metadata": {},
   "outputs": [],
   "source": [
    "count = 0\n",
    "\n",
    "while count < 3:\n",
    "    print(f\"Count is {count}\")\n",
    "    count += 1\n",
    "else:\n",
    "    print(\"Loop exited normally\")\n",
    "\n",
    "# Output:\n",
    "# Count is 0\n",
    "# Count is 1\n",
    "# Count is 2\n",
    "# Loop exited normally"
   ]
  },
  {
   "cell_type": "code",
   "execution_count": null,
   "metadata": {},
   "outputs": [],
   "source": [
    "count = 0\n",
    "\n",
    "while count < 5:\n",
    "    print(f\"Count is {count}\")\n",
    "    if count == 2:\n",
    "        print(\"Breaking out of the loop\")\n",
    "        break\n",
    "    count += 1\n",
    "else:\n",
    "    print(\"Loop exited normally\")\n",
    "\n",
    "# Output:\n",
    "# Count is 0\n",
    "# Count is 1\n",
    "# Count is 2\n",
    "# Breaking out of the loop"
   ]
  },
  {
   "cell_type": "markdown",
   "metadata": {},
   "source": [
    "### try except block"
   ]
  },
  {
   "cell_type": "code",
   "execution_count": null,
   "metadata": {},
   "outputs": [],
   "source": [
    "try:\n",
    "    # Code that may raise an exception\n",
    "    result = 10 / 0\n",
    "except ZeroDivisionError:\n",
    "    # Code to handle the exception\n",
    "    print(\"Division by zero is not allowed.\")\n",
    "\n",
    "# Output: Division by zero is not allowed."
   ]
  },
  {
   "cell_type": "code",
   "execution_count": null,
   "metadata": {},
   "outputs": [],
   "source": [
    "try:\n",
    "    # This will raise a ValueError\n",
    "    number = int(\"not a number\")\n",
    "except ZeroDivisionError:\n",
    "    print(\"Division by zero!\")\n",
    "except ValueError:\n",
    "    print(\"Invalid input provided.\")\n",
    "\n",
    "# Output: Invalid input provided."
   ]
  },
  {
   "cell_type": "markdown",
   "metadata": {},
   "source": [
    "### try except finally block"
   ]
  },
  {
   "cell_type": "code",
   "execution_count": null,
   "metadata": {},
   "outputs": [],
   "source": [
    "try:\n",
    "    print(\"Trying to divide\")\n",
    "    result = 10 / 2\n",
    "except ZeroDivisionError:\n",
    "    print(\"Division by zero!\")\n",
    "else:\n",
    "    print(\"Division successful!\")\n",
    "finally:\n",
    "    print(\"This is executed no matter what.\")\n",
    "\n",
    "# Output:\n",
    "# Trying to divide\n",
    "# Division successful!\n",
    "# This is executed no matter what."
   ]
  },
  {
   "cell_type": "markdown",
   "metadata": {},
   "source": [
    "### try except else finally block"
   ]
  },
  {
   "cell_type": "code",
   "execution_count": null,
   "metadata": {},
   "outputs": [],
   "source": [
    "try:\n",
    "    print(\"Trying to divide\")\n",
    "    result = 10 / 2\n",
    "except ZeroDivisionError:\n",
    "    print(\"Division by zero!\")\n",
    "else:\n",
    "    print(\"Division successful!\")\n",
    "finally:\n",
    "    print(\"This is executed no matter what.\")\n",
    "\n",
    "# Output:\n",
    "# Trying to divide\n",
    "# Division successful!\n",
    "# This is executed no matter what."
   ]
  },
  {
   "cell_type": "code",
   "execution_count": null,
   "metadata": {},
   "outputs": [],
   "source": [
    "# Handling file operation\n",
    "try:\n",
    "    with open('file.txt', 'r') as file:\n",
    "        data = file.read()\n",
    "except FileNotFoundError:\n",
    "    print(\"File not found.\")\n",
    "else:\n",
    "    print(\"File read successfully.\")\n",
    "    # Process the data\n",
    "finally:\n",
    "    print(\"This block is executed no matter what.\")"
   ]
  },
  {
   "cell_type": "code",
   "execution_count": null,
   "metadata": {},
   "outputs": [],
   "source": [
    "# working with a database\n",
    "import sqlite3\n",
    "\n",
    "try:\n",
    "    conn = sqlite3.connect('example.db')\n",
    "    cursor = conn.cursor()\n",
    "    cursor.execute(\"SELECT * FROM some_table\")\n",
    "    results = cursor.fetchall()\n",
    "except sqlite3.DatabaseError as e:\n",
    "    print(f\"Database error: {e}\")\n",
    "else:\n",
    "    print(\"Query executed successfully.\")\n",
    "    for row in results:\n",
    "        print(row)\n",
    "finally:\n",
    "    conn.close()\n",
    "    print(\"Connection closed.\")"
   ]
  },
  {
   "cell_type": "code",
   "execution_count": null,
   "metadata": {},
   "outputs": [],
   "source": [
    "# complex calculation with error handling\n",
    "def divide(a, b):\n",
    "    try:\n",
    "        result = a / b\n",
    "    except ZeroDivisionError:\n",
    "        print(\"Division by zero is not allowed.\")\n",
    "    else:\n",
    "        print(f\"Result is {result}\")\n",
    "    finally:\n",
    "        print(\"Operation completed.\")\n",
    "\n",
    "divide(10, 2)\n",
    "divide(10, 0)"
   ]
  },
  {
   "cell_type": "markdown",
   "metadata": {},
   "source": [
    "### catching exceptions"
   ]
  },
  {
   "cell_type": "code",
   "execution_count": null,
   "metadata": {},
   "outputs": [],
   "source": [
    "try:\n",
    "    # Some risky code\n",
    "    undefined_variable\n",
    "except Exception as e:\n",
    "    print(f\"An error occurred: {e}\")\n",
    "\n",
    "# Output: An error occurred: name 'undefined_variable' is not defined"
   ]
  },
  {
   "cell_type": "markdown",
   "metadata": {},
   "source": [
    "### logging exceptions"
   ]
  },
  {
   "cell_type": "code",
   "execution_count": null,
   "metadata": {},
   "outputs": [],
   "source": [
    "try:\n",
    "    # Some risky code\n",
    "    undefined_variable\n",
    "except:       # when you log the exception you do not need to catch the exception, logging.exception will describe it\n",
    "    logging.exception(\"An error occurred\")\n",
    "\n",
    "# But remember this log will only work for logging.exception not for logging.error\n",
    "\n",
    "# Logged Output: NameError: An error occurred: name 'undefined_variable' is not defined"
   ]
  },
  {
   "cell_type": "markdown",
   "metadata": {},
   "source": [
    "### raising exceptions"
   ]
  },
  {
   "cell_type": "code",
   "execution_count": null,
   "metadata": {},
   "outputs": [],
   "source": [
    "try:\n",
    "    age = -1\n",
    "    if age < 0:\n",
    "        raise ValueError(\"Age cannot be negative.\")\n",
    "except ValueError as error:\n",
    "    print(error)\n",
    "\n",
    "# Output: Age cannot be negative."
   ]
  },
  {
   "cell_type": "markdown",
   "metadata": {},
   "source": [
    "### nested blocks"
   ]
  },
  {
   "cell_type": "code",
   "execution_count": null,
   "metadata": {},
   "outputs": [],
   "source": [
    "try:\n",
    "    num = int(input(\"Enter a number: \"))\n",
    "    try:\n",
    "        inverse = 1 / num\n",
    "    except ZeroDivisionError:\n",
    "        print(\"Cannot divide by zero.\")\n",
    "    else:\n",
    "        print(f\"Inverse: {inverse}\")\n",
    "except ValueError:\n",
    "    print(\"That's not a valid number!\")"
   ]
  },
  {
   "cell_type": "code",
   "execution_count": null,
   "metadata": {},
   "outputs": [],
   "source": [
    "numbers = [1, 2, 0, \"4\", 5, -1, 7, \"eight\"]\n",
    "\n",
    "for number in numbers:\n",
    "    try:\n",
    "        # Attempt conversion to integer, may raise ValueError\n",
    "        num = int(number)\n",
    "\n",
    "        if num < 0:\n",
    "            print(f\"Negative number {num} ignored.\")\n",
    "            continue  # Skip to the next iteration for negative numbers\n",
    "\n",
    "        try:\n",
    "            result = 10 / num\n",
    "        except ZeroDivisionError:\n",
    "            print(\"Division by zero encountered. Moving to next number.\")\n",
    "            continue  # Skip to the next iteration for zero division\n",
    "        else:\n",
    "            print(f\"Result of 10/{num} is {result}\")\n",
    "    except ValueError as e:\n",
    "        print(f\"Invalid value '{number}' encountered: {e}. Skipping to next.\")\n",
    "    finally:\n",
    "        print(\"This finally block executes after each iteration, regardless of exceptions.\")\n",
    "\n",
    "    # Break if the result equals 2.0 (10 divided by 5)\n",
    "    if number == 5:\n",
    "        print(\"Breaking the loop as 10 divided by 5 resulted in 2.0\")\n",
    "        break"
   ]
  },
  {
   "cell_type": "markdown",
   "metadata": {},
   "source": [
    "## User input"
   ]
  },
  {
   "cell_type": "code",
   "execution_count": null,
   "metadata": {},
   "outputs": [],
   "source": [
    "# Ask the user for their name\n",
    "name = input(\"Enter your name: \")\n",
    "print(f\"Hello, {name}!\")\n",
    "\n",
    "# Ask the user for their age and convert it to an integer\n",
    "age = input(\"Enter your age: \")\n",
    "age = int(age)\n",
    "print(f\"You are {age} years old.\")"
   ]
  },
  {
   "cell_type": "code",
   "execution_count": null,
   "metadata": {},
   "outputs": [],
   "source": [
    "# Ask for the user's name\n",
    "name = input(\"Enter your name: \")\n",
    "\n",
    "# Ask for the user's age with error handling\n",
    "while True:\n",
    "    try:\n",
    "        age = int(input(\"Enter your age: \"))\n",
    "        break  # Exit the loop if input is valid\n",
    "    except ValueError:\n",
    "        print(\"Please enter a valid number for your age.\")\n",
    "\n",
    "print(f\"Hello, {name}. You are {age} years old.\")"
   ]
  },
  {
   "cell_type": "code",
   "execution_count": null,
   "metadata": {},
   "outputs": [],
   "source": [
    "while True:\n",
    "    choice = input(\"Enter 'q' to quit or anything else to continue: \")\n",
    "    if choice == 'q':\n",
    "        break\n",
    "    print(\"You chose to continue!\")\n",
    "\n",
    "print(\"Program exited.\")"
   ]
  },
  {
   "cell_type": "code",
   "execution_count": null,
   "metadata": {},
   "outputs": [],
   "source": [
    "# File: mymodule.py\n",
    "def greet(name):\n",
    "    return f\"Hello, {name}! Welcome to the program.\"\n",
    "\n",
    "# File: main.py\n",
    "import mymodule\n",
    "\n",
    "def main():\n",
    "    name = input(\"Enter your name: \")\n",
    "    greeting = mymodule.greet(name)\n",
    "    print(greeting)\n",
    "\n",
    "if __name__ == \"__main__\":\n",
    "    main()"
   ]
  },
  {
   "cell_type": "markdown",
   "metadata": {},
   "source": [
    "## Command line argument"
   ]
  },
  {
   "cell_type": "code",
   "execution_count": null,
   "metadata": {},
   "outputs": [],
   "source": [
    "# File: example.py\n",
    "\n",
    "import sys\n",
    "\n",
    "def main():\n",
    "    # Check if at least one argument is provided\n",
    "    if len(sys.argv) > 1:\n",
    "        name = sys.argv[1]  # Get the first argument passed to the script\n",
    "        print(f\"Hello, {name}! Welcome to the program.\")\n",
    "    else:\n",
    "        print(\"No name provided. Usage: example.py <name>\")\n",
    "\n",
    "if __name__ == \"__main__\":\n",
    "    main()\n",
    "\n",
    "# Running the Script from the Command Line\n",
    "# python example.py John\n",
    "# Output:\n",
    "# Hello, John! Welcome to the program.\n",
    "\n",
    "# If you run the script without any arguments:\n",
    "# python example.py\n",
    "# Output:\n",
    "# No name provided. Usage: example.py <name>\n"
   ]
  }
 ],
 "metadata": {
  "kernelspec": {
   "display_name": "Python 3",
   "language": "python",
   "name": "python3"
  },
  "language_info": {
   "codemirror_mode": {
    "name": "ipython",
    "version": 3
   },
   "file_extension": ".py",
   "mimetype": "text/x-python",
   "name": "python",
   "nbconvert_exporter": "python",
   "pygments_lexer": "ipython3",
   "version": "3.11.3"
  }
 },
 "nbformat": 4,
 "nbformat_minor": 2
}
